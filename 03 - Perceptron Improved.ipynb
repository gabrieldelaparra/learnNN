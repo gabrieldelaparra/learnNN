{
 "cells": [
  {
   "cell_type": "markdown",
   "metadata": {},
   "source": [
    "# Mejoras al Perceptrón\n",
    "\n",
    "# Imports"
   ]
  },
  {
   "cell_type": "code",
   "execution_count": 6,
   "metadata": {},
   "outputs": [],
   "source": [
    "import random\n",
    "import numpy as np\n",
    "import matplotlib.pyplot as plt "
   ]
  },
  {
   "cell_type": "markdown",
   "metadata": {},
   "source": [
    "# Perceptrón simple\n",
    "\n",
    "En el primer notebook, cubrimos el entrenamiento y clasificación de un perceptrón simple. "
   ]
  },
  {
   "cell_type": "code",
   "execution_count": 81,
   "metadata": {},
   "outputs": [
    {
     "name": "stdout",
     "output_type": "stream",
     "text": [
      "inputs:  [0, 0] \tweights:\t [ 0.  0.] \tbias:\t -0.5\n",
      "inputs:  [0, 1] \tweights:\t [ 0.   0.5] \tbias:\t 0.0\n",
      "inputs:  [1, 0] \tweights:\t [ 0.   0.5] \tbias:\t 0.0\n",
      "inputs:  [1, 1] \tweights:\t [ 0.   0.5] \tbias:\t 0.0\n",
      "inputs:  [0, 0] \tweights:\t [ 0.   0.5] \tbias:\t -0.5\n",
      "inputs:  [0, 1] \tweights:\t [ 0.   0.5] \tbias:\t -0.5\n",
      "inputs:  [1, 0] \tweights:\t [ 0.5  0.5] \tbias:\t 0.0\n",
      "inputs:  [1, 1] \tweights:\t [ 0.5  0.5] \tbias:\t 0.0\n",
      "inputs:  [0, 0] \tweights:\t [ 0.5  0.5] \tbias:\t -0.5\n",
      "inputs:  [0, 1] \tweights:\t [ 0.5  0.5] \tbias:\t -0.5\n",
      "inputs:  [1, 0] \tweights:\t [ 0.5  0.5] \tbias:\t -0.5\n",
      "inputs:  [1, 1] \tweights:\t [ 0.5  0.5] \tbias:\t -0.5\n",
      "inputs:  [0, 0] \tweights:\t [ 0.5  0.5] \tbias:\t -0.5\n",
      "inputs:  [0, 1] \tweights:\t [ 0.5  0.5] \tbias:\t -0.5\n",
      "inputs:  [1, 0] \tweights:\t [ 0.5  0.5] \tbias:\t -0.5\n",
      "inputs:  [1, 1] \tweights:\t [ 0.5  0.5] \tbias:\t -0.5\n",
      "Success!\n"
     ]
    }
   ],
   "source": [
    "def step(x):\n",
    "    if x<0:\n",
    "        return 0\n",
    "    return 1\n",
    "\n",
    "trainingData = [\n",
    "    #([input values], expected classes)\n",
    "    ([0,0],0),\n",
    "    ([0,1],1),\n",
    "    ([1,0],1),\n",
    "    ([1,1],1),\n",
    "]\n",
    "\n",
    "learningRate = 0.5\n",
    "\n",
    "w = [0,0]\n",
    "b = 0\n",
    "\n",
    "while True:\n",
    "    old_w = w\n",
    "    old_b = b\n",
    "    \n",
    "    for i in range(len(trainingData)):\n",
    "        x, di = trainingData[i]\n",
    "        yi = x[0] * w[0] + x[1] * w[1] + b\n",
    "        error = di - step(yi)\n",
    "        w = w + learningRate * error * np.array(x)\n",
    "        b = b + learningRate * error\n",
    "\n",
    "        print(\"inputs: \", x, \"\\tweights:\\t\", w, \"\\tbias:\\t\", b)\n",
    "    \n",
    "    if((old_w == w).all() and old_b == b):\n",
    "        print(\"Success!\")\n",
    "        break;"
   ]
  },
  {
   "cell_type": "markdown",
   "metadata": {},
   "source": [
    "# Plots\n",
    "\n",
    "Posteriormente revisamos como plotear los puntos de entrada del perceptrón y la recta que divide las clases."
   ]
  },
  {
   "cell_type": "code",
   "execution_count": 82,
   "metadata": {},
   "outputs": [],
   "source": [
    "def plotPerceptron():\n",
    "    # Puntos:\n",
    "    inputs = [i[0] for i in trainingData]\n",
    "    colors = [i[1] for i in trainingData]\n",
    "    x = [i[0] for i in inputs]\n",
    "    y = [i[1] for i in inputs]\n",
    "    minX, maxX = np.array(x).min() - .1, np.array(x).max() + .1\n",
    "    minY, maxY = np.array(y).min() - .1, np.array(y).max() + .1\n",
    "\n",
    "    plt.ylim(minY, maxY)\n",
    "    plt.xlim(minX, maxX)\n",
    "    plt.scatter(x, y, c=colors, cmap=\"bwr\")\n",
    "\n",
    "    w1, w2 = w\n",
    "    x = -b / w1\n",
    "    y = -b / w2\n",
    "\n",
    "    d = y\n",
    "    c = -y / x\n",
    "\n",
    "    line_x_coords = np.array([-1, x+1])\n",
    "    line_y_coords = c * line_x_coords + d\n",
    "\n",
    "    plt.plot(line_x_coords, line_y_coords)\n",
    "    plt.show()"
   ]
  },
  {
   "cell_type": "code",
   "execution_count": 83,
   "metadata": {},
   "outputs": [
    {
     "data": {
      "image/png": "[encoded data removed]",
      "text/plain": [
       "<matplotlib.figure.Figure at 0x7fcc7a5a6198>"
      ]
     },
     "metadata": {},
     "output_type": "display_data"
    }
   ],
   "source": [
    "plotPerceptron()"
   ]
  },
  {
   "cell_type": "code",
   "execution_count": 85,
   "metadata": {},
   "outputs": [
    {
     "data": {
      "image/png": "[encoded data removed]",
      "text/plain": [
       "<matplotlib.figure.Figure at 0x7fcc7a936eb8>"
      ]
     },
     "metadata": {},
     "output_type": "display_data"
    }
   ],
   "source": [
    "plot2DPerceptron([i[0] for i in trainingData], [i[1] for i in trainingData], w, b) "
   ]
  },
  {
   "cell_type": "markdown",
   "metadata": {},
   "source": [
    "# Mejoras\n",
    "\n",
    "En este notebook le haremos unas mejoras a nuestro código del perceptrón.\n",
    "\n",
    "## Random weights\n",
    "\n",
    "Los pesos anteriormente partieron en cero. <br>\n",
    "Esto implica que siempre que se entrene este sistema con los mismos valores de entrada, se llegará al mismo resultado. <br>\n",
    "Esto puede ser negativo en algunos casos y se recomienda iniciar los pesos con valores random:\n",
    "\n",
    "`w = random.rand(2)`\n",
    "\n",
    "`b = random.random()`"
   ]
  },
  {
   "cell_type": "code",
   "execution_count": 11,
   "metadata": {},
   "outputs": [
    {
     "name": "stdout",
     "output_type": "stream",
     "text": [
      "weights:\t\t [ 0.17336202  0.24708112]\n",
      "bias:\t\t\t 0.8591689342595242\n"
     ]
    }
   ],
   "source": [
    "w = np.random.rand(2)\n",
    "b = random.random()\n",
    "\n",
    "print(\"weights:\\t\\t\", w)\n",
    "print(\"bias:\\t\\t\\t\", b)"
   ]
  },
  {
   "cell_type": "markdown",
   "metadata": {},
   "source": [
    "## Producto Punto\n",
    "\n",
    "En vez de realizar la multiplicación de las variables de entrada por los pesos de forma manual:\n",
    "\n",
    "`yi = xi[0] * w[0] + xi[1] * w[1] + b`\n",
    "    \n",
    "Se hará el producto punto:\n",
    "\n",
    "`yi = np.dot(w, x) + b`"
   ]
  },
  {
   "cell_type": "code",
   "execution_count": 16,
   "metadata": {},
   "outputs": [
    {
     "name": "stdout",
     "output_type": "stream",
     "text": [
      "math yi:\t\t 1.61065429291\n",
      "dot yi:\t\t\t 1.61065429291\n"
     ]
    }
   ],
   "source": [
    "# Valores ejemplo\n",
    "x = [0, 1]\n",
    "w = np.random.rand(2)\n",
    "\n",
    "# Calculo de forma explícita:\n",
    "yi = x[0] * w[0] + x[1] * w[1] + b\n",
    "\n",
    "# Calculo con producto punto:\n",
    "yi = np.dot(w, x) + b\n",
    "\n",
    "print(\"math yi:\\t\\t\", yi)\n",
    "print(\"dot yi:\\t\\t\\t\", yi)"
   ]
  },
  {
   "cell_type": "markdown",
   "metadata": {},
   "source": [
    "# Step\n",
    "\n",
    "La función que hemos utilizado funciona de forma perfecta.\n",
    "\n",
    "Únicamente para reducir el tamaño del código, la reemplazaremos por la siguiente función."
   ]
  },
  {
   "cell_type": "code",
   "execution_count": 12,
   "metadata": {},
   "outputs": [],
   "source": [
    "step = lambda x: 0 if x < 0 else 1"
   ]
  },
  {
   "cell_type": "markdown",
   "metadata": {},
   "source": [
    "# Random inputs\n",
    "\n",
    "Anteriormente hemos iterado por cada una de las entradas.\n",
    "\n",
    "Un problema de esto, es que, para el caso de la función OR, ninguno de los 3 primeros valores genera ningún cambio.\n",
    "\n",
    "Una forma de hacer más general el proceso, es acceder a los valores de entrada de forma aleatorio. \n",
    "\n",
    "Podemos hacer lo anterior con un `i` tomado al azar:"
   ]
  },
  {
   "cell_type": "code",
   "execution_count": 14,
   "metadata": {},
   "outputs": [],
   "source": [
    "i = random.randrange(0,len(trainingData))    "
   ]
  },
  {
   "cell_type": "markdown",
   "metadata": {},
   "source": [
    "# Numero de iteraciones\n",
    "\n",
    "En nuestros ejemplos anteriores, entrenamos hasta que el perceptrón aprendió a clasificar de forma correcta. \n",
    "\n",
    "Un problema de lo anterior, podría ser que no es posible separar de forma lineal un problema. \n",
    "\n",
    "Un ejemplo de lo anterior es la función `XOR`.\n",
    "\n",
    "Reemplazaremos:\n",
    "\n",
    "```python\n",
    "while True:\n",
    "...\n",
    "    if(no changes in weights):\n",
    "    break;\n",
    "```\n",
    "\n",
    "Por:\n",
    "```python\n",
    "for i in range(niters):\n",
    "    ...\n",
    "```"
   ]
  },
  {
   "cell_type": "markdown",
   "metadata": {},
   "source": [
    "# Refactor"
   ]
  },
  {
   "cell_type": "markdown",
   "metadata": {},
   "source": [
    "## Train Perceptron"
   ]
  },
  {
   "cell_type": "code",
   "execution_count": 78,
   "metadata": {},
   "outputs": [],
   "source": [
    "def trainPerceptron(trainingData, expected, learningRate, niters):\n",
    "    \n",
    "    step = lambda x: 0 if x < 0 else 1\n",
    "    \n",
    "    w = np.random.rand(len(trainingData[0]))\n",
    "    b = random.random()\n",
    "    \n",
    "    print(\"weights:\\t\", w, \"\\tbias:\\t\", b)\n",
    "\n",
    "    for n in range(niters):\n",
    "        old_w = w\n",
    "        old_b = b\n",
    "\n",
    "        i = random.randrange(0,len(trainingData)) \n",
    "        x = trainingData[i]\n",
    "        di = expected[i]\n",
    "        yi = np.dot(w, x) + b\n",
    "        error = di - step(yi)\n",
    "        w += learningRate * error * np.array(x)\n",
    "        b += learningRate * error\n",
    "\n",
    "    print(\"weights:\\t\", w, \"\\tbias:\\t\", b)\n",
    "    plot2DPerceptron(trainingData, expected, w, b)        "
   ]
  },
  {
   "cell_type": "markdown",
   "metadata": {},
   "source": [
    "## Plot 2D Perceptron"
   ]
  },
  {
   "cell_type": "code",
   "execution_count": 21,
   "metadata": {},
   "outputs": [],
   "source": [
    "def plot2DPerceptron(trainingData, expected, weights, bias):\n",
    "    # Puntos:\n",
    "    inputs = trainingData\n",
    "    colors = expected\n",
    "    \n",
    "    x = [i[0] for i in inputs]\n",
    "    y = [i[1] for i in inputs]\n",
    "    minX, maxX = np.array(x).min() - .1, np.array(x).max() + .1\n",
    "    minY, maxY = np.array(y).min() - .1, np.array(y).max() + .1\n",
    "\n",
    "    plt.ylim(minY, maxY)\n",
    "    plt.xlim(minX, maxX)\n",
    "    plt.scatter(x, y, c=colors, cmap=\"bwr\")\n",
    "\n",
    "    w1, w2 = weights\n",
    "    x = -bias / w1\n",
    "    y = -bias / w2\n",
    "\n",
    "    d = y\n",
    "    c = -y / x\n",
    "\n",
    "    line_x_coords = np.array([-1, x+1])\n",
    "    line_y_coords = c * line_x_coords + d\n",
    "\n",
    "    plt.plot(line_x_coords, line_y_coords)\n",
    "    plt.show()"
   ]
  },
  {
   "cell_type": "markdown",
   "metadata": {},
   "source": [
    "## Test"
   ]
  },
  {
   "cell_type": "code",
   "execution_count": 189,
   "metadata": {},
   "outputs": [],
   "source": [
    "trainingData = np.array([\n",
    "    [0,0],\n",
    "    [0,1],\n",
    "    [1,0],\n",
    "    [1,1],\n",
    "])\n",
    "\n",
    "expected = np.array([\n",
    "    0,\n",
    "    1,\n",
    "    1,\n",
    "    1,\n",
    "])\n",
    "learningRate = 0.2\n",
    "niters = 100"
   ]
  },
  {
   "cell_type": "code",
   "execution_count": 190,
   "metadata": {},
   "outputs": [
    {
     "name": "stdout",
     "output_type": "stream",
     "text": [
      "weights:\t [ 0.12669814  0.50777079] \tbias:\t 0.7503208401207069\n",
      "weights:\t [ 0.12669814  0.50777079] \tbias:\t -0.0496791598793\n"
     ]
    },
    {
     "data": {
      "image/png": "[encoded data removed]",
      "text/plain": [
       "<matplotlib.figure.Figure at 0x7fcc7a79bcc0>"
      ]
     },
     "metadata": {},
     "output_type": "display_data"
    }
   ],
   "source": [
    "trainPerceptron(trainingData, expected, learningRate, niters)"
   ]
  },
  {
   "cell_type": "code",
   "execution_count": 191,
   "metadata": {},
   "outputs": [
    {
     "name": "stdout",
     "output_type": "stream",
     "text": [
      "weights:\t [ 0.23545527  0.43239624] \tbias:\t 0.4497964050555465\n",
      "weights:\t [ 0.23545527  0.43239624] \tbias:\t -0.150203594944\n"
     ]
    },
    {
     "data": {
      "image/png": "[encoded data removed]",
      "text/plain": [
       "<matplotlib.figure.Figure at 0x7fcc7a6bde10>"
      ]
     },
     "metadata": {},
     "output_type": "display_data"
    }
   ],
   "source": [
    "trainPerceptron(trainingData, expected, learningRate, niters)"
   ]
  },
  {
   "cell_type": "code",
   "execution_count": null,
   "metadata": {},
   "outputs": [],
   "source": []
  },
  {
   "cell_type": "code",
   "execution_count": 10,
   "metadata": {},
   "outputs": [],
   "source": [
    "learningRate = 0.2"
   ]
  },
  {
   "cell_type": "markdown",
   "metadata": {},
   "source": [
    "## inputs.csv"
   ]
  },
  {
   "cell_type": "code",
   "execution_count": null,
   "metadata": {},
   "outputs": [],
   "source": [
    "!cat inputs.csv"
   ]
  },
  {
   "cell_type": "markdown",
   "metadata": {},
   "source": [
    "## read csv"
   ]
  },
  {
   "cell_type": "code",
   "execution_count": null,
   "metadata": {},
   "outputs": [],
   "source": [
    "inputs = np.genfromtxt('inputs.csv', delimiter=',')\n",
    "print(inputs)"
   ]
  },
  {
   "cell_type": "markdown",
   "metadata": {},
   "source": [
    "## input values"
   ]
  },
  {
   "cell_type": "code",
   "execution_count": null,
   "metadata": {},
   "outputs": [],
   "source": [
    "input = inputs[:,0:-1]\n",
    "print(input)"
   ]
  },
  {
   "cell_type": "markdown",
   "metadata": {},
   "source": [
    "## target values"
   ]
  },
  {
   "cell_type": "code",
   "execution_count": null,
   "metadata": {},
   "outputs": [],
   "source": [
    "target = inputs[:,-1:]\n",
    "print(target)"
   ]
  },
  {
   "cell_type": "markdown",
   "metadata": {},
   "source": [
    "## add bias"
   ]
  },
  {
   "cell_type": "code",
   "execution_count": null,
   "metadata": {},
   "outputs": [],
   "source": [
    "bias = np.ones((len(input),1))\n",
    "print(bias)\n",
    "print()\n",
    "input = np.concatenate( (input, bias), axis=1 )\n",
    "print(input)"
   ]
  },
  {
   "cell_type": "markdown",
   "metadata": {},
   "source": [
    "## weights"
   ]
  },
  {
   "cell_type": "code",
   "execution_count": null,
   "metadata": {},
   "outputs": [],
   "source": [
    "w = np.random.rand(3)\n",
    "print(w)"
   ]
  },
  {
   "cell_type": "markdown",
   "metadata": {},
   "source": [
    "## random values from input"
   ]
  },
  {
   "cell_type": "code",
   "execution_count": null,
   "metadata": {},
   "outputs": [],
   "source": [
    "i = random.randrange(0,len(input))    \n",
    "x, expected = input[i], target[i]\n",
    "print(x, expected)"
   ]
  },
  {
   "cell_type": "markdown",
   "metadata": {},
   "source": [
    "## dot product\n",
    "En vez de hacer todas las operaciones a mano para cada uno de los inputs, hacerlo directamente para todo el vector. Para esto requerimos el bias dentro del input."
   ]
  },
  {
   "cell_type": "code",
   "execution_count": null,
   "metadata": {},
   "outputs": [],
   "source": [
    "result = np.dot(w, x)\n",
    "print(result)"
   ]
  },
  {
   "cell_type": "markdown",
   "metadata": {},
   "source": [
    "## función de activación"
   ]
  },
  {
   "cell_type": "code",
   "execution_count": null,
   "metadata": {},
   "outputs": [],
   "source": [
    "def step(vector):\n",
    "    cp = np.where(vector > 0, 1, 0)\n",
    "    return cp"
   ]
  },
  {
   "cell_type": "markdown",
   "metadata": {},
   "source": [
    "## error"
   ]
  },
  {
   "cell_type": "code",
   "execution_count": null,
   "metadata": {},
   "outputs": [],
   "source": [
    "error = expected - step(result)\n",
    "print(error)"
   ]
  },
  {
   "cell_type": "markdown",
   "metadata": {},
   "source": [
    "## actualizar pesos"
   ]
  },
  {
   "cell_type": "code",
   "execution_count": null,
   "metadata": {},
   "outputs": [],
   "source": [
    "w += learningRate * error * x\n",
    "print(w)"
   ]
  },
  {
   "cell_type": "markdown",
   "metadata": {},
   "source": [
    "## Refactor"
   ]
  },
  {
   "cell_type": "code",
   "execution_count": null,
   "metadata": {},
   "outputs": [],
   "source": [
    "def perceptron(inputfile = \"inputs.csv\", learning_rate = 0.2, num_iters = 20):\n",
    "    inputs = np.genfromtxt(inputfile, delimiter=',')\n",
    "    input = inputs[:,0:-1]\n",
    "    target = inputs[:,-1:]\n",
    "    bias = np.ones((len(input),1))\n",
    "    input = np.concatenate( (input, bias), axis=1 )\n",
    "    w = np.random.rand(3)\n",
    "    for i in range(num_iters):\n",
    "        i = random.randrange(0,len(input))    \n",
    "        x, expected = input[i], target[i]\n",
    "        result = np.dot(w, x)\n",
    "        error = expected - step(result)\n",
    "        w += learningRate * error * x\n",
    "        print(x, w, error, expected - result)\n",
    "    return w"
   ]
  },
  {
   "cell_type": "code",
   "execution_count": null,
   "metadata": {},
   "outputs": [],
   "source": [
    "weights = perceptron()\n",
    "plotPerceptron()"
   ]
  },
  {
   "cell_type": "code",
   "execution_count": null,
   "metadata": {},
   "outputs": [],
   "source": []
  }
 ],
 "metadata": {
  "kernelspec": {
   "display_name": "Python 3",
   "language": "python",
   "name": "python3"
  },
  "language_info": {
   "codemirror_mode": {
    "name": "ipython",
    "version": 3
   },
   "file_extension": ".py",
   "mimetype": "text/x-python",
   "name": "python",
   "nbconvert_exporter": "python",
   "pygments_lexer": "ipython3",
   "version": "3.6.3"
  }
 },
 "nbformat": 4,
 "nbformat_minor": 2
}
