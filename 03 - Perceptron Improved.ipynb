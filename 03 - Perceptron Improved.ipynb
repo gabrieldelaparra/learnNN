{
 "cells": [
  {
   "cell_type": "markdown",
   "metadata": {},
   "source": [
    "# Recap"
   ]
  },
  {
   "cell_type": "code",
   "execution_count": 1,
   "metadata": {},
   "outputs": [],
   "source": [
    "import random\n",
    "import numpy as np\n",
    "import matplotlib.pyplot as plt "
   ]
  },
  {
   "cell_type": "markdown",
   "metadata": {},
   "source": [
    "In our last notebook, we covered the basics about a perceptron:"
   ]
  },
  {
   "cell_type": "code",
   "execution_count": 23,
   "metadata": {},
   "outputs": [
    {
     "name": "stdout",
     "output_type": "stream",
     "text": [
      "inputs:  [0, 0] \tweights:\t [ 0.87258713  0.00123648] \tbias:\t -0.03578737071471361\n",
      "inputs:  [0, 1] \tweights:\t [ 0.87258713  0.50123648] \tbias:\t 0.4642126292852864\n",
      "inputs:  [1, 0] \tweights:\t [ 0.87258713  0.50123648] \tbias:\t 0.4642126292852864\n",
      "inputs:  [1, 1] \tweights:\t [ 0.87258713  0.50123648] \tbias:\t 0.4642126292852864\n",
      "inputs:  [0, 0] \tweights:\t [ 0.87258713  0.50123648] \tbias:\t -0.03578737071471361\n",
      "inputs:  [0, 1] \tweights:\t [ 0.87258713  0.50123648] \tbias:\t -0.03578737071471361\n",
      "inputs:  [1, 0] \tweights:\t [ 0.87258713  0.50123648] \tbias:\t -0.03578737071471361\n",
      "inputs:  [1, 1] \tweights:\t [ 0.87258713  0.50123648] \tbias:\t -0.03578737071471361\n",
      "inputs:  [0, 0] \tweights:\t [ 0.87258713  0.50123648] \tbias:\t -0.03578737071471361\n",
      "inputs:  [0, 1] \tweights:\t [ 0.87258713  0.50123648] \tbias:\t -0.03578737071471361\n",
      "inputs:  [1, 0] \tweights:\t [ 0.87258713  0.50123648] \tbias:\t -0.03578737071471361\n",
      "inputs:  [1, 1] \tweights:\t [ 0.87258713  0.50123648] \tbias:\t -0.03578737071471361\n",
      "Success!\n"
     ]
    }
   ],
   "source": [
    "def step(x):\n",
    "    if x<0:\n",
    "        return 0\n",
    "    return 1\n",
    "\n",
    "trainingData = [\n",
    "    #([input values], expected classes)\n",
    "    ([0,0],0),\n",
    "    ([0,1],1),\n",
    "    ([1,0],1),\n",
    "    ([1,1],1),\n",
    "]\n",
    "\n",
    "learningRate = 0.5\n",
    "\n",
    "w = np.random.rand(2)\n",
    "b = random.random()\n",
    "\n",
    "while True:\n",
    "    old_w = w\n",
    "    old_b = b\n",
    "    \n",
    "    for i in range(len(trainingData)):\n",
    "        x, di = trainingData[i]\n",
    "        yi = x[0] * w[0] + x[1] * w[1] + b\n",
    "        error = di - step(yi)\n",
    "        w = w + learningRate * error * np.array(x)\n",
    "        b = b + learningRate * error\n",
    "\n",
    "        print(\"inputs: \", x, \"\\tweights:\\t\", w, \"\\tbias:\\t\", b)\n",
    "    \n",
    "    if((old_w == w).all() and old_b == b):\n",
    "        print(\"Success!\")\n",
    "        break;"
   ]
  },
  {
   "cell_type": "markdown",
   "metadata": {},
   "source": [
    "# Plots"
   ]
  },
  {
   "cell_type": "code",
   "execution_count": 7,
   "metadata": {},
   "outputs": [],
   "source": [
    "def plotPerceptron():\n",
    "    # Puntos:\n",
    "    inputs = [i[0] for i in trainingData]\n",
    "    colors = [i[1] for i in trainingData]\n",
    "    x = [i[0] for i in inputs]\n",
    "    y = [i[1] for i in inputs]\n",
    "    minX, maxX = np.array(x).min() - .1, np.array(x).max() + .1\n",
    "    minY, maxY = np.array(y).min() - .1, np.array(y).max() + .1\n",
    "\n",
    "    plt.ylim(minY, maxY)\n",
    "    plt.xlim(minX, maxX)\n",
    "    plt.scatter(x, y, c=colors, cmap=\"bwr\")\n",
    "\n",
    "    w1, w2 = w\n",
    "    x = -b / w1\n",
    "    y = -b / w2\n",
    "\n",
    "    d = y\n",
    "    c = -y / x\n",
    "\n",
    "    line_x_coords = np.array([-1, x+1])\n",
    "    line_y_coords = c * line_x_coords + d\n",
    "\n",
    "    plt.plot(line_x_coords, line_y_coords)\n",
    "    plt.show()"
   ]
  },
  {
   "cell_type": "code",
   "execution_count": 24,
   "metadata": {},
   "outputs": [
    {
     "data": {
      "image/png": "[encoded data removed]",
      "text/plain": [
       "<matplotlib.figure.Figure at 0x7fb592a1e4a8>"
      ]
     },
     "metadata": {},
     "output_type": "display_data"
    }
   ],
   "source": [
    "plotPerceptron()"
   ]
  },
  {
   "cell_type": "markdown",
   "metadata": {},
   "source": [
    "# Mejoras\n",
    "Algunos puntos importantes que revisamos durante este proceso:\n",
    "\n",
    "## Random weights\n",
    "\n",
    "Los pesos anteriormente partieron en cero. <br>\n",
    "Esto implica que siempre que se entrene este sistema con los mismos valores de entrada, se llegará al mismo resultado. <br>\n",
    "Esto puede ser negativo en algunos casos y se recomienda iniciar los pesos con valores random:\n",
    "\n",
    "`w = random.rand(2)`\n",
    "\n",
    "`b = random.random()`"
   ]
  },
  {
   "cell_type": "code",
   "execution_count": 12,
   "metadata": {},
   "outputs": [
    {
     "name": "stdout",
     "output_type": "stream",
     "text": [
      "weights:\t\t [ 0.61656278  0.32528571]\n",
      "bias:\t\t\t 0.6223595128694391\n"
     ]
    }
   ],
   "source": [
    "w = np.random.rand(2)\n",
    "b = random.random()\n",
    "print(\"weights:\\t\\t\", w)\n",
    "print(\"bias:\\t\\t\\t\", b)"
   ]
  },
  {
   "cell_type": "markdown",
   "metadata": {},
   "source": [
    "**Implemented**"
   ]
  },
  {
   "cell_type": "code",
   "execution_count": 68,
   "metadata": {},
   "outputs": [
    {
     "name": "stdout",
     "output_type": "stream",
     "text": [
      "weights:\t\t [ 0.15635308  0.21891553]\n",
      "bias:\t\t\t 0.10548450420896882\n",
      "inputs (xi):\t\t [1, 1]\n",
      "expected (di):\t\t 1\n",
      "output (yi):\t\t 0.480753115649\n",
      "error (di-step(yi)):\t 0\n",
      "new weigth:\t\t [ 0.15635308  0.21891553]\n",
      "new bias:\t\t 0.105484504209\n"
     ]
    }
   ],
   "source": [
    "trainingData = [\n",
    "    ([0,0],0),\n",
    "    ([0,1],1),\n",
    "    ([1,0],1),\n",
    "    ([1,1],1),\n",
    "]\n",
    "\n",
    "learningRate = 0.2\n",
    "\n",
    "w = np.random.rand(2)\n",
    "print(\"weights:\\t\\t\", w)\n",
    "b = random.random()\n",
    "print(\"bias:\\t\\t\\t\", b)\n",
    "\n",
    "x, di = trainingData[i]\n",
    "print(\"inputs (xi):\\t\\t\", x)\n",
    "print(\"expected (di):\\t\\t\", di)\n",
    "\n",
    "yi = x[0] * w[0] + x[1] * w[1] + b\n",
    "print(\"output (yi):\\t\\t\", yi)\n",
    "\n",
    "error = di - step(yi)\n",
    "print(\"error (di-step(yi)):\\t\", error)\n",
    "\n",
    "w = w + learningRate * error * np.array(x)\n",
    "print(\"new weigth:\\t\\t\", w)\n",
    "\n",
    "b = b + learningRate * error\n",
    "print(\"new bias:\\t\\t\", b)"
   ]
  },
  {
   "cell_type": "markdown",
   "metadata": {},
   "source": [
    "## Producto Punto\n",
    "\n",
    "En vez de realizar la multiplicación de las variables de entrada por los pesos de forma manual:\n",
    "\n",
    "`yi = xi[0] * w[0] + xi[1] * w[1] + b`\n",
    "    \n",
    "Se hará el producto punto:\n",
    "\n",
    "`yi = np.dot(w, x) + b`"
   ]
  },
  {
   "cell_type": "code",
   "execution_count": 11,
   "metadata": {},
   "outputs": [
    {
     "name": "stdout",
     "output_type": "stream",
     "text": [
      "math yi:\t\t 0.469514682536\n",
      "dot yi:\t\t\t 0.469514682536\n"
     ]
    }
   ],
   "source": [
    "# Valores ejemplo\n",
    "x = [0, 1]\n",
    "w = np.random.rand(2)\n",
    "\n",
    "# Calculo de forma explícita:\n",
    "yi = x[0] * w[0] + x[1] * w[1] + b\n",
    "print(\"math yi:\\t\\t\", yi)\n",
    "\n",
    "# Calculo con producto punto:\n",
    "yi = np.dot(w, x) + b\n",
    "print(\"dot yi:\\t\\t\\t\", yi)"
   ]
  },
  {
   "cell_type": "markdown",
   "metadata": {},
   "source": [
    "**Implemented**"
   ]
  },
  {
   "cell_type": "code",
   "execution_count": 30,
   "metadata": {},
   "outputs": [
    {
     "name": "stdout",
     "output_type": "stream",
     "text": [
      "weights:\t\t [ 0.00696555  0.19022055]\n",
      "bias:\t\t\t 0.07734880261049037\n",
      "inputs (xi):\t\t [1, 1]\n",
      "expected (di):\t\t 1\n",
      "output (yi):\t\t 0.274534907547\n",
      "error (di-step(yi)):\t 0\n",
      "new weigth:\t\t [ 0.00696555  0.19022055]\n",
      "new bias:\t\t 0.07734880261049037\n"
     ]
    }
   ],
   "source": [
    "trainingData = [\n",
    "    ([0,0],0),\n",
    "    ([0,1],1),\n",
    "    ([1,0],1),\n",
    "    ([1,1],1),\n",
    "]\n",
    "\n",
    "learningRate = 0.2\n",
    "\n",
    "w = np.random.rand(2)\n",
    "print(\"weights:\\t\\t\", w)\n",
    "b = random.random()\n",
    "print(\"bias:\\t\\t\\t\", b)\n",
    "\n",
    "x, di = trainingData[i]\n",
    "print(\"inputs (xi):\\t\\t\", x)\n",
    "print(\"expected (di):\\t\\t\", di)\n",
    "\n",
    "yi = np.dot(w, x) + b\n",
    "print(\"output (yi):\\t\\t\", yi)\n",
    "\n",
    "error = di - step(yi)\n",
    "print(\"error (di-step(yi)):\\t\", error)\n",
    "\n",
    "w = w + learningRate * error * np.array(x)\n",
    "print(\"new weigth:\\t\\t\", w)\n",
    "\n",
    "b = b + learningRate * error\n",
    "print(\"new bias:\\t\\t\", b)"
   ]
  }
 ],
 "metadata": {
  "kernelspec": {
   "display_name": "Python 3",
   "language": "python",
   "name": "python3"
  },
  "language_info": {
   "codemirror_mode": {
    "name": "ipython",
    "version": 3
   },
   "file_extension": ".py",
   "mimetype": "text/x-python",
   "name": "python",
   "nbconvert_exporter": "python",
   "pygments_lexer": "ipython3",
   "version": "3.6.3"
  }
 },
 "nbformat": 4,
 "nbformat_minor": 2
}
