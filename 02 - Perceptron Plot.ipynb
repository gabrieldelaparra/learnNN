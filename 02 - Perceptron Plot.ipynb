{
 "cells": [
  {
   "cell_type": "markdown",
   "metadata": {},
   "source": [
    "# Recap"
   ]
  },
  {
   "cell_type": "code",
   "execution_count": 1,
   "metadata": {},
   "outputs": [],
   "source": [
    "import random\n",
    "import numpy as np\n",
    "import matplotlib.pyplot as plt "
   ]
  },
  {
   "cell_type": "markdown",
   "metadata": {},
   "source": [
    "En nuestro último notebook, revisamos lo básico del perceptrón. \n",
    "\n",
    "El código que utilizamos para entrenar el perceptrón es el siguiente."
   ]
  },
  {
   "cell_type": "code",
   "execution_count": 2,
   "metadata": {},
   "outputs": [
    {
     "name": "stdout",
     "output_type": "stream",
     "text": [
      "weights:\t\t [0 0]\n",
      "bias:\t\t\t 0\n",
      "\n",
      "x:\t [0, 0] \tweights:\t -0.5 \t 0.0 \t 0.0\n",
      "x:\t [0, 1] \tweights:\t 0.0 \t 0.0 \t 0.5\n",
      "x:\t [1, 0] \tweights:\t 0.0 \t 0.0 \t 0.5\n",
      "x:\t [1, 1] \tweights:\t 0.0 \t 0.0 \t 0.5\n",
      "x:\t [0, 0] \tweights:\t -0.5 \t 0.0 \t 0.5\n",
      "x:\t [0, 1] \tweights:\t -0.5 \t 0.0 \t 0.5\n",
      "x:\t [1, 0] \tweights:\t 0.0 \t 0.5 \t 0.5\n",
      "x:\t [1, 1] \tweights:\t 0.0 \t 0.5 \t 0.5\n",
      "x:\t [0, 0] \tweights:\t -0.5 \t 0.5 \t 0.5\n",
      "x:\t [0, 1] \tweights:\t -0.5 \t 0.5 \t 0.5\n",
      "x:\t [1, 0] \tweights:\t -0.5 \t 0.5 \t 0.5\n",
      "x:\t [1, 1] \tweights:\t -0.5 \t 0.5 \t 0.5\n",
      "x:\t [0, 0] \tweights:\t -0.5 \t 0.5 \t 0.5\n",
      "x:\t [0, 1] \tweights:\t -0.5 \t 0.5 \t 0.5\n",
      "x:\t [1, 0] \tweights:\t -0.5 \t 0.5 \t 0.5\n",
      "x:\t [1, 1] \tweights:\t -0.5 \t 0.5 \t 0.5\n",
      "Success!\n"
     ]
    }
   ],
   "source": [
    "def step(x):\n",
    "    if x<0:\n",
    "        return 0\n",
    "    return 1\n",
    "\n",
    "trainingData = [\n",
    "    #([input values], expected classes)\n",
    "    ([0,0],0),\n",
    "    ([0,1],1),\n",
    "    ([1,0],1),\n",
    "    ([1,1],1),\n",
    "]\n",
    "\n",
    "learningRate = 0.5\n",
    "\n",
    "w = np.array([0, 0])\n",
    "b = 0\n",
    "print(\"weights:\\t\\t\", w)\n",
    "print(\"bias:\\t\\t\\t\", b)\n",
    "print()\n",
    "\n",
    "while True:\n",
    "    old_w = w\n",
    "    old_b = b\n",
    "    \n",
    "    for i in range(len(trainingData)):\n",
    "        x, di = trainingData[i]\n",
    "        yi = x[0] * w[0] + x[1] * w[1] + b\n",
    "        error = di - step(yi)\n",
    "        w = w + learningRate * error * np.array(x)\n",
    "        b = b + learningRate * error\n",
    "\n",
    "        print(\"x:\\t\", x, \"\\tweights:\\t\", b, \"\\t\", w[0], \"\\t\", w[1])\n",
    "    \n",
    "    if((old_w == w).all() and old_b == b):\n",
    "        print(\"Success!\")\n",
    "        break;"
   ]
  },
  {
   "cell_type": "markdown",
   "metadata": {},
   "source": [
    "# Plotear\n",
    "\n",
    "Si bien, el perceptrón parece funcionar, vamos a visualizar lo que hace. De esta forma podemos apoyar lo que entendemos de este.\n",
    "\n",
    "[Source](https://stats.stackexchange.com/questions/169343/how-to-plot-the-or-function-along-with-the-decision-boundary-of-a-perceptron)"
   ]
  },
  {
   "cell_type": "markdown",
   "metadata": {},
   "source": [
    "## Plot Puntos\n",
    "\n",
    "Empezaremos por visualizar los puntos de entrada."
   ]
  },
  {
   "cell_type": "code",
   "execution_count": 3,
   "metadata": {},
   "outputs": [
    {
     "data": {
      "image/png": "[encoded data removed]",
      "text/plain": [
       "<matplotlib.figure.Figure at 0x7fea1a1b1470>"
      ]
     },
     "metadata": {},
     "output_type": "display_data"
    }
   ],
   "source": [
    "inputs = [i[0] for i in trainingData]\n",
    "x = [i[0] for i in inputs]\n",
    "y = [i[1] for i in inputs]\n",
    "plt.scatter(x, y)\n",
    "plt.show()"
   ]
  },
  {
   "cell_type": "markdown",
   "metadata": {},
   "source": [
    "## Color a las clases\n",
    "\n",
    "Para separar los puntos que dan resultados 0 y 1, le agregaremos color a las salidas.\n",
    "\n",
    "Cambiamos también el [color map](https://matplotlib.org/examples/color/colormaps_reference.html) de los puntos para visualizarlos mejor."
   ]
  },
  {
   "cell_type": "code",
   "execution_count": 4,
   "metadata": {},
   "outputs": [
    {
     "data": {
      "image/png": "[encoded data removed]",
      "text/plain": [
       "<matplotlib.figure.Figure at 0x7fea1a459f98>"
      ]
     },
     "metadata": {},
     "output_type": "display_data"
    }
   ],
   "source": [
    "inputs = [i[0] for i in trainingData]\n",
    "colors = [i[1] for i in trainingData]\n",
    "x = [i[0] for i in inputs]\n",
    "y = [i[1] for i in inputs]\n",
    "plt.scatter(x, y, c=colors, cmap=\"bwr\")\n",
    "plt.show()"
   ]
  },
  {
   "cell_type": "markdown",
   "metadata": {},
   "source": [
    "## Plano\n",
    "\n",
    "Ahora dibujaremos un plano que simboliza la línea que divide nuestras clases."
   ]
  },
  {
   "cell_type": "code",
   "execution_count": 5,
   "metadata": {},
   "outputs": [
    {
     "data": {
      "image/png": "[encoded data removed]",
      "text/plain": [
       "<matplotlib.figure.Figure at 0x7fea181616d8>"
      ]
     },
     "metadata": {},
     "output_type": "display_data"
    }
   ],
   "source": [
    "w1, w2 = w\n",
    "x = -b / w1\n",
    "y = -b / w2\n",
    "\n",
    "d = y\n",
    "c = -y / x\n",
    "\n",
    "line_x_coords = np.array([0, x])\n",
    "line_y_coords = c * line_x_coords + d\n",
    "\n",
    "plt.plot(line_x_coords, line_y_coords)\n",
    "plt.show()"
   ]
  },
  {
   "cell_type": "markdown",
   "metadata": {},
   "source": [
    "## Planos y puntos"
   ]
  },
  {
   "cell_type": "code",
   "execution_count": 6,
   "metadata": {},
   "outputs": [
    {
     "data": {
      "image/png": "[encoded data removed]",
      "text/plain": [
       "<matplotlib.figure.Figure at 0x7fea180b1438>"
      ]
     },
     "metadata": {},
     "output_type": "display_data"
    }
   ],
   "source": [
    "# Puntos:\n",
    "inputs = [i[0] for i in trainingData]\n",
    "colors = [i[1] for i in trainingData]\n",
    "x = [i[0] for i in inputs]\n",
    "y = [i[1] for i in inputs]\n",
    "plt.scatter(x, y, c=colors, cmap=\"bwr\")\n",
    "\n",
    "w1, w2 = w\n",
    "x = -b / w1\n",
    "y = -b / w2\n",
    "\n",
    "d = y\n",
    "c = -y / x\n",
    "\n",
    "line_x_coords = np.array([0, x])\n",
    "line_y_coords = c * line_x_coords + d\n",
    "\n",
    "plt.plot(line_x_coords, line_y_coords)\n",
    "plt.show()"
   ]
  },
  {
   "cell_type": "markdown",
   "metadata": {},
   "source": [
    "## Ajustar el tamaño del plot"
   ]
  },
  {
   "cell_type": "code",
   "execution_count": 7,
   "metadata": {},
   "outputs": [
    {
     "data": {
      "image/png": "[encoded data removed]",
      "text/plain": [
       "<matplotlib.figure.Figure at 0x7fea1804b4a8>"
      ]
     },
     "metadata": {},
     "output_type": "display_data"
    }
   ],
   "source": [
    "# Puntos:\n",
    "inputs = [i[0] for i in trainingData]\n",
    "colors = [i[1] for i in trainingData]\n",
    "x = [i[0] for i in inputs]\n",
    "y = [i[1] for i in inputs]\n",
    "minX, maxX = np.array(x).min() - .1, np.array(x).max() + .1\n",
    "minY, maxY = np.array(y).min() - .1, np.array(y).max() + .1\n",
    "\n",
    "plt.ylim(minY, maxY)\n",
    "plt.xlim(minX, maxX)\n",
    "plt.scatter(x, y, c=colors, cmap=\"bwr\")\n",
    "\n",
    "w1, w2 = w\n",
    "x = -b / w1\n",
    "y = -b / w2\n",
    "\n",
    "d = y\n",
    "c = -y / x\n",
    "\n",
    "line_x_coords = np.array([0, x])\n",
    "line_y_coords = c * line_x_coords + d\n",
    "\n",
    "plt.plot(line_x_coords, line_y_coords)\n",
    "plt.show()"
   ]
  },
  {
   "cell_type": "markdown",
   "metadata": {},
   "source": [
    "## Refactor"
   ]
  },
  {
   "cell_type": "code",
   "execution_count": 8,
   "metadata": {},
   "outputs": [],
   "source": [
    "def plotPerceptron():\n",
    "    # Puntos:\n",
    "    inputs = [i[0] for i in trainingData]\n",
    "    colors = [i[1] for i in trainingData]\n",
    "    x = [i[0] for i in inputs]\n",
    "    y = [i[1] for i in inputs]\n",
    "    minX, maxX = np.array(x).min() - .1, np.array(x).max() + .1\n",
    "    minY, maxY = np.array(y).min() - .1, np.array(y).max() + .1\n",
    "\n",
    "    plt.ylim(minY, maxY)\n",
    "    plt.xlim(minX, maxX)\n",
    "    plt.scatter(x, y, c=colors, cmap=\"bwr\")\n",
    "\n",
    "    w1, w2 = w\n",
    "    x = -b / w1\n",
    "    y = -b / w2\n",
    "\n",
    "    d = y\n",
    "    c = -y / x\n",
    "\n",
    "    line_x_coords = np.array([-1, x+1])\n",
    "    line_y_coords = c * line_x_coords + d\n",
    "\n",
    "    plt.plot(line_x_coords, line_y_coords)\n",
    "    plt.show()"
   ]
  },
  {
   "cell_type": "code",
   "execution_count": 9,
   "metadata": {},
   "outputs": [
    {
     "data": {
      "image/png": "[encoded data removed]",
      "text/plain": [
       "<matplotlib.figure.Figure at 0x7fea18156b00>"
      ]
     },
     "metadata": {},
     "output_type": "display_data"
    }
   ],
   "source": [
    "plotPerceptron()"
   ]
  },
  {
   "cell_type": "markdown",
   "metadata": {},
   "source": [
    "# Resultados con funciones conocidas\n",
    "\n",
    "Ahora plotearemos los puntos y las rectas para dos funciones muy conocidas: `OR` y `AND`\n",
    "\n",
    "## OR"
   ]
  },
  {
   "cell_type": "code",
   "execution_count": 10,
   "metadata": {},
   "outputs": [
    {
     "name": "stdout",
     "output_type": "stream",
     "text": [
      "x:\t 1.0 \tweights:\t -0.2 \t 0.0 \t 0.0\n",
      "x:\t 1.0 \tweights:\t 0.0 \t 0.0 \t 0.2\n",
      "x:\t 1.0 \tweights:\t 0.0 \t 0.0 \t 0.2\n",
      "x:\t 1.0 \tweights:\t 0.0 \t 0.0 \t 0.2\n",
      "x:\t 1.0 \tweights:\t -0.2 \t 0.0 \t 0.2\n",
      "x:\t 1.0 \tweights:\t -0.2 \t 0.0 \t 0.2\n",
      "x:\t 1.0 \tweights:\t 0.0 \t 0.2 \t 0.2\n",
      "x:\t 1.0 \tweights:\t 0.0 \t 0.2 \t 0.2\n",
      "x:\t 1.0 \tweights:\t -0.2 \t 0.2 \t 0.2\n",
      "x:\t 1.0 \tweights:\t -0.2 \t 0.2 \t 0.2\n",
      "x:\t 1.0 \tweights:\t -0.2 \t 0.2 \t 0.2\n",
      "x:\t 1.0 \tweights:\t -0.2 \t 0.2 \t 0.2\n",
      "x:\t 1.0 \tweights:\t -0.2 \t 0.2 \t 0.2\n",
      "x:\t 1.0 \tweights:\t -0.2 \t 0.2 \t 0.2\n",
      "x:\t 1.0 \tweights:\t -0.2 \t 0.2 \t 0.2\n",
      "x:\t 1.0 \tweights:\t -0.2 \t 0.2 \t 0.2\n",
      "Success!\n"
     ]
    },
    {
     "data": {
      "image/png": "[encoded data removed]",
      "text/plain": [
       "<matplotlib.figure.Figure at 0x7fea17f170b8>"
      ]
     },
     "metadata": {},
     "output_type": "display_data"
    }
   ],
   "source": [
    "trainingData = [\n",
    "    ([0,0],0),\n",
    "    ([0,1],1),\n",
    "    ([1,0],1),\n",
    "    ([1,1],1),\n",
    "]\n",
    "learningRate = 0.2\n",
    "w = [0, 0]\n",
    "b = 0\n",
    "\n",
    "while True:\n",
    "    old_w = w\n",
    "    old_b = b\n",
    "    \n",
    "    for i in range(len(trainingData)):\n",
    "        xi, di = trainingData[i]\n",
    "        yi = xi[0] * w[0] + xi[1] * w[1] + b\n",
    "        error = di - step(yi)\n",
    "        w = w + learningRate * error * np.array(xi)\n",
    "        b = b + learningRate * error\n",
    "\n",
    "        print(\"x:\\t\", x, \"\\tweights:\\t\", b, \"\\t\", w[0], \"\\t\", w[1])\n",
    "    \n",
    "    if((old_w == w).all() and old_b == b):\n",
    "        print(\"Success!\")\n",
    "        plotPerceptron()\n",
    "        break;"
   ]
  },
  {
   "cell_type": "markdown",
   "metadata": {},
   "source": [
    "## AND"
   ]
  },
  {
   "cell_type": "code",
   "execution_count": 11,
   "metadata": {},
   "outputs": [
    {
     "name": "stdout",
     "output_type": "stream",
     "text": [
      "x:\t 1.0 \tweights:\t -0.2 \t 0.0 \t 0.0\n",
      "x:\t 1.0 \tweights:\t -0.2 \t 0.0 \t 0.0\n",
      "x:\t 1.0 \tweights:\t -0.2 \t 0.0 \t 0.0\n",
      "x:\t 1.0 \tweights:\t 0.0 \t 0.2 \t 0.2\n",
      "x:\t 1.0 \tweights:\t -0.2 \t 0.2 \t 0.2\n",
      "x:\t 1.0 \tweights:\t -0.4 \t 0.2 \t 0.0\n",
      "x:\t 1.0 \tweights:\t -0.4 \t 0.2 \t 0.0\n",
      "x:\t 1.0 \tweights:\t -0.2 \t 0.4 \t 0.2\n",
      "x:\t 1.0 \tweights:\t -0.2 \t 0.4 \t 0.2\n",
      "x:\t 1.0 \tweights:\t -0.4 \t 0.4 \t 0.0\n",
      "x:\t 1.0 \tweights:\t -0.6000000000000001 \t 0.2 \t 0.0\n",
      "x:\t 1.0 \tweights:\t -0.4000000000000001 \t 0.4 \t 0.2\n",
      "x:\t 1.0 \tweights:\t -0.4000000000000001 \t 0.4 \t 0.2\n",
      "x:\t 1.0 \tweights:\t -0.4000000000000001 \t 0.4 \t 0.2\n",
      "x:\t 1.0 \tweights:\t -0.4000000000000001 \t 0.4 \t 0.2\n",
      "x:\t 1.0 \tweights:\t -0.4000000000000001 \t 0.4 \t 0.2\n",
      "Success!\n"
     ]
    },
    {
     "data": {
      "image/png": "[encoded data removed]",
      "text/plain": [
       "<matplotlib.figure.Figure at 0x7fea17f80ac8>"
      ]
     },
     "metadata": {},
     "output_type": "display_data"
    }
   ],
   "source": [
    "trainingData = [\n",
    "    ([0,0],0),\n",
    "    ([0,1],0),\n",
    "    ([1,0],0),\n",
    "    ([1,1],1),\n",
    "]\n",
    "learningRate = 0.2\n",
    "w = [0, 0]\n",
    "b = 0\n",
    "\n",
    "while True:\n",
    "    old_w = w\n",
    "    old_b = b\n",
    "    \n",
    "    for i in range(len(trainingData)):\n",
    "        xi, di = trainingData[i]\n",
    "        yi = xi[0] * w[0] + xi[1] * w[1] + b\n",
    "        error = di - step(yi)\n",
    "        w = w + learningRate * error * np.array(xi)\n",
    "        b = b + learningRate * error\n",
    "\n",
    "        print(\"x:\\t\", x, \"\\tweights:\\t\", b, \"\\t\", w[0], \"\\t\", w[1])\n",
    "    \n",
    "    if((old_w == w).all() and old_b == b):\n",
    "        print(\"Success!\")\n",
    "        plotPerceptron()\n",
    "        break;"
   ]
  }
 ],
 "metadata": {
  "kernelspec": {
   "display_name": "Python 3",
   "language": "python",
   "name": "python3"
  },
  "language_info": {
   "codemirror_mode": {
    "name": "ipython",
    "version": 3
   },
   "file_extension": ".py",
   "mimetype": "text/x-python",
   "name": "python",
   "nbconvert_exporter": "python",
   "pygments_lexer": "ipython3",
   "version": "3.6.3"
  }
 },
 "nbformat": 4,
 "nbformat_minor": 2
}
