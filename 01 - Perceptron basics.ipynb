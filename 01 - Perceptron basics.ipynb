{
 "cells": [
  {
   "cell_type": "markdown",
   "metadata": {},
   "source": [
    "# Perceptron\n",
    "\n",
    "[Source](https://blog.dbrgn.ch/2013/3/26/perceptrons-in-python/)\n",
    "\n",
    "[Source2](https://brilliant.org/wiki/perceptron/)"
   ]
  },
  {
   "cell_type": "code",
   "execution_count": 1,
   "metadata": {},
   "outputs": [],
   "source": [
    "import random\n",
    "import numpy as np\n",
    "import matplotlib.pyplot as plt "
   ]
  },
  {
   "cell_type": "markdown",
   "metadata": {},
   "source": [
    "# Modelo\n",
    "\n",
    "Idea general del perceptrón:\n",
    "* Es un algoritmo de aprendizaje supervisado para clasificación.\n",
    "* Es la suma de las entradas x<sub>i</sub> ponderadas por pesos w<sub>i</sub>.\n",
    "* Se ocupa una función de activación a la salida de la neurona, en este caso el escalón.\n",
    "\n",
    "El entrenamiento consiste en:\n",
    "* A partir de los datos de entrada, el objetivo es calcular los pesos.\n",
    "\n",
    "Una vez entrenado:\n",
    "* Clasifica datos nuevos."
   ]
  },
  {
   "cell_type": "markdown",
   "metadata": {},
   "source": [
    "![](images/perceptron.png)"
   ]
  },
  {
   "cell_type": "markdown",
   "metadata": {},
   "source": [
    "Vamos a necesitar:\n",
    "- Función que deseamos entrenar\n",
    "- Valores de entrenamiento\n",
    "- Pesos al azar\n",
    "- Función de activación\n",
    "- Hyper Parámetros"
   ]
  },
  {
   "cell_type": "markdown",
   "metadata": {},
   "source": [
    "## Función a entrenar: OR"
   ]
  },
  {
   "cell_type": "markdown",
   "metadata": {},
   "source": [
    "| A | B | A or B |\n",
    "|---|---|--------|\n",
    "| 0 | 0 | 0      |\n",
    "| 0 | 1 | 1      |\n",
    "| 1 | 0 | 1      |\n",
    "| 1 | 1 | 1      |"
   ]
  },
  {
   "cell_type": "markdown",
   "metadata": {},
   "source": [
    "## Valores de entrenamiento"
   ]
  },
  {
   "cell_type": "code",
   "execution_count": 2,
   "metadata": {},
   "outputs": [],
   "source": [
    "trainingData = [\n",
    "    #([valores de entrada], salida esperada)\n",
    "    ([0,0],0),\n",
    "    ([0,1],1),\n",
    "    ([1,0],1),\n",
    "    ([1,1],1),\n",
    "]"
   ]
  },
  {
   "cell_type": "markdown",
   "metadata": {},
   "source": [
    "## Pesos iniciales\n",
    "Un aspecto de considerar de nuestro problema es que tendremos 3 pesos:\n",
    "* 2 entradas: $w_1$ de $A$ y $w_2$ de $B$ (`A` y `B` en la tabla) \n",
    "* 1 de bías: $w_0$"
   ]
  },
  {
   "cell_type": "code",
   "execution_count": 3,
   "metadata": {},
   "outputs": [
    {
     "name": "stdout",
     "output_type": "stream",
     "text": [
      "Weights: [ 0.9791545   0.35063184]\n",
      "Bias: 0.7711181336406407\n"
     ]
    }
   ],
   "source": [
    "weights = np.random.rand(2)\n",
    "bias = random.random()\n",
    "print(\"Weights:\", weights)\n",
    "print(\"Bias:\", bias)"
   ]
  },
  {
   "cell_type": "markdown",
   "metadata": {},
   "source": [
    "## Funcion de activación"
   ]
  },
  {
   "cell_type": "code",
   "execution_count": 4,
   "metadata": {},
   "outputs": [],
   "source": [
    "def step(x):\n",
    "    if x<0:\n",
    "        return 0\n",
    "    return 1"
   ]
  },
  {
   "cell_type": "code",
   "execution_count": 5,
   "metadata": {},
   "outputs": [
    {
     "name": "stdout",
     "output_type": "stream",
     "text": [
      "0\n",
      "0\n",
      "1\n",
      "1\n",
      "1\n"
     ]
    }
   ],
   "source": [
    "print(step(-1))\n",
    "print(step(-0.1))\n",
    "print(step(0))\n",
    "print(step(0.1))\n",
    "print(step(1))"
   ]
  },
  {
   "cell_type": "markdown",
   "metadata": {},
   "source": [
    "## Hyper Parámetros"
   ]
  },
  {
   "cell_type": "code",
   "execution_count": 6,
   "metadata": {},
   "outputs": [],
   "source": [
    "learningRate = 0.2"
   ]
  },
  {
   "cell_type": "markdown",
   "metadata": {},
   "source": [
    "# Entrenamiento\n",
    "El entrenamiento está dado en 4 pasos:\n",
    "1. Empezar con valores al azar a los pesos $w(0)$ ($w_1$, $w_2$) y al bias $w_0$.\n",
    "2. Para cada entrada $x_i$, encontrar un arreglo de pesos $w$, tal que $w(t) \\cdot x_i + w_0 > 0$. Con $y_i$ la salida para la entrada $x_i$.\n",
    "3. Actualizar los pesos para la siguiente iteración:\n",
    "    - $w(t+1) = w(t) + \\alpha(d_i - y_i)x_i$\n",
    "    - $w_0(t+1) = w_0(t) + \\alpha(d_i - y_i)$\n",
    "4. Si el entrenamiento es offline (se entrenan con las mismas entradas), se repiten los pasos 2 y 3 hasta que se reduce el error lo suficiente.\n",
    "\n",
    "Desde los datos de entrenamiento tenemos:\n",
    "* $x_i$\n",
    "* $d_i$\n",
    "\n",
    "Para cada input, debemos calcular: \n",
    "* $y_i$\n",
    "\n",
    "Con los $y_i$, calculamos los nuevos pesos $w_i$."
   ]
  },
  {
   "cell_type": "markdown",
   "metadata": {},
   "source": [
    "## Ejemplo manual"
   ]
  },
  {
   "cell_type": "code",
   "execution_count": 47,
   "metadata": {},
   "outputs": [
    {
     "name": "stdout",
     "output_type": "stream",
     "text": [
      "weights: [0 0]\n",
      "bias: 0\n"
     ]
    }
   ],
   "source": [
    "trainingData = [\n",
    "    #([valores de entrada], salida esperada)\n",
    "    ([0,0],0),\n",
    "    ([0,1],1),\n",
    "    ([1,0],1),\n",
    "    ([1,1],1),\n",
    "]\n",
    "\n",
    "learningRate = 0.5\n",
    "\n",
    "w = np.array([0, 0])\n",
    "b = 0\n",
    "print(\"weights:\", w)\n",
    "print(\"bias:\", b)"
   ]
  },
  {
   "cell_type": "markdown",
   "metadata": {},
   "source": [
    "### Epoch 1; Iteración 1\n",
    "Valor entrenamiento $x_0$"
   ]
  },
  {
   "cell_type": "code",
   "execution_count": 8,
   "metadata": {},
   "outputs": [
    {
     "name": "stdout",
     "output_type": "stream",
     "text": [
      "xi: [0, 0] di 0\n"
     ]
    }
   ],
   "source": [
    "i = 0\n",
    "xi, di = trainingData[i]\n",
    "print(\"xi:\", xi, \"di\", di)"
   ]
  },
  {
   "cell_type": "code",
   "execution_count": 9,
   "metadata": {},
   "outputs": [
    {
     "name": "stdout",
     "output_type": "stream",
     "text": [
      "yi: 0\n"
     ]
    }
   ],
   "source": [
    "yi = xi[0] * w[0] + xi[1] * w[1] + b\n",
    "print(\"yi:\", yi)"
   ]
  },
  {
   "cell_type": "code",
   "execution_count": 10,
   "metadata": {},
   "outputs": [
    {
     "name": "stdout",
     "output_type": "stream",
     "text": [
      "di-step(yi): -1\n"
     ]
    }
   ],
   "source": [
    "error = di - step(yi)\n",
    "print(\"di-step(yi):\", error)"
   ]
  },
  {
   "cell_type": "code",
   "execution_count": 11,
   "metadata": {},
   "outputs": [
    {
     "name": "stdout",
     "output_type": "stream",
     "text": [
      "new weigth: [ 0.  0.]\n"
     ]
    }
   ],
   "source": [
    "w = w + learningRate * error * np.array(xi)\n",
    "print(\"new weigth:\", w)"
   ]
  },
  {
   "cell_type": "code",
   "execution_count": 12,
   "metadata": {},
   "outputs": [
    {
     "name": "stdout",
     "output_type": "stream",
     "text": [
      "new bias: -0.5\n"
     ]
    }
   ],
   "source": [
    "b = b + learningRate * error\n",
    "print(\"new bias:\", b)"
   ]
  },
  {
   "cell_type": "markdown",
   "metadata": {},
   "source": [
    "### Epoch 1; Iteración 2\n",
    "Valor entrenamiento $x_1$"
   ]
  },
  {
   "cell_type": "code",
   "execution_count": 13,
   "metadata": {},
   "outputs": [
    {
     "name": "stdout",
     "output_type": "stream",
     "text": [
      "xi: [0, 1] di 1\n",
      "yi: -0.5\n",
      "di-step(yi): 1\n",
      "new weigth: [ 0.   0.5]\n",
      "new bias: 0.0\n"
     ]
    }
   ],
   "source": [
    "i = 1\n",
    "xi, di = trainingData[i]\n",
    "print(\"xi:\", xi, \"di\", di)\n",
    "yi = xi[0] * w[0] + xi[1] * w[1] + b\n",
    "print(\"yi:\", yi)\n",
    "error = di - step(yi)\n",
    "print(\"di-step(yi):\", error)\n",
    "w = w + learningRate * error * np.array(xi)\n",
    "print(\"new weigth:\", w)\n",
    "b = b + learningRate * error\n",
    "print(\"new bias:\", b)"
   ]
  },
  {
   "cell_type": "markdown",
   "metadata": {},
   "source": [
    "### Epoch 1; Iteración 3\n",
    "Valor entrenamiento $x_2$"
   ]
  },
  {
   "cell_type": "code",
   "execution_count": 14,
   "metadata": {},
   "outputs": [
    {
     "name": "stdout",
     "output_type": "stream",
     "text": [
      "xi: [1, 0] di 1\n",
      "yi: 0.0\n",
      "di-step(yi): 0\n",
      "new weigth: [ 0.   0.5]\n",
      "new bias: 0.0\n"
     ]
    }
   ],
   "source": [
    "i = 2\n",
    "xi, di = trainingData[i]\n",
    "print(\"xi:\", xi, \"di\", di)\n",
    "yi = xi[0] * w[0] + xi[1] * w[1] + b\n",
    "print(\"yi:\", yi)\n",
    "error = di - step(yi)\n",
    "print(\"di-step(yi):\", error)\n",
    "w = w + learningRate * error * np.array(xi)\n",
    "print(\"new weigth:\", w)\n",
    "b = b + learningRate * error\n",
    "print(\"new bias:\", b)"
   ]
  },
  {
   "cell_type": "markdown",
   "metadata": {},
   "source": [
    "### Epoch 1; Iteración 4\n",
    "Valor entrenamiento $x_3$"
   ]
  },
  {
   "cell_type": "code",
   "execution_count": 15,
   "metadata": {},
   "outputs": [
    {
     "name": "stdout",
     "output_type": "stream",
     "text": [
      "xi: [1, 1] di 1\n",
      "yi: 0.5\n",
      "di-step(yi): 0\n",
      "new weigth: [ 0.   0.5]\n",
      "new bias: 0.0\n"
     ]
    }
   ],
   "source": [
    "i = 3\n",
    "xi, di = trainingData[i]\n",
    "print(\"xi:\", xi, \"di\", di)\n",
    "yi = xi[0] * w[0] + xi[1] * w[1] + b\n",
    "print(\"yi:\", yi)\n",
    "error = di - step(yi)\n",
    "print(\"di-step(yi):\", error)\n",
    "w = w + learningRate * error * np.array(xi)\n",
    "print(\"new weigth:\", w)\n",
    "b = b + learningRate * error\n",
    "print(\"new bias:\", b)"
   ]
  },
  {
   "cell_type": "markdown",
   "metadata": {},
   "source": [
    "### Epoch 2;\n",
    "Todos los valores de entrenamiento de nuevo."
   ]
  },
  {
   "cell_type": "code",
   "execution_count": 16,
   "metadata": {},
   "outputs": [
    {
     "name": "stdout",
     "output_type": "stream",
     "text": [
      "xi: [0, 0] di 0\n",
      "yi: 0.0\n",
      "di-step(yi): -1\n",
      "new weigth: [ 0.   0.5]\n",
      "new bias: -0.5\n",
      "\n",
      "xi: [0, 1] di 1\n",
      "yi: 0.0\n",
      "di-step(yi): 0\n",
      "new weigth: [ 0.   0.5]\n",
      "new bias: -0.5\n",
      "\n",
      "xi: [1, 0] di 1\n",
      "yi: -0.5\n",
      "di-step(yi): 1\n",
      "new weigth: [ 0.5  0.5]\n",
      "new bias: 0.0\n",
      "\n",
      "xi: [1, 1] di 1\n",
      "yi: 1.0\n",
      "di-step(yi): 0\n",
      "new weigth: [ 0.5  0.5]\n",
      "new bias: 0.0\n",
      "\n"
     ]
    }
   ],
   "source": [
    "for i in range(len(trainingData)):\n",
    "    xi, di = trainingData[i]\n",
    "    yi = xi[0] * w[0] + xi[1] * w[1] + b\n",
    "    error = di - step(yi)\n",
    "    w = w + learningRate * error * np.array(xi)\n",
    "    b = b + learningRate * error\n",
    "\n",
    "    print(\"xi:\", xi, \"di\", di)\n",
    "    print(\"yi:\", yi)\n",
    "    print(\"di-step(yi):\", error)\n",
    "    print(\"new weigth:\", w)\n",
    "    print(\"new bias:\", b)\n",
    "    print()"
   ]
  },
  {
   "cell_type": "markdown",
   "metadata": {},
   "source": [
    "### Epoch 3;\n",
    "Todos los valores de entrenamiento de nuevo. Esta vez, con print solo por la Epoch completa."
   ]
  },
  {
   "cell_type": "code",
   "execution_count": 17,
   "metadata": {},
   "outputs": [
    {
     "name": "stdout",
     "output_type": "stream",
     "text": [
      "xi: [0, 0] di 0\n",
      "yi: 0.0\n",
      "di-step(yi): -1\n",
      "new weigth: [ 0.5  0.5]\n",
      "new bias: -0.5\n",
      "\n",
      "xi: [0, 1] di 1\n",
      "yi: 0.0\n",
      "di-step(yi): 0\n",
      "new weigth: [ 0.5  0.5]\n",
      "new bias: -0.5\n",
      "\n",
      "xi: [1, 0] di 1\n",
      "yi: 0.0\n",
      "di-step(yi): 0\n",
      "new weigth: [ 0.5  0.5]\n",
      "new bias: -0.5\n",
      "\n",
      "xi: [1, 1] di 1\n",
      "yi: 0.5\n",
      "di-step(yi): 0\n",
      "new weigth: [ 0.5  0.5]\n",
      "new bias: -0.5\n",
      "\n"
     ]
    }
   ],
   "source": [
    "for i in range(len(trainingData)):\n",
    "    xi, di = trainingData[i]\n",
    "    yi = xi[0] * w[0] + xi[1] * w[1] + b\n",
    "    error = di - step(yi)\n",
    "    w = w + learningRate * error * np.array(xi)\n",
    "    b = b + learningRate * error\n",
    "\n",
    "    print(\"xi:\", xi, \"di\", di)\n",
    "    print(\"yi:\", yi)\n",
    "    print(\"di-step(yi):\", error)\n",
    "    print(\"new weigth:\", w)\n",
    "    print(\"new bias:\", b)\n",
    "    print()"
   ]
  },
  {
   "cell_type": "markdown",
   "metadata": {},
   "source": [
    "## Cuando detenerse?\n",
    "Después de varias iteraciones, los pesos convergen a un valor del cual después no se modifican. En este caso, iteraremos hasta que no haya cambio entre estos valores."
   ]
  },
  {
   "cell_type": "code",
   "execution_count": 18,
   "metadata": {},
   "outputs": [
    {
     "name": "stdout",
     "output_type": "stream",
     "text": [
      "x: [1, 1] w [ 0.5  0.5] -0.5\n",
      "Success!\n"
     ]
    }
   ],
   "source": [
    "while True:\n",
    "    old_w = w\n",
    "    old_b = b\n",
    "    \n",
    "    for i in range(len(trainingData)):\n",
    "        xi, di = trainingData[i]\n",
    "        yi = xi[0] * w[0] + xi[1] * w[1] + b\n",
    "        error = di - step(yi)\n",
    "        w = w + learningRate * error * np.array(xi)\n",
    "        b = b + learningRate * error\n",
    "\n",
    "    print(\"x:\", xi, \"w\", w, b)\n",
    "    \n",
    "    if((old_w == w).all() and old_b == b):\n",
    "        print(\"Success!\")\n",
    "        break;"
   ]
  },
  {
   "cell_type": "markdown",
   "metadata": {},
   "source": [
    "## Random inputs\n",
    "\n",
    "Para los 3 primeros valores de entrada, en la primera iteración, no se avanzó en nada. Esto puede pasar, sobre todo con miles de valores de entrada. Para generalizar más la solución, se recomienda tomar al azar los valores desde el set de entrada en cada iteración:\n",
    "\n",
    "`x, di = random.choice(trainingData)`\n",
    "\n",
    "Un problema de esto, es que puede que no se tenga avance entre dos iteraciones continuas. En ese caso, una forma de solucionar esto, puede ser iterando una cantidad determinada de veces."
   ]
  },
  {
   "cell_type": "code",
   "execution_count": 108,
   "metadata": {},
   "outputs": [
    {
     "name": "stdout",
     "output_type": "stream",
     "text": [
      "inputs (xi):\t [0, 0]\n",
      "expected (di):\t 0\n"
     ]
    }
   ],
   "source": [
    "x, di = random.choice(trainingData)\n",
    "print(\"inputs (xi):\\t\", x)\n",
    "print(\"expected (di):\\t\", di)"
   ]
  },
  {
   "cell_type": "markdown",
   "metadata": {},
   "source": [
    "**Implemented**"
   ]
  },
  {
   "cell_type": "code",
   "execution_count": 105,
   "metadata": {},
   "outputs": [
    {
     "name": "stdout",
     "output_type": "stream",
     "text": [
      "Success!\n"
     ]
    },
    {
     "data": {
      "image/png": "[encoded data removed]",
      "text/plain": [
       "<matplotlib.figure.Figure at 0x7fc006faca90>"
      ]
     },
     "metadata": {},
     "output_type": "display_data"
    }
   ],
   "source": [
    "trainingData = [\n",
    "    ([0,0],0),\n",
    "    ([0,1],1),\n",
    "    ([1,0],1),\n",
    "    ([1,1],1),\n",
    "]\n",
    "\n",
    "learningRate = 0.2\n",
    "\n",
    "w = np.random.rand(2)\n",
    "b = random.random()\n",
    "\n",
    "n = 100\n",
    "for i in range(n):\n",
    "    old_w = w\n",
    "    old_b = b\n",
    "    \n",
    "    x, di = random.choice(trainingData)\n",
    "    yi = np.dot(w, x) + b\n",
    "    error = di - step(yi)\n",
    "    w = w + learningRate * error * np.array(x)\n",
    "    b = b + learningRate * error\n",
    "    n = n - 1 \n",
    "    \n",
    "print(\"Success!\")\n",
    "plotPerceptron()\n"
   ]
  },
  {
   "cell_type": "code",
   "execution_count": 32,
   "metadata": {},
   "outputs": [],
   "source": [
    "learningRate = 0.2"
   ]
  },
  {
   "cell_type": "markdown",
   "metadata": {},
   "source": [
    "## inputs.csv"
   ]
  },
  {
   "cell_type": "code",
   "execution_count": 33,
   "metadata": {},
   "outputs": [
    {
     "name": "stdout",
     "output_type": "stream",
     "text": [
      "0,0,0\r\n",
      "0,1,1\r\n",
      "1,0,1\r\n",
      "1,1,1"
     ]
    }
   ],
   "source": [
    "!cat inputs.csv"
   ]
  },
  {
   "cell_type": "markdown",
   "metadata": {},
   "source": [
    "## read csv"
   ]
  },
  {
   "cell_type": "code",
   "execution_count": 34,
   "metadata": {},
   "outputs": [
    {
     "name": "stdout",
     "output_type": "stream",
     "text": [
      "[[ 0.  0.  0.]\n",
      " [ 0.  1.  1.]\n",
      " [ 1.  0.  1.]\n",
      " [ 1.  1.  1.]]\n"
     ]
    }
   ],
   "source": [
    "inputs = np.genfromtxt('inputs.csv', delimiter=',')\n",
    "print(inputs)"
   ]
  },
  {
   "cell_type": "markdown",
   "metadata": {},
   "source": [
    "## input values"
   ]
  },
  {
   "cell_type": "code",
   "execution_count": 35,
   "metadata": {},
   "outputs": [
    {
     "name": "stdout",
     "output_type": "stream",
     "text": [
      "[[ 0.  0.]\n",
      " [ 0.  1.]\n",
      " [ 1.  0.]\n",
      " [ 1.  1.]]\n"
     ]
    }
   ],
   "source": [
    "input = inputs[:,0:-1]\n",
    "print(input)"
   ]
  },
  {
   "cell_type": "markdown",
   "metadata": {},
   "source": [
    "## target values"
   ]
  },
  {
   "cell_type": "code",
   "execution_count": 36,
   "metadata": {},
   "outputs": [
    {
     "name": "stdout",
     "output_type": "stream",
     "text": [
      "[[ 0.]\n",
      " [ 1.]\n",
      " [ 1.]\n",
      " [ 1.]]\n"
     ]
    }
   ],
   "source": [
    "target = inputs[:,-1:]\n",
    "print(target)"
   ]
  },
  {
   "cell_type": "markdown",
   "metadata": {},
   "source": [
    "## add bias"
   ]
  },
  {
   "cell_type": "code",
   "execution_count": 37,
   "metadata": {},
   "outputs": [
    {
     "name": "stdout",
     "output_type": "stream",
     "text": [
      "[[ 1.]\n",
      " [ 1.]\n",
      " [ 1.]\n",
      " [ 1.]]\n",
      "\n",
      "[[ 0.  0.  1.]\n",
      " [ 0.  1.  1.]\n",
      " [ 1.  0.  1.]\n",
      " [ 1.  1.  1.]]\n"
     ]
    }
   ],
   "source": [
    "bias = np.ones((len(input),1))\n",
    "print(bias)\n",
    "print()\n",
    "input = np.concatenate( (input, bias), axis=1 )\n",
    "print(input)"
   ]
  },
  {
   "cell_type": "markdown",
   "metadata": {},
   "source": [
    "## weights"
   ]
  },
  {
   "cell_type": "code",
   "execution_count": 38,
   "metadata": {},
   "outputs": [
    {
     "name": "stdout",
     "output_type": "stream",
     "text": [
      "[ 0.13322716  0.15074299  0.18138765]\n"
     ]
    }
   ],
   "source": [
    "w = np.random.rand(3)\n",
    "print(w)"
   ]
  },
  {
   "cell_type": "markdown",
   "metadata": {},
   "source": [
    "## random values from input"
   ]
  },
  {
   "cell_type": "code",
   "execution_count": 39,
   "metadata": {},
   "outputs": [
    {
     "name": "stdout",
     "output_type": "stream",
     "text": [
      "[ 0.  1.  1.] [ 1.]\n"
     ]
    }
   ],
   "source": [
    "i = random.randrange(0,len(input))    \n",
    "x, expected = input[i], target[i]\n",
    "print(x, expected)"
   ]
  },
  {
   "cell_type": "markdown",
   "metadata": {},
   "source": [
    "## dot product\n",
    "En vez de hacer todas las operaciones a mano para cada uno de los inputs, hacerlo directamente para todo el vector. Para esto requerimos el bias dentro del input."
   ]
  },
  {
   "cell_type": "code",
   "execution_count": 40,
   "metadata": {},
   "outputs": [
    {
     "name": "stdout",
     "output_type": "stream",
     "text": [
      "0.332130635593\n"
     ]
    }
   ],
   "source": [
    "result = np.dot(w, x)\n",
    "print(result)"
   ]
  },
  {
   "cell_type": "markdown",
   "metadata": {},
   "source": [
    "## función de activación"
   ]
  },
  {
   "cell_type": "code",
   "execution_count": 41,
   "metadata": {},
   "outputs": [],
   "source": [
    "def step(vector):\n",
    "    cp = np.where(vector > 0, 1, 0)\n",
    "    return cp"
   ]
  },
  {
   "cell_type": "markdown",
   "metadata": {},
   "source": [
    "## error"
   ]
  },
  {
   "cell_type": "code",
   "execution_count": 42,
   "metadata": {},
   "outputs": [
    {
     "name": "stdout",
     "output_type": "stream",
     "text": [
      "[ 0.]\n"
     ]
    }
   ],
   "source": [
    "error = expected - step(result)\n",
    "print(error)"
   ]
  },
  {
   "cell_type": "markdown",
   "metadata": {},
   "source": [
    "## actualizar pesos"
   ]
  },
  {
   "cell_type": "code",
   "execution_count": 43,
   "metadata": {},
   "outputs": [
    {
     "name": "stdout",
     "output_type": "stream",
     "text": [
      "[ 0.13322716  0.15074299  0.18138765]\n"
     ]
    }
   ],
   "source": [
    "w += learningRate * error * x\n",
    "print(w)"
   ]
  },
  {
   "cell_type": "markdown",
   "metadata": {},
   "source": [
    "## Refactor"
   ]
  },
  {
   "cell_type": "code",
   "execution_count": 124,
   "metadata": {},
   "outputs": [],
   "source": [
    "def perceptron(inputfile = \"inputs.csv\", learning_rate = 0.2, num_iters = 20):\n",
    "    inputs = np.genfromtxt(inputfile, delimiter=',')\n",
    "    input = inputs[:,0:-1]\n",
    "    target = inputs[:,-1:]\n",
    "    bias = np.ones((len(input),1))\n",
    "    input = np.concatenate( (input, bias), axis=1 )\n",
    "    w = np.random.rand(3)\n",
    "    for i in range(num_iters):\n",
    "        i = random.randrange(0,len(input))    \n",
    "        x, expected = input[i], target[i]\n",
    "        result = np.dot(w, x)\n",
    "        error = expected - step(result)\n",
    "        w += learningRate * error * x\n",
    "        print(x, w, error, expected - result)\n",
    "    return w"
   ]
  },
  {
   "cell_type": "code",
   "execution_count": 129,
   "metadata": {},
   "outputs": [
    {
     "name": "stdout",
     "output_type": "stream",
     "text": [
      "[ 0.  0.  1.] [ 0.86263468  0.78441746  0.44091914] [-1.] [-0.64091914]\n",
      "[ 1.  1.  1.] [ 0.86263468  0.78441746  0.44091914] [ 0.] [-1.08797129]\n",
      "[ 1.  1.  1.] [ 0.86263468  0.78441746  0.44091914] [ 0.] [-1.08797129]\n",
      "[ 1.  1.  1.] [ 0.86263468  0.78441746  0.44091914] [ 0.] [-1.08797129]\n",
      "[ 1.  1.  1.] [ 0.86263468  0.78441746  0.44091914] [ 0.] [-1.08797129]\n",
      "[ 0.  0.  1.] [ 0.86263468  0.78441746  0.24091914] [-1.] [-0.44091914]\n",
      "[ 0.  0.  1.] [ 0.86263468  0.78441746  0.04091914] [-1.] [-0.24091914]\n",
      "[ 0.  0.  1.] [ 0.86263468  0.78441746 -0.15908086] [-1.] [-0.04091914]\n",
      "[ 1.  0.  1.] [ 0.86263468  0.78441746 -0.15908086] [ 0.] [ 0.29644617]\n",
      "[ 1.  1.  1.] [ 0.86263468  0.78441746 -0.15908086] [ 0.] [-0.48797129]\n",
      "[ 0.  0.  1.] [ 0.86263468  0.78441746 -0.15908086] [ 0.] [ 0.15908086]\n",
      "[ 0.  0.  1.] [ 0.86263468  0.78441746 -0.15908086] [ 0.] [ 0.15908086]\n",
      "[ 0.  1.  1.] [ 0.86263468  0.78441746 -0.15908086] [ 0.] [ 0.37466339]\n",
      "[ 0.  0.  1.] [ 0.86263468  0.78441746 -0.15908086] [ 0.] [ 0.15908086]\n",
      "[ 0.  0.  1.] [ 0.86263468  0.78441746 -0.15908086] [ 0.] [ 0.15908086]\n",
      "[ 0.  1.  1.] [ 0.86263468  0.78441746 -0.15908086] [ 0.] [ 0.37466339]\n",
      "[ 0.  1.  1.] [ 0.86263468  0.78441746 -0.15908086] [ 0.] [ 0.37466339]\n",
      "[ 1.  1.  1.] [ 0.86263468  0.78441746 -0.15908086] [ 0.] [-0.48797129]\n",
      "[ 0.  1.  1.] [ 0.86263468  0.78441746 -0.15908086] [ 0.] [ 0.37466339]\n",
      "[ 0.  1.  1.] [ 0.86263468  0.78441746 -0.15908086] [ 0.] [ 0.37466339]\n"
     ]
    },
    {
     "data": {
      "image/png": "[encoded data removed]",
      "text/plain": [
       "<matplotlib.figure.Figure at 0x7fc006df1c88>"
      ]
     },
     "metadata": {},
     "output_type": "display_data"
    }
   ],
   "source": [
    "weights = perceptron()\n",
    "plotPerceptron()"
   ]
  },
  {
   "cell_type": "code",
   "execution_count": null,
   "metadata": {},
   "outputs": [],
   "source": []
  }
 ],
 "metadata": {
  "kernelspec": {
   "display_name": "Python 3",
   "language": "python",
   "name": "python3"
  },
  "language_info": {
   "codemirror_mode": {
    "name": "ipython",
    "version": 3
   },
   "file_extension": ".py",
   "mimetype": "text/x-python",
   "name": "python",
   "nbconvert_exporter": "python",
   "pygments_lexer": "ipython3",
   "version": "3.6.3"
  }
 },
 "nbformat": 4,
 "nbformat_minor": 2
}
