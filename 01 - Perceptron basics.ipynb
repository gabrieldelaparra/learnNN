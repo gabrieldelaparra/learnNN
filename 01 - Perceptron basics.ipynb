{
 "cells": [
  {
   "cell_type": "markdown",
   "metadata": {},
   "source": [
    "# Perceptron\n",
    "\n",
    "El perceptrón es la unidad básica de una neurona. \n",
    "\n",
    "Si bien hay muchos \"tutoriales\" en línea, no encontré ninguno que explicara paso a paso como funciona uno. \n",
    "\n",
    "Por eso hice este pequeño tutorial sobre como funciona internamente."
   ]
  },
  {
   "cell_type": "markdown",
   "metadata": {},
   "source": [
    "# Imports"
   ]
  },
  {
   "cell_type": "code",
   "execution_count": 1,
   "metadata": {},
   "outputs": [],
   "source": [
    "import random\n",
    "import numpy as np"
   ]
  },
  {
   "cell_type": "markdown",
   "metadata": {},
   "source": [
    "# Modelo\n",
    "\n",
    "Idea general del perceptrón:\n",
    "* Es un algoritmo de aprendizaje supervisado para clasificación.\n",
    "* Es la suma de las entradas x<sub>i</sub> ponderadas por pesos w<sub>i</sub>.\n",
    "* Se ocupa una función de activación a la salida de la neurona, en este caso el escalón.\n",
    "\n",
    "El entrenamiento consiste en:\n",
    "* A partir de los datos de entrada $x_i$, calcular los pesos $w_i$.\n",
    "\n",
    "Una vez entrenado:\n",
    "* Clasifica datos nuevos."
   ]
  },
  {
   "cell_type": "markdown",
   "metadata": {},
   "source": [
    "![](images/perceptron.png)"
   ]
  },
  {
   "cell_type": "markdown",
   "metadata": {},
   "source": [
    "Vamos a necesitar:\n",
    "- Función que deseamos entrenar/clasificar\n",
    "- Valores de entrenamiento\n",
    "- Pesos al azar\n",
    "- Función de activación\n",
    "- Hyper Parámetros"
   ]
  },
  {
   "cell_type": "markdown",
   "metadata": {},
   "source": [
    "## Función a entrenar: OR"
   ]
  },
  {
   "cell_type": "markdown",
   "metadata": {},
   "source": [
    "| A | B | A or B |\n",
    "|---|---|--------|\n",
    "| 0 | 0 | 0      |\n",
    "| 0 | 1 | 1      |\n",
    "| 1 | 0 | 1      |\n",
    "| 1 | 1 | 1      |"
   ]
  },
  {
   "cell_type": "markdown",
   "metadata": {},
   "source": [
    "## Valores de entrenamiento"
   ]
  },
  {
   "cell_type": "code",
   "execution_count": 2,
   "metadata": {},
   "outputs": [],
   "source": [
    "trainingData = [\n",
    "    #([valores de entrada], salida esperada)\n",
    "    ([0,0],0),\n",
    "    ([0,1],1),\n",
    "    ([1,0],1),\n",
    "    ([1,1],1),\n",
    "]"
   ]
  },
  {
   "cell_type": "markdown",
   "metadata": {},
   "source": [
    "## Pesos iniciales\n",
    "Un aspecto de considerar de nuestro problema es que tendremos 3 pesos:\n",
    "* 2 entradas: $w_1$ de $A$ y $w_2$ de $B$ (`A` y `B` en la tabla) \n",
    "* 1 de bías: $w_0$"
   ]
  },
  {
   "cell_type": "code",
   "execution_count": 3,
   "metadata": {},
   "outputs": [
    {
     "name": "stdout",
     "output_type": "stream",
     "text": [
      "Weights: [0, 0]\n",
      "Bias: 0\n"
     ]
    }
   ],
   "source": [
    "weights = [0, 0]\n",
    "bias = 0\n",
    "print(\"Weights:\", weights)\n",
    "print(\"Bias:\", bias)"
   ]
  },
  {
   "cell_type": "markdown",
   "metadata": {},
   "source": [
    "## Funcion de activación"
   ]
  },
  {
   "cell_type": "code",
   "execution_count": 4,
   "metadata": {},
   "outputs": [],
   "source": [
    "def step(x):\n",
    "    if x<0:\n",
    "        return 0\n",
    "    return 1"
   ]
  },
  {
   "cell_type": "code",
   "execution_count": 5,
   "metadata": {},
   "outputs": [
    {
     "name": "stdout",
     "output_type": "stream",
     "text": [
      "0\n",
      "0\n",
      "1\n",
      "1\n",
      "1\n"
     ]
    }
   ],
   "source": [
    "print(step(-1))\n",
    "print(step(-0.1))\n",
    "print(step(0))\n",
    "print(step(0.1))\n",
    "print(step(1))"
   ]
  },
  {
   "cell_type": "markdown",
   "metadata": {},
   "source": [
    "## Hyper Parámetros"
   ]
  },
  {
   "cell_type": "code",
   "execution_count": 6,
   "metadata": {},
   "outputs": [],
   "source": [
    "learningRate = 0.2"
   ]
  },
  {
   "cell_type": "markdown",
   "metadata": {},
   "source": [
    "# Entrenamiento\n",
    "El entrenamiento está dado en 4 pasos:\n",
    "1. Empezar con valores al azar a los pesos $w(0)$ ($w_1$, $w_2$) y al bias $w_0$.\n",
    "2. Para cada entrada $x_i$, encontrar un arreglo de pesos $w$, tal que $w(t) \\cdot x_i + w_0 > 0$. Con $y_i$ la salida para la entrada $x_i$.\n",
    "3. Actualizar los pesos para la siguiente iteración:\n",
    "    - $w(t+1) = w(t) + \\alpha(d_i - step(y_i))x_i$\n",
    "    - $w_0(t+1) = w_0(t) + \\alpha(d_i - step(y_i))$\n",
    "4. Si el entrenamiento es offline (se entrenan con las mismas entradas), se repiten los pasos 2 y 3 hasta que se reduce el error lo suficiente.\n",
    "\n",
    "Desde los datos de entrenamiento tenemos:\n",
    "* $x_i$\n",
    "* $d_i$\n",
    "\n",
    "Para cada input, debemos calcular: \n",
    "* $y_i$\n",
    "\n",
    "Con los $y_i$, calculamos los nuevos pesos $w_i$."
   ]
  },
  {
   "cell_type": "markdown",
   "metadata": {},
   "source": [
    "## Ejemplo manual\n",
    "\n",
    "En esta sección se realizará el entrenamiento de forma manual. Se calculará paso a paso cada valor."
   ]
  },
  {
   "cell_type": "code",
   "execution_count": 7,
   "metadata": {},
   "outputs": [],
   "source": [
    "#Set de entrenamiento\n",
    "trainingData = [\n",
    "    #([valores de entrada], salida esperada)\n",
    "    ([0,0],0),\n",
    "    ([0,1],1),\n",
    "    ([1,0],1),\n",
    "    ([1,1],1),\n",
    "]\n",
    "\n",
    "#Hyper Parámetro\n",
    "learningRate = 0.5\n",
    "\n",
    "#Pesos\n",
    "w = np.array([0, 0])\n",
    "\n",
    "#Bias\n",
    "b = 0"
   ]
  },
  {
   "cell_type": "markdown",
   "metadata": {},
   "source": [
    "### Epoch 1; Iteración 1\n",
    "\n",
    "Usaremos $x_0$ como valor de entrada.\n",
    "\n",
    "**Entrada $x_i$ y salida esperada $d_i$**"
   ]
  },
  {
   "cell_type": "code",
   "execution_count": 8,
   "metadata": {},
   "outputs": [
    {
     "name": "stdout",
     "output_type": "stream",
     "text": [
      "xi: [0, 0] di 0\n"
     ]
    }
   ],
   "source": [
    "i = 0\n",
    "xi, di = trainingData[i]\n",
    "print(\"xi:\", xi, \"di\", di)"
   ]
  },
  {
   "cell_type": "markdown",
   "metadata": {},
   "source": [
    "**Calculo de $y_i$**"
   ]
  },
  {
   "cell_type": "code",
   "execution_count": 9,
   "metadata": {},
   "outputs": [
    {
     "name": "stdout",
     "output_type": "stream",
     "text": [
      "yi: 0\n"
     ]
    }
   ],
   "source": [
    "yi = xi[0] * w[0] + xi[1] * w[1] + b\n",
    "print(\"yi:\", yi)"
   ]
  },
  {
   "cell_type": "markdown",
   "metadata": {},
   "source": [
    "**Calculo del error**"
   ]
  },
  {
   "cell_type": "code",
   "execution_count": 10,
   "metadata": {},
   "outputs": [
    {
     "name": "stdout",
     "output_type": "stream",
     "text": [
      "di-step(yi): -1\n"
     ]
    }
   ],
   "source": [
    "error = di - step(yi)\n",
    "print(\"di-step(yi):\", error)"
   ]
  },
  {
   "cell_type": "markdown",
   "metadata": {},
   "source": [
    "**Reajuste de los pesos**"
   ]
  },
  {
   "cell_type": "code",
   "execution_count": 11,
   "metadata": {},
   "outputs": [
    {
     "name": "stdout",
     "output_type": "stream",
     "text": [
      "new weigth: [ 0.  0.]\n"
     ]
    }
   ],
   "source": [
    "w = w + learningRate * error * np.array(xi)\n",
    "print(\"new weigth:\", w)"
   ]
  },
  {
   "cell_type": "markdown",
   "metadata": {},
   "source": [
    "**Reajuste del bias**"
   ]
  },
  {
   "cell_type": "code",
   "execution_count": 12,
   "metadata": {},
   "outputs": [
    {
     "name": "stdout",
     "output_type": "stream",
     "text": [
      "new bias: -0.5\n"
     ]
    }
   ],
   "source": [
    "b = b + learningRate * error\n",
    "print(\"new bias:\", b)"
   ]
  },
  {
   "cell_type": "markdown",
   "metadata": {},
   "source": [
    "### Epoch 1; Iteración 2\n",
    "Valor entrenamiento $x_1$"
   ]
  },
  {
   "cell_type": "code",
   "execution_count": 13,
   "metadata": {},
   "outputs": [
    {
     "name": "stdout",
     "output_type": "stream",
     "text": [
      "xi:\t\t\t [0, 1]\n",
      "di:\t\t\t 1\n",
      "yi:\t\t\t -0.5\n",
      "di-step(yi):\t\t 1\n",
      "new weigth:\t\t [ 0.   0.5]\n",
      "new bias:\t\t 0.0\n"
     ]
    }
   ],
   "source": [
    "i = 1\n",
    "xi, di = trainingData[i]\n",
    "yi = xi[0] * w[0] + xi[1] * w[1] + b\n",
    "error = di - step(yi)\n",
    "w = w + learningRate * error * np.array(xi)\n",
    "b = b + learningRate * error\n",
    "\n",
    "print(\"xi:\\t\\t\\t\", xi)\n",
    "print(\"di:\\t\\t\\t\", di)\n",
    "print(\"yi:\\t\\t\\t\", yi)\n",
    "print(\"di-step(yi):\\t\\t\", error)\n",
    "print(\"new weigth:\\t\\t\", w)\n",
    "print(\"new bias:\\t\\t\", b)"
   ]
  },
  {
   "cell_type": "markdown",
   "metadata": {},
   "source": [
    "### Epoch 1; Iteración 3\n",
    "Valor entrenamiento $x_2$"
   ]
  },
  {
   "cell_type": "code",
   "execution_count": 14,
   "metadata": {},
   "outputs": [
    {
     "name": "stdout",
     "output_type": "stream",
     "text": [
      "xi:\t\t\t [1, 0]\n",
      "di:\t\t\t 1\n",
      "yi:\t\t\t 0.0\n",
      "di-step(yi):\t\t 0\n",
      "new weigth:\t\t [ 0.   0.5]\n",
      "new bias:\t\t 0.0\n"
     ]
    }
   ],
   "source": [
    "i = 2\n",
    "xi, di = trainingData[i]\n",
    "yi = xi[0] * w[0] + xi[1] * w[1] + b\n",
    "error = di - step(yi)\n",
    "w = w + learningRate * error * np.array(xi)\n",
    "b = b + learningRate * error\n",
    "\n",
    "print(\"xi:\\t\\t\\t\", xi)\n",
    "print(\"di:\\t\\t\\t\", di)\n",
    "print(\"yi:\\t\\t\\t\", yi)\n",
    "print(\"di-step(yi):\\t\\t\", error)\n",
    "print(\"new weigth:\\t\\t\", w)\n",
    "print(\"new bias:\\t\\t\", b)"
   ]
  },
  {
   "cell_type": "markdown",
   "metadata": {},
   "source": [
    "### Epoch 1; Iteración 4\n",
    "Valor entrenamiento $x_3$"
   ]
  },
  {
   "cell_type": "code",
   "execution_count": 15,
   "metadata": {},
   "outputs": [
    {
     "name": "stdout",
     "output_type": "stream",
     "text": [
      "xi:\t\t\t [1, 1]\n",
      "di:\t\t\t 1\n",
      "yi:\t\t\t 0.5\n",
      "di-step(yi):\t\t 0\n",
      "new weigth:\t\t [ 0.   0.5]\n",
      "new bias:\t\t 0.0\n"
     ]
    }
   ],
   "source": [
    "i = 3\n",
    "xi, di = trainingData[i]\n",
    "yi = xi[0] * w[0] + xi[1] * w[1] + b\n",
    "error = di - step(yi)\n",
    "w = w + learningRate * error * np.array(xi)\n",
    "b = b + learningRate * error\n",
    "\n",
    "print(\"xi:\\t\\t\\t\", xi)\n",
    "print(\"di:\\t\\t\\t\", di)\n",
    "print(\"yi:\\t\\t\\t\", yi)\n",
    "print(\"di-step(yi):\\t\\t\", error)\n",
    "print(\"new weigth:\\t\\t\", w)\n",
    "print(\"new bias:\\t\\t\", b)"
   ]
  },
  {
   "cell_type": "markdown",
   "metadata": {},
   "source": [
    "### Epoch 2;\n",
    "Todos los valores de entrenamiento de nuevo."
   ]
  },
  {
   "cell_type": "code",
   "execution_count": 16,
   "metadata": {},
   "outputs": [
    {
     "name": "stdout",
     "output_type": "stream",
     "text": [
      "xi:\t\t\t [0, 0]\n",
      "di:\t\t\t 0\n",
      "yi:\t\t\t 0.0\n",
      "di-step(yi):\t\t -1\n",
      "new weigth:\t\t [ 0.   0.5]\n",
      "new bias:\t\t -0.5\n",
      "\n",
      "xi:\t\t\t [0, 1]\n",
      "di:\t\t\t 1\n",
      "yi:\t\t\t 0.0\n",
      "di-step(yi):\t\t 0\n",
      "new weigth:\t\t [ 0.   0.5]\n",
      "new bias:\t\t -0.5\n",
      "\n",
      "xi:\t\t\t [1, 0]\n",
      "di:\t\t\t 1\n",
      "yi:\t\t\t -0.5\n",
      "di-step(yi):\t\t 1\n",
      "new weigth:\t\t [ 0.5  0.5]\n",
      "new bias:\t\t 0.0\n",
      "\n",
      "xi:\t\t\t [1, 1]\n",
      "di:\t\t\t 1\n",
      "yi:\t\t\t 1.0\n",
      "di-step(yi):\t\t 0\n",
      "new weigth:\t\t [ 0.5  0.5]\n",
      "new bias:\t\t 0.0\n",
      "\n"
     ]
    }
   ],
   "source": [
    "for i in range(len(trainingData)):\n",
    "    xi, di = trainingData[i]\n",
    "    yi = xi[0] * w[0] + xi[1] * w[1] + b\n",
    "    error = di - step(yi)\n",
    "    w = w + learningRate * error * np.array(xi)\n",
    "    b = b + learningRate * error\n",
    "\n",
    "    print(\"xi:\\t\\t\\t\", xi)\n",
    "    print(\"di:\\t\\t\\t\", di)\n",
    "    print(\"yi:\\t\\t\\t\", yi)\n",
    "    print(\"di-step(yi):\\t\\t\", error)\n",
    "    print(\"new weigth:\\t\\t\", w)\n",
    "    print(\"new bias:\\t\\t\", b)\n",
    "    print()"
   ]
  },
  {
   "cell_type": "markdown",
   "metadata": {},
   "source": [
    "### Epoch 3;\n",
    "Todos los valores de entrenamiento de nuevo. Esta vez, con print solo por la Epoch completa."
   ]
  },
  {
   "cell_type": "code",
   "execution_count": 17,
   "metadata": {},
   "outputs": [
    {
     "name": "stdout",
     "output_type": "stream",
     "text": [
      "xi:\t\t\t [0, 0]\n",
      "di:\t\t\t 0\n",
      "yi:\t\t\t 0.0\n",
      "di-step(yi):\t\t -1\n",
      "new weigth:\t\t [ 0.5  0.5]\n",
      "new bias:\t\t -0.5\n",
      "\n",
      "xi:\t\t\t [0, 1]\n",
      "di:\t\t\t 1\n",
      "yi:\t\t\t 0.0\n",
      "di-step(yi):\t\t 0\n",
      "new weigth:\t\t [ 0.5  0.5]\n",
      "new bias:\t\t -0.5\n",
      "\n",
      "xi:\t\t\t [1, 0]\n",
      "di:\t\t\t 1\n",
      "yi:\t\t\t 0.0\n",
      "di-step(yi):\t\t 0\n",
      "new weigth:\t\t [ 0.5  0.5]\n",
      "new bias:\t\t -0.5\n",
      "\n",
      "xi:\t\t\t [1, 1]\n",
      "di:\t\t\t 1\n",
      "yi:\t\t\t 0.5\n",
      "di-step(yi):\t\t 0\n",
      "new weigth:\t\t [ 0.5  0.5]\n",
      "new bias:\t\t -0.5\n",
      "\n"
     ]
    }
   ],
   "source": [
    "for i in range(len(trainingData)):\n",
    "    xi, di = trainingData[i]\n",
    "    yi = xi[0] * w[0] + xi[1] * w[1] + b\n",
    "    error = di - step(yi)\n",
    "    w = w + learningRate * error * np.array(xi)\n",
    "    b = b + learningRate * error\n",
    "\n",
    "    print(\"xi:\\t\\t\\t\", xi)\n",
    "    print(\"di:\\t\\t\\t\", di)\n",
    "    print(\"yi:\\t\\t\\t\", yi)\n",
    "    print(\"di-step(yi):\\t\\t\", error)\n",
    "    print(\"new weigth:\\t\\t\", w)\n",
    "    print(\"new bias:\\t\\t\", b)\n",
    "    print()"
   ]
  },
  {
   "cell_type": "markdown",
   "metadata": {},
   "source": [
    "## Cuando detenerse?\n",
    "Después de varias iteraciones, los pesos convergen a un valor del cual después no se modifican. En este caso, iteraremos hasta que no haya cambio entre estos valores."
   ]
  },
  {
   "cell_type": "code",
   "execution_count": 18,
   "metadata": {},
   "outputs": [
    {
     "name": "stdout",
     "output_type": "stream",
     "text": [
      "xi:\t\t\t [0, 0]\n",
      "di:\t\t\t 0\n",
      "yi:\t\t\t -0.5\n",
      "di-step(yi):\t\t 0\n",
      "new weigth:\t\t [ 0.5  0.5]\n",
      "new bias:\t\t -0.5\n",
      "\n",
      "xi:\t\t\t [0, 1]\n",
      "di:\t\t\t 1\n",
      "yi:\t\t\t 0.0\n",
      "di-step(yi):\t\t 0\n",
      "new weigth:\t\t [ 0.5  0.5]\n",
      "new bias:\t\t -0.5\n",
      "\n",
      "xi:\t\t\t [1, 0]\n",
      "di:\t\t\t 1\n",
      "yi:\t\t\t 0.0\n",
      "di-step(yi):\t\t 0\n",
      "new weigth:\t\t [ 0.5  0.5]\n",
      "new bias:\t\t -0.5\n",
      "\n",
      "xi:\t\t\t [1, 1]\n",
      "di:\t\t\t 1\n",
      "yi:\t\t\t 0.5\n",
      "di-step(yi):\t\t 0\n",
      "new weigth:\t\t [ 0.5  0.5]\n",
      "new bias:\t\t -0.5\n",
      "\n",
      "Success!\n"
     ]
    }
   ],
   "source": [
    "while True:\n",
    "    old_w = w\n",
    "    old_b = b\n",
    "    \n",
    "    for i in range(len(trainingData)):\n",
    "        xi, di = trainingData[i]\n",
    "        yi = xi[0] * w[0] + xi[1] * w[1] + b\n",
    "        error = di - step(yi)\n",
    "        w = w + learningRate * error * np.array(xi)\n",
    "        b = b + learningRate * error\n",
    "\n",
    "        print(\"xi:\\t\\t\\t\", xi)\n",
    "        print(\"di:\\t\\t\\t\", di)\n",
    "        print(\"yi:\\t\\t\\t\", yi)\n",
    "        print(\"di-step(yi):\\t\\t\", error)\n",
    "        print(\"new weigth:\\t\\t\", w)\n",
    "        print(\"new bias:\\t\\t\", b)\n",
    "        print()\n",
    "\n",
    "    #Condición de detención:\n",
    "    if((old_w == w).all() and old_b == b):\n",
    "        print(\"Success!\")\n",
    "        break;"
   ]
  },
  {
   "cell_type": "markdown",
   "metadata": {},
   "source": [
    "# Clasificación\n",
    "\n",
    "Pero qué significa que el Perceptrón se haya entrenado? Qué significa que se hayan encontrado los pesos?\n",
    "\n",
    "Bueno, ahora probaremos con darle nuevos valores y veremos que nos entrega."
   ]
  },
  {
   "cell_type": "markdown",
   "metadata": {},
   "source": [
    "## Clasificar valores de entrenamiento:"
   ]
  },
  {
   "cell_type": "code",
   "execution_count": 19,
   "metadata": {},
   "outputs": [
    {
     "data": {
      "text/plain": [
       "0"
      ]
     },
     "execution_count": 19,
     "metadata": {},
     "output_type": "execute_result"
    }
   ],
   "source": [
    "test = [0, 0]\n",
    "step(test[0] * w[0] + test[1] * w[1] + b)"
   ]
  },
  {
   "cell_type": "code",
   "execution_count": 20,
   "metadata": {},
   "outputs": [
    {
     "data": {
      "text/plain": [
       "1"
      ]
     },
     "execution_count": 20,
     "metadata": {},
     "output_type": "execute_result"
    }
   ],
   "source": [
    "test = [0, 1]\n",
    "step(test[0] * w[0] + test[1] * w[1] + b)"
   ]
  },
  {
   "cell_type": "code",
   "execution_count": 21,
   "metadata": {},
   "outputs": [
    {
     "data": {
      "text/plain": [
       "1"
      ]
     },
     "execution_count": 21,
     "metadata": {},
     "output_type": "execute_result"
    }
   ],
   "source": [
    "test = [1, 0]\n",
    "step(test[0] * w[0] + test[1] * w[1] + b)"
   ]
  },
  {
   "cell_type": "code",
   "execution_count": 22,
   "metadata": {},
   "outputs": [
    {
     "data": {
      "text/plain": [
       "1"
      ]
     },
     "execution_count": 22,
     "metadata": {},
     "output_type": "execute_result"
    }
   ],
   "source": [
    "test = [1, 1]\n",
    "step(test[0] * w[0] + test[1] * w[1] + b)"
   ]
  },
  {
   "cell_type": "markdown",
   "metadata": {},
   "source": [
    "## Clasificar valores al azar"
   ]
  },
  {
   "cell_type": "code",
   "execution_count": 23,
   "metadata": {},
   "outputs": [
    {
     "name": "stdout",
     "output_type": "stream",
     "text": [
      "Entrada:\t\t [0.06427328680783195, 0.9082346890194956]\n",
      "Predicción:\t\t 0\n"
     ]
    }
   ],
   "source": [
    "test = [random.random(), random.random()]\n",
    "yi = step(test[0] * w[0] + test[1] * w[1] + b)\n",
    "print(\"Entrada:\\t\\t\", test)\n",
    "print(\"Predicción:\\t\\t\", yi)"
   ]
  },
  {
   "cell_type": "code",
   "execution_count": 24,
   "metadata": {},
   "outputs": [
    {
     "name": "stdout",
     "output_type": "stream",
     "text": [
      "Entrada:\t\t [0.7434431643134166, 0.9939298597838985]\n",
      "Predicción:\t\t 1\n"
     ]
    }
   ],
   "source": [
    "test = [random.random(), random.random()]\n",
    "yi = step(test[0] * w[0] + test[1] * w[1] + b)\n",
    "print(\"Entrada:\\t\\t\", test)\n",
    "print(\"Predicción:\\t\\t\", yi)"
   ]
  },
  {
   "cell_type": "code",
   "execution_count": 25,
   "metadata": {},
   "outputs": [
    {
     "name": "stdout",
     "output_type": "stream",
     "text": [
      "Entrada:\t\t [0.4017707991329431, 0.1312867115378612]\n",
      "Predicción:\t\t 0\n"
     ]
    }
   ],
   "source": [
    "test = [random.random(), random.random()]\n",
    "yi = step(test[0] * w[0] + test[1] * w[1] + b)\n",
    "print(\"Entrada:\\t\\t\", test)\n",
    "print(\"Predicción:\\t\\t\", yi)"
   ]
  },
  {
   "cell_type": "code",
   "execution_count": 26,
   "metadata": {},
   "outputs": [
    {
     "name": "stdout",
     "output_type": "stream",
     "text": [
      "Entrada:\t\t [0.5344224605717982, 0.7058515681288217]\n",
      "Predicción:\t\t 1\n"
     ]
    }
   ],
   "source": [
    "test = [random.random(), random.random()]\n",
    "yi = step(test[0] * w[0] + test[1] * w[1] + b)\n",
    "print(\"Entrada:\\t\\t\", test)\n",
    "print(\"Predicción:\\t\\t\", yi)"
   ]
  },
  {
   "cell_type": "markdown",
   "metadata": {},
   "source": [
    "Ahora vamos a visualizar lo que hace nuestro perceptrón."
   ]
  }
 ],
 "metadata": {
  "kernelspec": {
   "display_name": "Python 3",
   "language": "python",
   "name": "python3"
  },
  "language_info": {
   "codemirror_mode": {
    "name": "ipython",
    "version": 3
   },
   "file_extension": ".py",
   "mimetype": "text/x-python",
   "name": "python",
   "nbconvert_exporter": "python",
   "pygments_lexer": "ipython3",
   "version": "3.6.3"
  }
 },
 "nbformat": 4,
 "nbformat_minor": 2
}
