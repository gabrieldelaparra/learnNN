{
 "cells": [
  {
   "cell_type": "markdown",
   "metadata": {},
   "source": [
    "# Perceptron\n",
    "\n",
    "[Source](https://blog.dbrgn.ch/2013/3/26/perceptrons-in-python/)\n",
    "\n",
    "[Source2](https://brilliant.org/wiki/perceptron/)"
   ]
  },
  {
   "cell_type": "code",
   "execution_count": 2,
   "metadata": {},
   "outputs": [],
   "source": [
    "import random\n",
    "import numpy as np\n",
    "import matplotlib.pyplot as plt "
   ]
  },
  {
   "cell_type": "markdown",
   "metadata": {},
   "source": [
    "# Modelo\n",
    "\n",
    "Idea general del perceptrón:\n",
    "* Es un algoritmo de aprendizaje supervisado para clasificación.\n",
    "* Es la suma de las entradas x<sub>i</sub> ponderadas por pesos w<sub>i</sub>.\n",
    "* Se ocupa una función de activación a la salida de la neurona, en este caso el escalón.\n",
    "\n",
    "El entrenamiento consiste en:\n",
    "* A partir de los datos de entrada, el objetivo es calcular los pesos.\n",
    "\n",
    "Una vez entrenado:\n",
    "* Clasifica datos nuevos."
   ]
  },
  {
   "cell_type": "markdown",
   "metadata": {},
   "source": [
    "![](images/perceptron.png)"
   ]
  },
  {
   "cell_type": "markdown",
   "metadata": {},
   "source": [
    "Vamos a necesitar:\n",
    "- Función que deseamos entrenar\n",
    "- Valores de entrenamiento\n",
    "- Pesos al azar\n",
    "- Función de activación\n",
    "- Hyper Parámetros"
   ]
  },
  {
   "cell_type": "markdown",
   "metadata": {},
   "source": [
    "## Función a entrenar: OR"
   ]
  },
  {
   "cell_type": "markdown",
   "metadata": {},
   "source": [
    "| A | B | A or B |\n",
    "|---|---|--------|\n",
    "| 0 | 0 | 0      |\n",
    "| 0 | 1 | 1      |\n",
    "| 1 | 0 | 1      |\n",
    "| 1 | 1 | 1      |"
   ]
  },
  {
   "cell_type": "markdown",
   "metadata": {},
   "source": [
    "## Valores de entrenamiento"
   ]
  },
  {
   "cell_type": "code",
   "execution_count": 3,
   "metadata": {},
   "outputs": [],
   "source": [
    "trainingData = [\n",
    "    #([valores de entrada], salida esperada)\n",
    "    ([0,0],0),\n",
    "    ([0,1],1),\n",
    "    ([1,0],1),\n",
    "    ([1,1],1),\n",
    "]"
   ]
  },
  {
   "cell_type": "markdown",
   "metadata": {},
   "source": [
    "## Pesos iniciales\n",
    "Un aspecto de considerar de nuestro problema es que tendremos 3 pesos:\n",
    "* 2 entradas: $w_1$ de $A$ y $w_2$ de $B$ (`A` y `B` en la tabla) \n",
    "* 1 de bías: $w_0$"
   ]
  },
  {
   "cell_type": "code",
   "execution_count": 61,
   "metadata": {},
   "outputs": [
    {
     "name": "stdout",
     "output_type": "stream",
     "text": [
      "Weights: [ 0.12113703  0.64428499]\n",
      "Bias: 0.5225082353420727\n"
     ]
    }
   ],
   "source": [
    "weights = np.random.rand(2)\n",
    "bias = random.random()\n",
    "print(\"Weights:\", weights)\n",
    "print(\"Bias:\", bias)"
   ]
  },
  {
   "cell_type": "markdown",
   "metadata": {},
   "source": [
    "## Funcion de activación"
   ]
  },
  {
   "cell_type": "code",
   "execution_count": 34,
   "metadata": {},
   "outputs": [],
   "source": [
    "def step(x):\n",
    "    if x<0:\n",
    "        return 0\n",
    "    return 1"
   ]
  },
  {
   "cell_type": "code",
   "execution_count": 35,
   "metadata": {},
   "outputs": [
    {
     "name": "stdout",
     "output_type": "stream",
     "text": [
      "0\n",
      "0\n",
      "1\n",
      "1\n",
      "1\n"
     ]
    }
   ],
   "source": [
    "print(step(-1))\n",
    "print(step(-0.1))\n",
    "print(step(0))\n",
    "print(step(0.1))\n",
    "print(step(1))"
   ]
  },
  {
   "cell_type": "markdown",
   "metadata": {},
   "source": [
    "## Hyper Parámetros"
   ]
  },
  {
   "cell_type": "code",
   "execution_count": 36,
   "metadata": {},
   "outputs": [],
   "source": [
    "learningRate = 0.2"
   ]
  },
  {
   "cell_type": "markdown",
   "metadata": {},
   "source": [
    "# Entrenamiento\n",
    "El entrenamiento está dado en 4 pasos:\n",
    "1. Empezar con valores al azar a los pesos $w(0)$ ($w_1$, $w_2$) y al bias $w_0$.\n",
    "2. Para cada entrada $x_i$, encontrar un arreglo de pesos $w$, tal que $w(t) \\cdot x_i + w_0 > 0$. Con $y_i$ la salida para la entrada $x_i$.\n",
    "3. Actualizar los pesos para la siguiente iteración:\n",
    "    - $w(t+1) = w(t) + \\alpha(d_i - y_i)x_i$\n",
    "    - $w_0(t+1) = w_0(t) + \\alpha(d_i - y_i)$\n",
    "4. Si el entrenamiento es offline (se entrenan con las mismas entradas), se repiten los pasos 2 y 3 hasta que se reduce el error lo suficiente.\n",
    "\n",
    "Desde los datos de entrenamiento tenemos:\n",
    "* $x_i$\n",
    "* $d_i$\n",
    "\n",
    "Para cada input, debemos calcular: \n",
    "* $y_i$\n",
    "\n",
    "Con los $y_i$, calculamos los nuevos pesos $w_i$."
   ]
  },
  {
   "cell_type": "markdown",
   "metadata": {},
   "source": [
    "## Ejemplo manual"
   ]
  },
  {
   "cell_type": "code",
   "execution_count": 303,
   "metadata": {},
   "outputs": [],
   "source": [
    "trainingData = [\n",
    "    #([valores de entrada], salida esperada)\n",
    "    ([0,0],0),\n",
    "    ([0,1],1),\n",
    "    ([1,0],1),\n",
    "    ([1,1],1),\n",
    "]"
   ]
  },
  {
   "cell_type": "code",
   "execution_count": 304,
   "metadata": {},
   "outputs": [],
   "source": [
    "learningRate = 0.5"
   ]
  },
  {
   "cell_type": "code",
   "execution_count": 305,
   "metadata": {},
   "outputs": [
    {
     "name": "stdout",
     "output_type": "stream",
     "text": [
      "wi: [0, 0]\n",
      "w0: 0\n"
     ]
    }
   ],
   "source": [
    "wi = [0, 0]\n",
    "w0 = 0\n",
    "print(\"wi:\", wi)\n",
    "print(\"w0:\", w0)"
   ]
  },
  {
   "cell_type": "markdown",
   "metadata": {},
   "source": [
    "### Epoch 1; Iteración 1\n",
    "Valor entrenamiento $x_0$"
   ]
  },
  {
   "cell_type": "code",
   "execution_count": 306,
   "metadata": {},
   "outputs": [
    {
     "name": "stdout",
     "output_type": "stream",
     "text": [
      "xi: [0, 0] di 0\n"
     ]
    }
   ],
   "source": [
    "i = 0\n",
    "xi, di = trainingData[i]\n",
    "print(\"xi:\", xi, \"di\", di)"
   ]
  },
  {
   "cell_type": "code",
   "execution_count": 307,
   "metadata": {},
   "outputs": [
    {
     "name": "stdout",
     "output_type": "stream",
     "text": [
      "yi: 0\n"
     ]
    }
   ],
   "source": [
    "yi = xi[0]*wi[0] + xi[1]*wi[1] + w0\n",
    "print(\"yi:\", yi)"
   ]
  },
  {
   "cell_type": "code",
   "execution_count": 308,
   "metadata": {},
   "outputs": [
    {
     "name": "stdout",
     "output_type": "stream",
     "text": [
      "di-yi: 0\n"
     ]
    }
   ],
   "source": [
    "print(\"di-yi:\", di - yi)"
   ]
  },
  {
   "cell_type": "code",
   "execution_count": 309,
   "metadata": {},
   "outputs": [
    {
     "name": "stdout",
     "output_type": "stream",
     "text": [
      "new weigth: [ 0.  0.]\n"
     ]
    }
   ],
   "source": [
    "wi = wi + learningRate*(di-yi)*np.array(xi)\n",
    "print(\"new weigth:\", wi)"
   ]
  },
  {
   "cell_type": "code",
   "execution_count": 310,
   "metadata": {},
   "outputs": [
    {
     "name": "stdout",
     "output_type": "stream",
     "text": [
      "new bias: 0.0\n"
     ]
    }
   ],
   "source": [
    "w0 = w0 + learningRate*(di-yi)\n",
    "print(\"new bias:\", w0)"
   ]
  },
  {
   "cell_type": "markdown",
   "metadata": {},
   "source": [
    "### Epoch 1; Iteración 2\n",
    "Valor entrenamiento $x_1$"
   ]
  },
  {
   "cell_type": "code",
   "execution_count": 311,
   "metadata": {},
   "outputs": [
    {
     "name": "stdout",
     "output_type": "stream",
     "text": [
      "xi: [0, 1] di 0\n",
      "yi: 0.0\n",
      "di-yi: 0.0\n",
      "new weigth: [ 0.  0.]\n",
      "new bias: 0.0\n"
     ]
    }
   ],
   "source": [
    "i = 1\n",
    "xi, di = trainingData[i]\n",
    "print(\"xi:\", xi, \"di\", di)\n",
    "yi = xi[0]*wi[0] + xi[1]*wi[1] + w0\n",
    "print(\"yi:\", yi)\n",
    "print(\"di-yi:\", di - yi)\n",
    "wi = wi + learningRate*(di-yi)*np.array(xi)\n",
    "print(\"new weigth:\", wi)\n",
    "w0 = w0 + learningRate*(di-yi)\n",
    "print(\"new bias:\", w0)"
   ]
  },
  {
   "cell_type": "markdown",
   "metadata": {},
   "source": [
    "### Epoch 1; Iteración 3\n",
    "Valor entrenamiento $x_2$"
   ]
  },
  {
   "cell_type": "code",
   "execution_count": 312,
   "metadata": {},
   "outputs": [
    {
     "name": "stdout",
     "output_type": "stream",
     "text": [
      "xi: [1, 0] di 0\n",
      "yi: 0.0\n",
      "di-yi: 0.0\n",
      "new weigth: [ 0.  0.]\n",
      "new bias: 0.0\n"
     ]
    }
   ],
   "source": [
    "i = 2\n",
    "xi, di = trainingData[i]\n",
    "print(\"xi:\", xi, \"di\", di)\n",
    "yi = xi[0]*wi[0] + xi[1]*wi[1] + w0\n",
    "print(\"yi:\", yi)\n",
    "print(\"di-yi:\", di - yi)\n",
    "wi = wi + learningRate*(di-yi)*np.array(xi)\n",
    "print(\"new weigth:\", wi)\n",
    "w0 = w0 + learningRate*(di-yi)\n",
    "print(\"new bias:\", w0)"
   ]
  },
  {
   "cell_type": "markdown",
   "metadata": {},
   "source": [
    "### Epoch 1; Iteración 4\n",
    "Valor entrenamiento $x_3$"
   ]
  },
  {
   "cell_type": "code",
   "execution_count": 313,
   "metadata": {},
   "outputs": [
    {
     "name": "stdout",
     "output_type": "stream",
     "text": [
      "xi: [1, 1] di 1\n",
      "yi: 0.0\n",
      "di-yi: 1.0\n",
      "new weigth: [ 0.5  0.5]\n",
      "new bias: 0.5\n"
     ]
    }
   ],
   "source": [
    "i = 3\n",
    "xi, di = trainingData[i]\n",
    "print(\"xi:\", xi, \"di\", di)\n",
    "yi = xi[0]*wi[0] + xi[1]*wi[1] + w0\n",
    "print(\"yi:\", yi)\n",
    "print(\"di-yi:\", di - yi)\n",
    "wi = wi + learningRate*(di-yi)*np.array(xi)\n",
    "print(\"new weigth:\", wi)\n",
    "w0 = w0 + learningRate*(di-yi)\n",
    "print(\"new bias:\", w0)"
   ]
  },
  {
   "cell_type": "markdown",
   "metadata": {},
   "source": [
    "### Epoch 2;\n",
    "Todos los valores de entrenamiento de nuevo."
   ]
  },
  {
   "cell_type": "code",
   "execution_count": 314,
   "metadata": {},
   "outputs": [
    {
     "name": "stdout",
     "output_type": "stream",
     "text": [
      "xi: [1, 1] di 1\n",
      "yi: 0.125\n",
      "di-yi: 0.875\n",
      "new weigth: [ 0.75    0.5625]\n",
      "new bias: 0.125\n"
     ]
    }
   ],
   "source": [
    "for i in range(len(trainingData)):\n",
    "    xi, di = trainingData[i]\n",
    "    yi = xi[0]*wi[0] + xi[1]*wi[1] + w0\n",
    "    wi = wi + learningRate*(di-yi)*np.array(xi)\n",
    "    w0 = w0 + learningRate*(di-yi)\n",
    "\n",
    "print(\"xi:\", xi, \"di\", di)\n",
    "print(\"yi:\", yi)\n",
    "print(\"di-yi:\", di - yi)\n",
    "print(\"new weigth:\", wi)\n",
    "print(\"new bias:\", w0)"
   ]
  },
  {
   "cell_type": "markdown",
   "metadata": {},
   "source": [
    "### Epoch 3;\n",
    "Todos los valores de entrenamiento de nuevo."
   ]
  },
  {
   "cell_type": "code",
   "execution_count": 315,
   "metadata": {},
   "outputs": [
    {
     "name": "stdout",
     "output_type": "stream",
     "text": [
      "xi: [1, 1] di 1\n",
      "yi: 0.25\n",
      "di-yi: 0.75\n",
      "new weigth: [ 0.875  0.625]\n",
      "new bias: -0.125\n"
     ]
    }
   ],
   "source": [
    "for i in range(len(trainingData)):\n",
    "    xi, di = trainingData[i]\n",
    "    yi = xi[0]*wi[0] + xi[1]*wi[1] + w0\n",
    "    wi = wi + learningRate*(di-yi)*np.array(xi)\n",
    "    w0 = w0 + learningRate*(di-yi)\n",
    "\n",
    "print(\"xi:\", xi, \"di\", di)\n",
    "print(\"yi:\", yi)\n",
    "print(\"di-yi:\", di - yi)\n",
    "print(\"new weigth:\", wi)\n",
    "print(\"new bias:\", w0)"
   ]
  },
  {
   "cell_type": "markdown",
   "metadata": {},
   "source": [
    "### Cuando detenerse?\n",
    "Después de varias iteraciones, los pesos convergen a un valor del cual después no se modifican. En este caso, iteraremos hasta llegar a un delta (0.01) entre estos valores."
   ]
  },
  {
   "cell_type": "code",
   "execution_count": 317,
   "metadata": {},
   "outputs": [
    {
     "name": "stdout",
     "output_type": "stream",
     "text": [
      "xi: [1, 1] di 1\n",
      "yi: 0.49462890625\n",
      "di-yi: 0.50537109375\n",
      "new weigth: [ 0.99902344  0.74731445]\n",
      "new bias: -0.49365234375\n",
      "\n",
      "Sucess\n"
     ]
    }
   ],
   "source": [
    "while True:\n",
    "    old_wi = wi\n",
    "    old_w0 = w0\n",
    "    \n",
    "    for i in range(len(trainingData)):\n",
    "        xi, di = trainingData[i]\n",
    "        yi = xi[0]*wi[0] + xi[1]*wi[1] + w0\n",
    "        wi = wi + learningRate*(di-yi)*np.array(xi)\n",
    "        w0 = w0 + learningRate*(di-yi)\n",
    "\n",
    "    print(\"xi:\", xi, \"di\", di)\n",
    "    print(\"yi:\", yi)\n",
    "    print(\"di-yi:\", di - yi)\n",
    "    print(\"new weigth:\", wi)\n",
    "    print(\"new bias:\", w0)\n",
    "    print()\n",
    "    \n",
    "    if( (old_wi - wi  < 0.01).all() and (old_w0 - w0) < 0.01 ):\n",
    "        print(\"Sucess\")\n",
    "        break"
   ]
  },
  {
   "cell_type": "markdown",
   "metadata": {},
   "source": [
    "### Lecciones\n",
    "Algunos puntos importantes que revisamos durante este proceso:\n",
    "* Los pesos en este caso partieron en cero. Esto implica que siempre que se entrene este sistema con los mismos valores de entrada, se llegará al mismo resultado. Esto puede ser negativo en algunos casos y se recomienda iniciar los pesos con valores random:\n",
    "    - `wi = random.rand(2)`\n",
    "    - `w0 = random.random()`.\n",
    "* Para los 3 primeros valores de entrada, en la primera iteración, no se avanzó en nada. Esto puede pasar, sobre todo con miles de valores de entrada. Para generalizar más la solución, se recomienda tomar al azar los valores desde el set de entrada en cada iteración:\n",
    "    - `xi, di = random.choice(trainingData)`"
   ]
  },
  {
   "cell_type": "markdown",
   "metadata": {},
   "source": [
    "## Algoritmo:"
   ]
  },
  {
   "cell_type": "code",
   "execution_count": 7,
   "metadata": {},
   "outputs": [],
   "source": [
    "trainingData = [\n",
    "    #([valores de entrada], salida esperada)\n",
    "    ([0,0],0),\n",
    "    ([0,1],1),\n",
    "    ([1,0],1),\n",
    "    ([1,1],1),\n",
    "]\n",
    "learningRate = 0.2\n",
    "wi = np.random.rand(2)\n",
    "w0 = random.random()\n",
    "delta = 0.00001"
   ]
  },
  {
   "cell_type": "code",
   "execution_count": 31,
   "metadata": {},
   "outputs": [
    {
     "name": "stdout",
     "output_type": "stream",
     "text": [
      "xi: [0, 0] ; di: 0\n",
      "yi: 0.625\n",
      "di-yi: -0.625\n",
      "new weigth: [ 0.375  0.25 ]\n",
      "new bias: 0.3125\n",
      "\n",
      "xi: [0, 0] ; di: 0\n",
      "yi: 0.53125\n",
      "di-yi: -0.53125\n",
      "new weigth: [ 0.375    0.46875]\n",
      "new bias: 0.265625\n",
      "\n",
      "xi: [0, 0] ; di: 0\n",
      "yi: 0.2109375\n",
      "di-yi: -0.2109375\n",
      "new weigth: [ 0.3203125  0.234375 ]\n",
      "new bias: 0.10546875\n",
      "\n",
      "xi: [0, 0] ; di: 0\n",
      "yi: 0.27880859375\n",
      "di-yi: -0.27880859375\n",
      "new weigth: [ 0.44238281  0.56445312]\n",
      "new bias: 0.139404296875\n",
      "\n",
      "xi: [1, 0] ; di: 1\n",
      "yi: 0.695007324219\n",
      "di-yi: 0.304992675781\n",
      "new weigth: [ 0.59487915  0.74737549]\n",
      "new bias: 0.405120849609\n",
      "\n",
      "xi: [1, 1] ; di: 1\n",
      "yi: 1.43044281006\n",
      "di-yi: -0.430442810059\n",
      "new weigth: [ 0.37965775  0.45590591]\n",
      "new bias: -0.0507850646973\n",
      "\n",
      "xi: [0, 0] ; di: 0\n",
      "yi: 0.420784473419\n",
      "di-yi: -0.420784473419\n",
      "new weigth: [ 0.70252514  0.57921553]\n",
      "new bias: 0.21039223671\n",
      "\n",
      "xi: [1, 0] ; di: 1\n",
      "yi: 0.420784473419\n",
      "di-yi: 0.579215526581\n",
      "new weigth: [ 0.82496354  0.41204616]\n",
      "new bias: 0.175036460161\n",
      "\n",
      "xi: [0, 1] ; di: 1\n",
      "yi: 0.381059542298\n",
      "di-yi: 0.618940457702\n",
      "new weigth: [ 0.86872265  0.55925243]\n",
      "new bias: 0.440747573972\n",
      "\n",
      "xi: [0, 0] ; di: 0\n",
      "yi: 0.0879127830267\n",
      "di-yi: -0.0879127830267\n",
      "new weigth: [ 0.82417443  0.55925243]\n",
      "new bias: 0.0439563915133\n",
      "\n",
      "xi: [0, 1] ; di: 1\n",
      "yi: 1.0\n",
      "di-yi: 0.0\n",
      "new weigth: [ 0.82417443  0.81823601]\n",
      "new bias: 0.181763987057\n",
      "\n",
      "xi: [0, 1] ; di: 1\n",
      "yi: 0.952332095359\n",
      "di-yi: 0.0476679046405\n",
      "new weigth: [ 0.86590392  0.84206997]\n",
      "new bias: 0.157930034737\n",
      "\n",
      "xi: [1, 1] ; di: 1\n",
      "yi: 0.615468282012\n",
      "di-yi: 0.384531717988\n",
      "new weigth: [ 0.66172108  0.64980411]\n",
      "new bias: -0.119259329706\n",
      "\n",
      "xi: [0, 1] ; di: 1\n",
      "yi: 1.0\n",
      "di-yi: 0.0\n",
      "new weigth: [ 0.56558815  0.77014716]\n",
      "new bias: 0.229852843831\n",
      "\n",
      "xi: [1, 0] ; di: 1\n",
      "yi: 0.172389632874\n",
      "di-yi: 0.827610367126\n",
      "new weigth: [ 0.69659926  0.54481629]\n",
      "new bias: 0.30340073997\n",
      "\n",
      "xi: [0, 1] ; di: 1\n",
      "yi: 0.28015629399\n",
      "di-yi: 0.71984370601\n",
      "new weigth: [ 0.42419111  0.63233   ]\n",
      "new bias: 0.367670001665\n",
      "\n",
      "xi: [0, 0] ; di: 0\n",
      "yi: 0.525752501249\n",
      "di-yi: -0.525752501249\n",
      "new weigth: [ 0.52826056  0.4742475 ]\n",
      "new bias: 0.262876250624\n",
      "\n",
      "xi: [1, 1] ; di: 1\n",
      "yi: 1.36396289988\n",
      "di-yi: -0.363962899877\n",
      "new weigth: [ 0.34627911  0.48942324]\n",
      "new bias: -0.0176837932983\n",
      "\n",
      "xi: [0, 0] ; di: 0\n",
      "yi: 0.318018550061\n",
      "di-yi: -0.318018550061\n",
      "new weigth: [ 0.68198145  0.58041396]\n",
      "new bias: 0.159009275031\n",
      "\n",
      "xi: [1, 0] ; di: 1\n",
      "yi: 0.52493720993\n",
      "di-yi: 0.47506279007\n",
      "new weigth: [ 0.76148609  0.4223872 ]\n",
      "new bias: 0.238513912546\n",
      "\n",
      "xi: [1, 1] ; di: 1\n",
      "yi: 0.864588959874\n",
      "di-yi: 0.135411040126\n",
      "new weigth: [ 0.67762648  0.3385276 ]\n",
      "new bias: 0.0515514362101\n",
      "\n",
      "xi: [0, 1] ; di: 1\n",
      "yi: 0.506158288072\n",
      "di-yi: 0.493841711928\n",
      "new weigth: [ 0.83236931  0.58544846]\n",
      "new bias: 0.414551543721\n",
      "\n",
      "xi: [1, 1] ; di: 1\n",
      "yi: 1.27290168609\n",
      "di-yi: -0.272901686088\n",
      "new weigth: [ 0.67609593  0.13645084]\n",
      "new bias: 0.0510023867651\n",
      "\n",
      "xi: [0, 0] ; di: 0\n",
      "yi: 0.174702633118\n",
      "di-yi: -0.174702633118\n",
      "new weigth: [ 0.82529737  0.21742686]\n",
      "new bias: 0.0873513165588\n",
      "\n",
      "xi: [1, 0] ; di: 1\n",
      "yi: 0.423805455546\n",
      "di-yi: 0.576194544454\n",
      "new weigth: [ 0.70074596  0.15238909]\n",
      "new bias: 0.299254044332\n",
      "\n",
      "xi: [1, 1] ; di: 1\n",
      "yi: 1.66264868344\n",
      "di-yi: -0.662648683441\n",
      "new weigth: [ 0.33132434  0.09524318]\n",
      "new bias: 0.242108135991\n",
      "\n",
      "xi: [1, 1] ; di: 1\n",
      "yi: 1.26090535143\n",
      "di-yi: -0.260905351428\n",
      "new weigth: [ 0.24849326  0.13045268]\n",
      "new bias: 0.490601392282\n",
      "\n",
      "xi: [0, 1] ; di: 1\n",
      "yi: 1.0\n",
      "di-yi: 0.0\n",
      "new weigth: [ 0.24849326  0.31992564]\n",
      "new bias: 0.680074358284\n",
      "\n",
      "xi: [1, 1] ; di: 1\n",
      "yi: 0.937876685927\n",
      "di-yi: 0.0621233140726\n",
      "new weigth: [ 0.09318497  0.28886398]\n",
      "new bias: 0.649012701248\n",
      "\n",
      "xi: [0, 0] ; di: 0\n",
      "yi: 0.63348187273\n",
      "di-yi: -0.63348187273\n",
      "new weigth: [ 0.11104307  0.14443199]\n",
      "new bias: 0.316740936365\n",
      "\n",
      "xi: [0, 0] ; di: 0\n",
      "yi: 0.411855087143\n",
      "di-yi: -0.411855087143\n",
      "new weigth: [ 0.44371292  0.47710185]\n",
      "new bias: 0.205927543572\n",
      "\n",
      "xi: [1, 0] ; di: 1\n",
      "yi: 0.522898154608\n",
      "di-yi: 0.477101845392\n",
      "new weigth: [ 0.61889269  0.23855092]\n",
      "new bias: 0.381107311527\n",
      "\n",
      "xi: [1, 1] ; di: 1\n",
      "yi: 1.61889268847\n",
      "di-yi: -0.618892688473\n",
      "new weigth: [ 0.30944634  0.21455229]\n",
      "new bias: 0.166555022297\n",
      "\n",
      "xi: [0, 0] ; di: 0\n",
      "yi: 0.0803195486039\n",
      "di-yi: -0.0803195486039\n",
      "new weigth: [ 0.46416952  0.36927546]\n",
      "new bias: 0.040159774302\n",
      "\n",
      "xi: [1, 1] ; di: 1\n",
      "yi: 1.52736714035\n",
      "di-yi: -0.527367140352\n",
      "new weigth: [ 0.26368357  0.2769566 ]\n",
      "new bias: 0.195676263637\n",
      "\n",
      "xi: [1, 0] ; di: 1\n",
      "yi: 1.06260263609\n",
      "di-yi: -0.0626026360854\n",
      "new weigth: [ 0.50270234  0.47140102]\n",
      "new bias: 0.497297664773\n",
      "\n",
      "xi: [1, 1] ; di: 1\n",
      "yi: 1.23570050859\n",
      "di-yi: -0.235700508592\n",
      "new weigth: [ 0.45025137  0.11785025]\n",
      "new bias: 0.314048121432\n",
      "\n",
      "xi: [1, 0] ; di: 1\n",
      "yi: 0.89661365463\n",
      "di-yi: 0.10338634537\n",
      "new weigth: [ 0.6197948   0.34297594]\n",
      "new bias: 0.380205203043\n",
      "\n",
      "xi: [1, 1] ; di: 1\n",
      "yi: 1.20039898814\n",
      "di-yi: -0.200398988143\n",
      "new weigth: [ 0.6146466   0.24277645]\n",
      "new bias: 0.0423774570695\n",
      "\n",
      "xi: [0, 1] ; di: 1\n",
      "yi: 0.385353396354\n",
      "di-yi: 0.614646603646\n",
      "new weigth: [ 0.3073233   0.60019949]\n",
      "new bias: 0.399800505928\n",
      "\n",
      "xi: [1, 0] ; di: 1\n",
      "yi: 0.55346215684\n",
      "di-yi: 0.44653784316\n",
      "new weigth: [ 0.4768807   0.70014962]\n",
      "new bias: 0.523119301026\n",
      "\n",
      "xi: [1, 0] ; di: 1\n",
      "yi: 0.28070501498\n",
      "di-yi: 0.71929498502\n",
      "new weigth: [ 0.59808784  0.48085464]\n",
      "new bias: 0.401912158003\n",
      "\n",
      "xi: [1, 1] ; di: 1\n",
      "yi: 1.56877954038\n",
      "di-yi: -0.568779540381\n",
      "new weigth: [ 0.28438977  0.26973562]\n",
      "new bias: 0.161484840236\n",
      "\n",
      "xi: [1, 0] ; di: 1\n",
      "yi: 1.0\n",
      "di-yi: 0.0\n",
      "new weigth: [ 0.49035502  0.55412539]\n",
      "new bias: 0.509644977571\n",
      "\n",
      "xi: [0, 1] ; di: 1\n",
      "yi: 0.769091398894\n",
      "di-yi: 0.230908601106\n",
      "new weigth: [ 0.50629761  0.63769451]\n",
      "new bias: 0.362305493446\n",
      "\n",
      "xi: [1, 0] ; di: 1\n",
      "yi: 0.280437978692\n",
      "di-yi: 0.719562021308\n",
      "new weigth: [ 0.61292982  0.3845457 ]\n",
      "new bias: 0.387070182238\n",
      "\n",
      "xi: [1, 0] ; di: 1\n",
      "yi: 0.615454300553\n",
      "di-yi: 0.384545699447\n",
      "new weigth: [ 0.70969736  0.19227285]\n",
      "new bias: 0.290302636679\n",
      "\n",
      "xi: [1, 0] ; di: 1\n",
      "yi: 1.0\n",
      "di-yi: 0.0\n",
      "new weigth: [ 0.70969736  0.09613642]\n",
      "new bias: 0.290302636679\n",
      "\n",
      "Sucess\n"
     ]
    }
   ],
   "source": [
    "trainingData = [\n",
    "    #([valores de entrada], salida esperada)\n",
    "    ([0,0],0),\n",
    "    ([0,1],1),\n",
    "    ([1,0],1),\n",
    "    ([1,1],1),\n",
    "]\n",
    "learningRate = 0.5\n",
    "wi = [0, 0]\n",
    "w0 = 0\n",
    "delta = 0.01\n",
    "\n",
    "while True:\n",
    "    old_wi = wi\n",
    "    old_w0 = w0\n",
    "    \n",
    "    for i in range(len(trainingData)):\n",
    "        xi, di = random.choice(trainingData)\n",
    "        yi = xi[0]*wi[0] + xi[1]*wi[1] + w0\n",
    "        wi = wi + learningRate*(di-yi)*np.array(xi)\n",
    "        w0 = w0 + learningRate*(di-yi)\n",
    "\n",
    "    print(\"xi:\", xi, \"; di:\", di)\n",
    "    print(\"yi:\", yi)\n",
    "    print(\"di-yi:\", di - yi)\n",
    "    print(\"new weigth:\", wi)\n",
    "    print(\"new bias:\", w0)\n",
    "    print()\n",
    "    \n",
    "    if(abs(old_w0 - w0) < delta ):\n",
    "        print(\"Sucess\")\n",
    "        break"
   ]
  },
  {
   "cell_type": "code",
   "execution_count": null,
   "metadata": {},
   "outputs": [],
   "source": [
    "yi = np.zeros(len(trainingData))"
   ]
  },
  {
   "cell_type": "code",
   "execution_count": 72,
   "metadata": {},
   "outputs": [
    {
     "name": "stdout",
     "output_type": "stream",
     "text": [
      "[0 0]\n",
      "[0 1]\n",
      "[0 0]\n",
      "[0 1]\n"
     ]
    }
   ],
   "source": [
    "yi = np.zeros(len(trainingData))\n",
    "for inputValue in trainingData:\n",
    "    xi, expected = inputValue\n",
    "    for i in range(len(xi)):\n",
    "        yi = yi + xi[i] * weights[i] + bias\n",
    "    "
   ]
  },
  {
   "cell_type": "code",
   "execution_count": 70,
   "metadata": {},
   "outputs": [
    {
     "name": "stdout",
     "output_type": "stream",
     "text": [
      "0.522508235342\n",
      "0.522508235342\n",
      "0.522508235342\n",
      "1.16679322878\n",
      "0.643645268168\n",
      "0.643645268168\n",
      "0.643645268168\n",
      "1.28793026161\n"
     ]
    }
   ],
   "source": [
    "# Para cada entrada del set de entrenamiento:\n",
    "for inputValue in trainingData:\n",
    "    \n",
    "    w0t = bias\n",
    "    # Separar el set en valores xi y las salidas esperadas.\n",
    "    xi, expected = inputValue\n",
    "    for j in range(len(xi)):\n",
    "        comparison = weights[j] * xi[j] + comparison;\n",
    "        print(comparison)\n",
    "    \n",
    "    correctValue = expected\n",
    "    classified = step(comparison)\n",
    "        \n",
    "    "
   ]
  },
  {
   "cell_type": "code",
   "execution_count": 38,
   "metadata": {},
   "outputs": [
    {
     "name": "stdout",
     "output_type": "stream",
     "text": [
      "a\n"
     ]
    }
   ],
   "source": [
    "foo = ['a', 'b', 'c', 'd', 'e']\n",
    "print(random.choice(foo))"
   ]
  },
  {
   "cell_type": "code",
   "execution_count": 122,
   "metadata": {},
   "outputs": [
    {
     "name": "stdout",
     "output_type": "stream",
     "text": [
      "[1, 0] 1\n"
     ]
    }
   ],
   "source": [
    "value, expected = random.choice(trainingData)\n",
    "print(value, expected)"
   ]
  },
  {
   "cell_type": "code",
   "execution_count": null,
   "metadata": {},
   "outputs": [],
   "source": []
  },
  {
   "cell_type": "markdown",
   "metadata": {},
   "source": [
    "Tengo unas dudas aquí: \n",
    "1. Porque elegir uno solo de los valores de entrenamiento y multiplicarlo por todos los pesos."
   ]
  },
  {
   "cell_type": "code",
   "execution_count": 133,
   "metadata": {},
   "outputs": [
    {
     "ename": "ValueError",
     "evalue": "shapes (3,) and (2,) not aligned: 3 (dim 0) != 2 (dim 0)",
     "output_type": "error",
     "traceback": [
      "\u001b[0;31m---------------------------------------------------------------------------\u001b[0m",
      "\u001b[0;31mValueError\u001b[0m                                Traceback (most recent call last)",
      "\u001b[0;32m<ipython-input-133-0de78cd7174d>\u001b[0m in \u001b[0;36m<module>\u001b[0;34m()\u001b[0m\n\u001b[1;32m      2\u001b[0m \u001b[0;32mfor\u001b[0m \u001b[0mi\u001b[0m \u001b[0;32min\u001b[0m \u001b[0mrange\u001b[0m\u001b[0;34m(\u001b[0m\u001b[0miterNums\u001b[0m\u001b[0;34m)\u001b[0m\u001b[0;34m:\u001b[0m\u001b[0;34m\u001b[0m\u001b[0m\n\u001b[1;32m      3\u001b[0m     \u001b[0mvalue\u001b[0m\u001b[0;34m,\u001b[0m \u001b[0mexpected\u001b[0m \u001b[0;34m=\u001b[0m \u001b[0mrandom\u001b[0m\u001b[0;34m.\u001b[0m\u001b[0mchoice\u001b[0m\u001b[0;34m(\u001b[0m\u001b[0mtrainingData\u001b[0m\u001b[0;34m)\u001b[0m\u001b[0;34m\u001b[0m\u001b[0m\n\u001b[0;32m----> 4\u001b[0;31m     \u001b[0mresult\u001b[0m \u001b[0;34m=\u001b[0m \u001b[0mnp\u001b[0m\u001b[0;34m.\u001b[0m\u001b[0mdot\u001b[0m\u001b[0;34m(\u001b[0m\u001b[0mweights\u001b[0m\u001b[0;34m,\u001b[0m \u001b[0mvalue\u001b[0m\u001b[0;34m)\u001b[0m\u001b[0;34m\u001b[0m\u001b[0m\n\u001b[0m\u001b[1;32m      5\u001b[0m     \u001b[0merror\u001b[0m \u001b[0;34m=\u001b[0m \u001b[0mexpected\u001b[0m \u001b[0;34m-\u001b[0m \u001b[0mstep\u001b[0m\u001b[0;34m(\u001b[0m\u001b[0mresult\u001b[0m\u001b[0;34m)\u001b[0m\u001b[0;34m\u001b[0m\u001b[0m\n\u001b[1;32m      6\u001b[0m     \u001b[0merrors\u001b[0m\u001b[0;34m.\u001b[0m\u001b[0mappend\u001b[0m\u001b[0;34m(\u001b[0m\u001b[0merror\u001b[0m\u001b[0;34m)\u001b[0m\u001b[0;34m\u001b[0m\u001b[0m\n",
      "\u001b[0;31mValueError\u001b[0m: shapes (3,) and (2,) not aligned: 3 (dim 0) != 2 (dim 0)"
     ]
    }
   ],
   "source": [
    "weights = np.random.rand(3)\n",
    "for i in range(iterNums):\n",
    "    value, expected = random.choice(trainingData)\n",
    "    result = np.dot(weights, value)\n",
    "    error = expected - step(result)\n",
    "    errors.append(error)\n",
    "    weights += learningRate * error * value"
   ]
  },
  {
   "cell_type": "code",
   "execution_count": 86,
   "metadata": {},
   "outputs": [
    {
     "name": "stdout",
     "output_type": "stream",
     "text": [
      "[0 0]: -0.14576129367652835 -> 0\n",
      "[0 1]: 0.6909607994767166 -> 1\n",
      "[1 0]: 0.40971353066320415 -> 1\n",
      "[1 1]: 1.2464356238164491 -> 1\n"
     ]
    }
   ],
   "source": [
    "for x, _ in trainingData: \n",
    "    result = dot(x, w) \n",
    "    print(\"{}: {} -> {}\".format(x[:2], result, unitStep(result)))"
   ]
  },
  {
   "cell_type": "code",
   "execution_count": 87,
   "metadata": {},
   "outputs": [
    {
     "data": {
      "image/png": "[encoded data removed]",
      "text/plain": [
       "<matplotlib.figure.Figure at 0x7fe542aefc88>"
      ]
     },
     "metadata": {},
     "output_type": "display_data"
    }
   ],
   "source": [
    "plt.plot(errors)\n",
    "plt.show()"
   ]
  },
  {
   "cell_type": "code",
   "execution_count": null,
   "metadata": {},
   "outputs": [],
   "source": []
  }
 ],
 "metadata": {
  "kernelspec": {
   "display_name": "Python 3",
   "language": "python",
   "name": "python3"
  },
  "language_info": {
   "codemirror_mode": {
    "name": "ipython",
    "version": 3
   },
   "file_extension": ".py",
   "mimetype": "text/x-python",
   "name": "python",
   "nbconvert_exporter": "python",
   "pygments_lexer": "ipython3",
   "version": "3.6.3"
  }
 },
 "nbformat": 4,
 "nbformat_minor": 2
}
