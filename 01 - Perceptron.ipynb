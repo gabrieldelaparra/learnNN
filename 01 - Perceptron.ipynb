{
 "cells": [
  {
   "cell_type": "markdown",
   "metadata": {},
   "source": [
    "# Perceptron\n",
    "\n",
    "[Source](https://blog.dbrgn.ch/2013/3/26/perceptrons-in-python/)\n",
    "\n",
    "[Source2](https://brilliant.org/wiki/perceptron/)"
   ]
  },
  {
   "cell_type": "code",
   "execution_count": 1,
   "metadata": {},
   "outputs": [],
   "source": [
    "import random\n",
    "import numpy as np\n",
    "import matplotlib.pyplot as plt "
   ]
  },
  {
   "cell_type": "markdown",
   "metadata": {},
   "source": [
    "# Modelo\n",
    "\n",
    "Idea general del perceptrón:\n",
    "* Es un algoritmo de aprendizaje supervisado para clasificación.\n",
    "* Es la suma de las entradas x<sub>i</sub> ponderadas por pesos w<sub>i</sub>.\n",
    "* Se ocupa una función de activación a la salida de la neurona, en este caso el escalón.\n",
    "\n",
    "El entrenamiento consiste en:\n",
    "* A partir de los datos de entrada, el objetivo es calcular los pesos.\n",
    "\n",
    "Una vez entrenado:\n",
    "* Clasifica datos nuevos."
   ]
  },
  {
   "cell_type": "markdown",
   "metadata": {},
   "source": [
    "![](images/perceptron.png)"
   ]
  },
  {
   "cell_type": "markdown",
   "metadata": {},
   "source": [
    "Vamos a necesitar:\n",
    "- Función que deseamos entrenar\n",
    "- Valores de entrenamiento\n",
    "- Pesos al azar\n",
    "- Función de activación\n",
    "- Hyper Parámetros"
   ]
  },
  {
   "cell_type": "markdown",
   "metadata": {},
   "source": [
    "## Función a entrenar: OR"
   ]
  },
  {
   "cell_type": "markdown",
   "metadata": {},
   "source": [
    "| A | B | A or B |\n",
    "|---|---|--------|\n",
    "| 0 | 0 | 0      |\n",
    "| 0 | 1 | 1      |\n",
    "| 1 | 0 | 1      |\n",
    "| 1 | 1 | 1      |"
   ]
  },
  {
   "cell_type": "markdown",
   "metadata": {},
   "source": [
    "## Valores de entrenamiento"
   ]
  },
  {
   "cell_type": "code",
   "execution_count": 159,
   "metadata": {},
   "outputs": [],
   "source": [
    "trainingData = [\n",
    "    #([valores de entrada], salida esperada)\n",
    "    ([0,0],0),\n",
    "    ([0,1],1),\n",
    "    ([1,0],1),\n",
    "    ([1,1],1),\n",
    "]"
   ]
  },
  {
   "cell_type": "markdown",
   "metadata": {},
   "source": [
    "### Plotear"
   ]
  },
  {
   "cell_type": "code",
   "execution_count": 181,
   "metadata": {},
   "outputs": [
    {
     "name": "stdout",
     "output_type": "stream",
     "text": [
      "[[0, 0], [0, 1], [1, 0], [1, 1]]\n"
     ]
    },
    {
     "data": {
      "image/png": "[encoded data removed]",
      "text/plain": [
       "<matplotlib.figure.Figure at 0x7f5f6c256278>"
      ]
     },
     "metadata": {},
     "output_type": "display_data"
    }
   ],
   "source": [
    "inputs = [i[0] for i in trainingData]\n",
    "colors = [i[1] for i in trainingData]\n",
    "print(inputs)\n",
    "x = [i[0] for i in inputs]\n",
    "y = [i[1] for i in inputs]\n",
    "plt.scatter(x, y, c=colors, cmap=\"bwr\")\n",
    "plt.show()"
   ]
  },
  {
   "cell_type": "code",
   "execution_count": 269,
   "metadata": {},
   "outputs": [],
   "source": [
    "def plotInputData():\n",
    "    inputs = [i[0] for i in trainingData]\n",
    "    colors = [i[1] for i in trainingData]\n",
    "    print(inputs)\n",
    "    x = [i[0] for i in inputs]\n",
    "    y = [i[1] for i in inputs]\n",
    "    plt.scatter(x, y, c=colors, cmap=\"bwr\")\n",
    "    plt.show()"
   ]
  },
  {
   "cell_type": "markdown",
   "metadata": {},
   "source": [
    "## Pesos iniciales\n",
    "Un aspecto de considerar de nuestro problema es que tendremos 3 pesos:\n",
    "* 2 entradas: $w_1$ de $A$ y $w_2$ de $B$ (`A` y `B` en la tabla) \n",
    "* 1 de bías: $w_0$"
   ]
  },
  {
   "cell_type": "code",
   "execution_count": 61,
   "metadata": {},
   "outputs": [
    {
     "name": "stdout",
     "output_type": "stream",
     "text": [
      "Weights: [ 0.12113703  0.64428499]\n",
      "Bias: 0.5225082353420727\n"
     ]
    }
   ],
   "source": [
    "weights = np.random.rand(2)\n",
    "bias = random.random()\n",
    "print(\"Weights:\", weights)\n",
    "print(\"Bias:\", bias)"
   ]
  },
  {
   "cell_type": "markdown",
   "metadata": {},
   "source": [
    "## Funcion de activación"
   ]
  },
  {
   "cell_type": "code",
   "execution_count": 34,
   "metadata": {},
   "outputs": [],
   "source": [
    "def step(x):\n",
    "    if x<0:\n",
    "        return 0\n",
    "    return 1"
   ]
  },
  {
   "cell_type": "code",
   "execution_count": 35,
   "metadata": {},
   "outputs": [
    {
     "name": "stdout",
     "output_type": "stream",
     "text": [
      "0\n",
      "0\n",
      "1\n",
      "1\n",
      "1\n"
     ]
    }
   ],
   "source": [
    "print(step(-1))\n",
    "print(step(-0.1))\n",
    "print(step(0))\n",
    "print(step(0.1))\n",
    "print(step(1))"
   ]
  },
  {
   "cell_type": "markdown",
   "metadata": {},
   "source": [
    "## Hyper Parámetros"
   ]
  },
  {
   "cell_type": "code",
   "execution_count": 36,
   "metadata": {},
   "outputs": [],
   "source": [
    "learningRate = 0.2"
   ]
  },
  {
   "cell_type": "markdown",
   "metadata": {},
   "source": [
    "# Entrenamiento\n",
    "El entrenamiento está dado en 4 pasos:\n",
    "1. Empezar con valores al azar a los pesos $w(0)$ ($w_1$, $w_2$) y al bias $w_0$.\n",
    "2. Para cada entrada $x_i$, encontrar un arreglo de pesos $w$, tal que $w(t) \\cdot x_i + w_0 > 0$. Con $y_i$ la salida para la entrada $x_i$.\n",
    "3. Actualizar los pesos para la siguiente iteración:\n",
    "    - $w(t+1) = w(t) + \\alpha(d_i - y_i)x_i$\n",
    "    - $w_0(t+1) = w_0(t) + \\alpha(d_i - y_i)$\n",
    "4. Si el entrenamiento es offline (se entrenan con las mismas entradas), se repiten los pasos 2 y 3 hasta que se reduce el error lo suficiente.\n",
    "\n",
    "Desde los datos de entrenamiento tenemos:\n",
    "* $x_i$\n",
    "* $d_i$\n",
    "\n",
    "Para cada input, debemos calcular: \n",
    "* $y_i$\n",
    "\n",
    "Con los $y_i$, calculamos los nuevos pesos $w_i$."
   ]
  },
  {
   "cell_type": "markdown",
   "metadata": {},
   "source": [
    "## Ejemplo manual"
   ]
  },
  {
   "cell_type": "code",
   "execution_count": 56,
   "metadata": {},
   "outputs": [],
   "source": [
    "trainingData = [\n",
    "    #([valores de entrada], salida esperada)\n",
    "    ([0,0],0),\n",
    "    ([0,1],0),\n",
    "    ([1,0],0),\n",
    "    ([1,1],1),\n",
    "]"
   ]
  },
  {
   "cell_type": "code",
   "execution_count": 57,
   "metadata": {},
   "outputs": [],
   "source": [
    "learningRate = 0.5"
   ]
  },
  {
   "cell_type": "code",
   "execution_count": 58,
   "metadata": {},
   "outputs": [
    {
     "name": "stdout",
     "output_type": "stream",
     "text": [
      "wi: [0, 0]\n",
      "w0: 0\n"
     ]
    }
   ],
   "source": [
    "wi = [0, 0]\n",
    "w0 = 0\n",
    "print(\"wi:\", wi)\n",
    "print(\"w0:\", w0)"
   ]
  },
  {
   "cell_type": "markdown",
   "metadata": {},
   "source": [
    "### Epoch 1; Iteración 1\n",
    "Valor entrenamiento $x_0$"
   ]
  },
  {
   "cell_type": "code",
   "execution_count": 59,
   "metadata": {},
   "outputs": [
    {
     "name": "stdout",
     "output_type": "stream",
     "text": [
      "xi: [0, 0] di 0\n"
     ]
    }
   ],
   "source": [
    "i = 0\n",
    "xi, di = trainingData[i]\n",
    "print(\"xi:\", xi, \"di\", di)"
   ]
  },
  {
   "cell_type": "code",
   "execution_count": 60,
   "metadata": {},
   "outputs": [
    {
     "name": "stdout",
     "output_type": "stream",
     "text": [
      "yi: 0\n"
     ]
    }
   ],
   "source": [
    "yi = xi[0]*wi[0] + xi[1]*wi[1] + w0\n",
    "print(\"yi:\", yi)"
   ]
  },
  {
   "cell_type": "code",
   "execution_count": 61,
   "metadata": {},
   "outputs": [
    {
     "name": "stdout",
     "output_type": "stream",
     "text": [
      "di-yi: 0\n"
     ]
    }
   ],
   "source": [
    "print(\"di-yi:\", di - yi)"
   ]
  },
  {
   "cell_type": "code",
   "execution_count": 62,
   "metadata": {},
   "outputs": [
    {
     "name": "stdout",
     "output_type": "stream",
     "text": [
      "new weigth: [ 0.  0.]\n"
     ]
    }
   ],
   "source": [
    "wi = wi + learningRate*(di-yi)*np.array(xi)\n",
    "print(\"new weigth:\", wi)"
   ]
  },
  {
   "cell_type": "code",
   "execution_count": 63,
   "metadata": {},
   "outputs": [
    {
     "name": "stdout",
     "output_type": "stream",
     "text": [
      "new bias: 0.0\n"
     ]
    }
   ],
   "source": [
    "w0 = w0 + learningRate*(di-yi)\n",
    "print(\"new bias:\", w0)"
   ]
  },
  {
   "cell_type": "markdown",
   "metadata": {},
   "source": [
    "### Epoch 1; Iteración 2\n",
    "Valor entrenamiento $x_1$"
   ]
  },
  {
   "cell_type": "code",
   "execution_count": 64,
   "metadata": {},
   "outputs": [
    {
     "name": "stdout",
     "output_type": "stream",
     "text": [
      "xi: [0, 1] di 0\n",
      "yi: 0.0\n",
      "di-yi: 0.0\n",
      "new weigth: [ 0.  0.]\n",
      "new bias: 0.0\n"
     ]
    }
   ],
   "source": [
    "i = 1\n",
    "xi, di = trainingData[i]\n",
    "print(\"xi:\", xi, \"di\", di)\n",
    "yi = xi[0]*wi[0] + xi[1]*wi[1] + w0\n",
    "print(\"yi:\", yi)\n",
    "print(\"di-yi:\", di - yi)\n",
    "wi = wi + learningRate*(di-yi)*np.array(xi)\n",
    "print(\"new weigth:\", wi)\n",
    "w0 = w0 + learningRate*(di-yi)\n",
    "print(\"new bias:\", w0)"
   ]
  },
  {
   "cell_type": "markdown",
   "metadata": {},
   "source": [
    "### Epoch 1; Iteración 3\n",
    "Valor entrenamiento $x_2$"
   ]
  },
  {
   "cell_type": "code",
   "execution_count": 65,
   "metadata": {},
   "outputs": [
    {
     "name": "stdout",
     "output_type": "stream",
     "text": [
      "xi: [1, 0] di 0\n",
      "yi: 0.0\n",
      "di-yi: 0.0\n",
      "new weigth: [ 0.  0.]\n",
      "new bias: 0.0\n"
     ]
    }
   ],
   "source": [
    "i = 2\n",
    "xi, di = trainingData[i]\n",
    "print(\"xi:\", xi, \"di\", di)\n",
    "yi = xi[0]*wi[0] + xi[1]*wi[1] + w0\n",
    "print(\"yi:\", yi)\n",
    "print(\"di-yi:\", di - yi)\n",
    "wi = wi + learningRate*(di-yi)*np.array(xi)\n",
    "print(\"new weigth:\", wi)\n",
    "w0 = w0 + learningRate*(di-yi)\n",
    "print(\"new bias:\", w0)"
   ]
  },
  {
   "cell_type": "markdown",
   "metadata": {},
   "source": [
    "### Epoch 1; Iteración 4\n",
    "Valor entrenamiento $x_3$"
   ]
  },
  {
   "cell_type": "code",
   "execution_count": 66,
   "metadata": {},
   "outputs": [
    {
     "name": "stdout",
     "output_type": "stream",
     "text": [
      "xi: [1, 1] di 1\n",
      "yi: 0.0\n",
      "di-yi: 1.0\n",
      "new weigth: [ 0.5  0.5]\n",
      "new bias: 0.5\n"
     ]
    }
   ],
   "source": [
    "i = 3\n",
    "xi, di = trainingData[i]\n",
    "print(\"xi:\", xi, \"di\", di)\n",
    "yi = xi[0]*wi[0] + xi[1]*wi[1] + w0\n",
    "print(\"yi:\", yi)\n",
    "print(\"di-yi:\", di - yi)\n",
    "wi = wi + learningRate*(di-yi)*np.array(xi)\n",
    "print(\"new weigth:\", wi)\n",
    "w0 = w0 + learningRate*(di-yi)\n",
    "print(\"new bias:\", w0)"
   ]
  },
  {
   "cell_type": "markdown",
   "metadata": {},
   "source": [
    "### Epoch 2;\n",
    "Todos los valores de entrenamiento de nuevo."
   ]
  },
  {
   "cell_type": "code",
   "execution_count": 67,
   "metadata": {},
   "outputs": [
    {
     "name": "stdout",
     "output_type": "stream",
     "text": [
      "xi: [0, 0] di 0\n",
      "yi: 0.5\n",
      "di-yi: -0.5\n",
      "new weigth: [ 0.5  0.5]\n",
      "new bias: 0.25\n",
      "\n",
      "xi: [0, 1] di 0\n",
      "yi: 0.75\n",
      "di-yi: -0.75\n",
      "new weigth: [ 0.5    0.125]\n",
      "new bias: -0.125\n",
      "\n",
      "xi: [1, 0] di 0\n",
      "yi: 0.375\n",
      "di-yi: -0.375\n",
      "new weigth: [ 0.3125  0.125 ]\n",
      "new bias: -0.3125\n",
      "\n",
      "xi: [1, 1] di 1\n",
      "yi: 0.125\n",
      "di-yi: 0.875\n",
      "new weigth: [ 0.75    0.5625]\n",
      "new bias: 0.125\n",
      "\n"
     ]
    }
   ],
   "source": [
    "for i in range(len(trainingData)):\n",
    "    xi, di = trainingData[i]\n",
    "    yi = xi[0]*wi[0] + xi[1]*wi[1] + w0\n",
    "    wi = wi + learningRate*(di-yi)*np.array(xi)\n",
    "    w0 = w0 + learningRate*(di-yi)\n",
    "\n",
    "    print(\"xi:\", xi, \"di\", di)\n",
    "    print(\"yi:\", yi)\n",
    "    print(\"di-yi:\", di - yi)\n",
    "    print(\"new weigth:\", wi)\n",
    "    print(\"new bias:\", w0)\n",
    "    print()"
   ]
  },
  {
   "cell_type": "markdown",
   "metadata": {},
   "source": [
    "### Epoch 3;\n",
    "Todos los valores de entrenamiento de nuevo. Esta vez, con print solo por la Epoch completa."
   ]
  },
  {
   "cell_type": "code",
   "execution_count": 68,
   "metadata": {},
   "outputs": [
    {
     "name": "stdout",
     "output_type": "stream",
     "text": [
      "xi: [1, 1] di 1\n",
      "yi: 0.25\n",
      "di-yi: 0.75\n",
      "new weigth: [ 0.875  0.625]\n",
      "new bias: -0.125\n",
      "\n"
     ]
    }
   ],
   "source": [
    "for i in range(len(trainingData)):\n",
    "    xi, di = trainingData[i]\n",
    "    yi = xi[0]*wi[0] + xi[1]*wi[1] + w0\n",
    "    wi = wi + learningRate*(di-yi)*np.array(xi)\n",
    "    w0 = w0 + learningRate*(di-yi)\n",
    "\n",
    "print(\"xi:\", xi, \"di\", di)\n",
    "print(\"yi:\", yi)\n",
    "print(\"di-yi:\", di - yi)\n",
    "print(\"new weigth:\", wi)\n",
    "print(\"new bias:\", w0)\n",
    "print()"
   ]
  },
  {
   "cell_type": "markdown",
   "metadata": {},
   "source": [
    "### Cuando detenerse?\n",
    "Después de varias iteraciones, los pesos convergen a un valor del cual después no se modifican. En este caso, iteraremos hasta llegar a un delta (0.01) entre estos valores."
   ]
  },
  {
   "cell_type": "code",
   "execution_count": 69,
   "metadata": {},
   "outputs": [
    {
     "name": "stdout",
     "output_type": "stream",
     "text": [
      "xi: [1, 1] di 1\n",
      "yi: 0.34375\n",
      "di-yi: 0.65625\n",
      "new weigth: [ 0.9375    0.671875]\n",
      "new bias: -0.28125\n",
      "\n",
      "xi: [1, 1] di 1\n",
      "yi: 0.40625\n",
      "di-yi: 0.59375\n",
      "new weigth: [ 0.96875   0.703125]\n",
      "new bias: -0.375\n",
      "\n",
      "xi: [1, 1] di 1\n",
      "yi: 0.4453125\n",
      "di-yi: 0.5546875\n",
      "new weigth: [ 0.984375    0.72265625]\n",
      "new bias: -0.4296875\n",
      "\n",
      "xi: [1, 1] di 1\n",
      "yi: 0.46875\n",
      "di-yi: 0.53125\n",
      "new weigth: [ 0.9921875  0.734375 ]\n",
      "new bias: -0.4609375\n",
      "\n",
      "xi: [1, 1] di 1\n",
      "yi: 0.482421875\n",
      "di-yi: 0.517578125\n",
      "new weigth: [ 0.99609375  0.74121094]\n",
      "new bias: -0.478515625\n",
      "\n",
      "xi: [1, 1] di 1\n",
      "yi: 0.490234375\n",
      "di-yi: 0.509765625\n",
      "new weigth: [ 0.99804688  0.74511719]\n",
      "new bias: -0.48828125\n",
      "\n",
      "xi: [1, 1] di 1\n",
      "yi: 0.49462890625\n",
      "di-yi: 0.50537109375\n",
      "new weigth: [ 0.99902344  0.74731445]\n",
      "new bias: -0.49365234375\n",
      "\n",
      "xi: [1, 1] di 1\n",
      "yi: 0.4970703125\n",
      "di-yi: 0.5029296875\n",
      "new weigth: [ 0.99951172  0.74853516]\n",
      "new bias: -0.49658203125\n",
      "\n",
      "xi: [1, 1] di 1\n",
      "yi: 0.498413085938\n",
      "di-yi: 0.501586914062\n",
      "new weigth: [ 0.99975586  0.74920654]\n",
      "new bias: -0.498168945312\n",
      "\n",
      "xi: [1, 1] di 1\n",
      "yi: 0.499145507812\n",
      "di-yi: 0.500854492188\n",
      "new weigth: [ 0.99987793  0.74957275]\n",
      "new bias: -0.4990234375\n",
      "\n",
      "xi: [1, 1] di 1\n",
      "yi: 0.499542236328\n",
      "di-yi: 0.500457763672\n",
      "new weigth: [ 0.99993896  0.74977112]\n",
      "new bias: -0.499481201172\n",
      "\n",
      "xi: [1, 1] di 1\n",
      "yi: 0.499755859375\n",
      "di-yi: 0.500244140625\n",
      "new weigth: [ 0.99996948  0.74987793]\n",
      "new bias: -0.499725341797\n",
      "\n",
      "xi: [1, 1] di 1\n",
      "yi: 0.499870300293\n",
      "di-yi: 0.500129699707\n",
      "new weigth: [ 0.99998474  0.74993515]\n",
      "new bias: -0.499855041504\n",
      "\n",
      "xi: [1, 1] di 1\n",
      "yi: 0.499931335449\n",
      "di-yi: 0.500068664551\n",
      "new weigth: [ 0.99999237  0.74996567]\n",
      "new bias: -0.499923706055\n",
      "\n",
      "xi: [1, 1] di 1\n",
      "yi: 0.499963760376\n",
      "di-yi: 0.500036239624\n",
      "new weigth: [ 0.99999619  0.74998188]\n",
      "new bias: -0.499959945679\n",
      "\n",
      "xi: [1, 1] di 1\n",
      "yi: 0.499980926514\n",
      "di-yi: 0.500019073486\n",
      "new weigth: [ 0.99999809  0.74999046]\n",
      "new bias: -0.499979019165\n",
      "\n",
      "xi: [1, 1] di 1\n",
      "yi: 0.49998998642\n",
      "di-yi: 0.50001001358\n",
      "new weigth: [ 0.99999905  0.74999499]\n",
      "new bias: -0.499989032745\n",
      "\n",
      "xi: [1, 1] di 1\n",
      "yi: 0.499994754791\n",
      "di-yi: 0.500005245209\n",
      "new weigth: [ 0.99999952  0.74999738]\n",
      "new bias: -0.499994277954\n",
      "\n",
      "Sucess\n"
     ]
    }
   ],
   "source": [
    "delta = 0.00001\n",
    "while True:\n",
    "    old_wi = wi\n",
    "    old_w0 = w0\n",
    "    \n",
    "    for i in range(len(trainingData)):\n",
    "        xi, di = trainingData[i]\n",
    "        yi = xi[0]*wi[0] + xi[1]*wi[1] + w0\n",
    "        wi = wi + learningRate*(di-yi)*np.array(xi)\n",
    "        w0 = w0 + learningRate*(di-yi)\n",
    "\n",
    "    print(\"xi:\", xi, \"di\", di)\n",
    "    print(\"yi:\", yi)\n",
    "    print(\"di-yi:\", di - yi)\n",
    "    print(\"new weigth:\", wi)\n",
    "    print(\"new bias:\", w0)\n",
    "    print()\n",
    "    \n",
    "    if( (abs(old_wi - wi)  < delta).all() and abs(old_w0 - w0) < delta ):\n",
    "        print(\"Sucess\")\n",
    "        break"
   ]
  },
  {
   "cell_type": "markdown",
   "metadata": {},
   "source": [
    "### Plotear\n",
    "\n",
    "[Source](https://stats.stackexchange.com/questions/169343/how-to-plot-the-or-function-along-with-the-decision-boundary-of-a-perceptron)"
   ]
  },
  {
   "cell_type": "code",
   "execution_count": 95,
   "metadata": {},
   "outputs": [
    {
     "data": {
      "image/png": "[encoded data removed]",
      "text/plain": [
       "<matplotlib.figure.Figure at 0x7f0d0f6314a8>"
      ]
     },
     "metadata": {},
     "output_type": "display_data"
    }
   ],
   "source": [
    "# Puntos:\n",
    "inputs = [i[0] for i in trainingData]\n",
    "colors = [i[1] for i in trainingData]\n",
    "x = [i[0] for i in inputs]\n",
    "y = [i[1] for i in inputs]\n",
    "minx, max\n",
    "\n",
    "plt.ylim()\n",
    "plt.xlim(-.1, 1.1)\n",
    "plt.scatter(x, y, c=colors, cmap=\"bwr\")\n",
    "\n",
    "# Calc the hyperplane (decision boundary)\n",
    "ymin, ymax = plt.ylim()\n",
    "a = -wi[0] / wi[1]\n",
    "xx = np.linspace(ymin, ymax)\n",
    "yy = a * xx - w0 / wi[1]\n",
    " \n",
    "# Plot the line\n",
    "plt.plot(yy,xx, 'k')\n",
    "\n",
    "plt.show()\n"
   ]
  },
  {
   "cell_type": "code",
   "execution_count": 93,
   "metadata": {},
   "outputs": [],
   "source": [
    "def plotPerceptron():\n",
    "    # Puntos:\n",
    "    inputs = [i[0] for i in trainingData]\n",
    "    colors = [i[1] for i in trainingData]\n",
    "    x = [i[0] for i in inputs]\n",
    "    y = [i[1] for i in inputs]\n",
    "    plt.ylim(-2, 2)\n",
    "    plt.xlim(-2, 2)\n",
    "    plt.scatter(x, y, c=colors, cmap=\"bwr\")\n",
    "\n",
    "    ymin, ymax = plt.ylim()\n",
    "    a = -wi[0] / wi[1]\n",
    "    xx = np.linspace(ymin, ymax)\n",
    "    yy = a * xx - w0 / wi[1]\n",
    "\n",
    "    plt.plot(yy,xx, 'k')\n",
    "    plt.show()\n"
   ]
  },
  {
   "cell_type": "markdown",
   "metadata": {},
   "source": [
    "### Lecciones\n",
    "Algunos puntos importantes que revisamos durante este proceso:\n",
    "* Los pesos en este caso partieron en cero. Esto implica que siempre que se entrene este sistema con los mismos valores de entrada, se llegará al mismo resultado. Esto puede ser negativo en algunos casos y se recomienda iniciar los pesos con valores random:\n",
    "    - `wi = random.rand(2)`\n",
    "    - `w0 = random.random()`.\n",
    "* Para los 3 primeros valores de entrada, en la primera iteración, no se avanzó en nada. Esto puede pasar, sobre todo con miles de valores de entrada. Para generalizar más la solución, se recomienda tomar al azar los valores desde el set de entrada en cada iteración:\n",
    "    - `xi, di = random.choice(trainingData)`"
   ]
  },
  {
   "cell_type": "markdown",
   "metadata": {},
   "source": [
    "## Algoritmo:"
   ]
  },
  {
   "cell_type": "code",
   "execution_count": 7,
   "metadata": {},
   "outputs": [],
   "source": [
    "trainingData = [\n",
    "    ([0,0],0),\n",
    "    ([0,1],1),\n",
    "    ([1,0],1),\n",
    "    ([1,1],1),\n",
    "]\n",
    "learningRate = 0.2\n",
    "wi = np.random.rand(2)\n",
    "w0 = random.random()\n",
    "delta = 0.01"
   ]
  },
  {
   "cell_type": "code",
   "execution_count": 8,
   "metadata": {},
   "outputs": [
    {
     "name": "stdout",
     "output_type": "stream",
     "text": [
      "xi: [1, 1] ; di: 1\n",
      "yi: 1.38991459009\n",
      "di-yi: -0.389914590088\n",
      "new weigth: [ 0.1707843   0.65696212]\n",
      "new bias: 0.328219421159\n",
      "\n",
      "xi: [1, 1] ; di: 1\n",
      "yi: 1.34272596861\n",
      "di-yi: -0.342725968606\n",
      "new weigth: [ 0.21234864  0.60450939]\n",
      "new bias: 0.320232351607\n",
      "\n",
      "xi: [1, 1] ; di: 1\n",
      "yi: 1.33020761965\n",
      "di-yi: -0.330207619645\n",
      "new weigth: [ 0.24702803  0.56632881]\n",
      "new bias: 0.318726208619\n",
      "\n",
      "xi: [1, 1] ; di: 1\n",
      "yi: 1.32471507937\n",
      "di-yi: -0.324715079366\n",
      "new weigth: [ 0.2745356   0.53712384]\n",
      "new bias: 0.318226587638\n",
      "\n",
      "xi: [1, 1] ; di: 1\n",
      "yi: 1.32124832943\n",
      "di-yi: -0.32124832943\n",
      "new weigth: [ 0.29613077  0.51453315]\n",
      "new bias: 0.31783541183\n",
      "\n",
      "xi: [1, 1] ; di: 1\n",
      "yi: 1.31875613649\n",
      "di-yi: -0.318756136489\n",
      "new weigth: [ 0.31305178  0.49702163]\n",
      "new bias: 0.317429045708\n",
      "\n",
      "xi: [1, 1] ; di: 1\n",
      "yi: 1.31690988194\n",
      "di-yi: -0.316909881936\n",
      "new weigth: [ 0.32630939  0.48344668]\n",
      "new bias: 0.31700787842\n",
      "\n",
      "xi: [1, 1] ; di: 1\n",
      "yi: 1.31553914377\n",
      "di-yi: -0.315539143774\n",
      "new weigth: [ 0.33670055  0.47292825]\n",
      "new bias: 0.316586857323\n",
      "\n",
      "xi: [1, 1] ; di: 1\n",
      "yi: 1.31452699652\n",
      "di-yi: -0.314526996524\n",
      "new weigth: [ 0.34484905  0.46478331]\n",
      "new bias: 0.316178441793\n",
      "\n",
      "Sucess\n"
     ]
    }
   ],
   "source": [
    "while True:\n",
    "    old_wi = wi\n",
    "    old_w0 = w0\n",
    "    \n",
    "    for i in range(len(trainingData)):\n",
    "        xi, di = trainingData[i]\n",
    "        yi = xi[0] * wi[0] + xi[1] * wi[1] + w0\n",
    "        wi = wi + learningRate*(di-yi)*np.array(xi)\n",
    "        w0 = w0 + learningRate*(di-yi)\n",
    "\n",
    "    print(\"xi:\", xi, \"; di:\", di)\n",
    "    print(\"yi:\", yi)\n",
    "    print(\"di-yi:\", di - yi)\n",
    "    print(\"new weigth:\", wi)\n",
    "    print(\"new bias:\", w0)\n",
    "    print()\n",
    "    \n",
    "    if( (abs(old_wi - wi)  < delta).all() and abs(old_w0 - w0) < delta ):\n",
    "        print(\"Sucess\")\n",
    "        break"
   ]
  },
  {
   "cell_type": "code",
   "execution_count": 94,
   "metadata": {},
   "outputs": [
    {
     "data": {
      "image/png": "[encoded data removed]",
      "text/plain": [
       "<matplotlib.figure.Figure at 0x7f0d0f5e7e48>"
      ]
     },
     "metadata": {},
     "output_type": "display_data"
    }
   ],
   "source": [
    "plotPerceptron()"
   ]
  },
  {
   "cell_type": "code",
   "execution_count": null,
   "metadata": {},
   "outputs": [],
   "source": []
  }
 ],
 "metadata": {
  "kernelspec": {
   "display_name": "Python 3",
   "language": "python",
   "name": "python3"
  },
  "language_info": {
   "codemirror_mode": {
    "name": "ipython",
    "version": 3
   },
   "file_extension": ".py",
   "mimetype": "text/x-python",
   "name": "python",
   "nbconvert_exporter": "python",
   "pygments_lexer": "ipython3",
   "version": "3.6.3"
  }
 },
 "nbformat": 4,
 "nbformat_minor": 2
}
