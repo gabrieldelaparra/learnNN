{
 "cells": [
  {
   "cell_type": "markdown",
   "metadata": {},
   "source": [
    "# Reconocimiento de imagenes con YOLO9000\n",
    "**Universidad de Chile**<br>\n",
    "**Facultad de Ciencias, Física y Matemáticas**<br>\n",
    "**Departamento de Ciencias de Computación**<br>\n",
    "**CC5509 - Reconocimiento de Patrones**<br>\n",
    "<br>\n",
    "*Profesores:*<br>\n",
    "**José M. Saavedra R.**<br>\n",
    "**Mauricio Cerda Villablanca**<br>\n",
    "<br>\n",
    "*Ayudante:*<br>\n",
    "**Camila Álvarez I.**<br>\n",
    "<br>\n",
    "*Alumnos:*<br>\n",
    "**Cristobal Dotte**<br>\n",
    "**Gabriel De La Parra**<br>\n",
    "\n",
    "En este proyecto, se trabajó con [YOLO9000](https://pjreddie.com/darknet/yolo/) para hacer detección y clasificación de objetos en imágenes.\n",
    "\n",
    "El [paper](https://arxiv.org/abs/1612.08242) fue escrito por Joseph Redmon y Ali Farhadi en Diciembre del 2016, por lo que se puede considerar como un trabajo en el *state-of-the-art*.\n",
    "\n",
    "YOLO (You Only Look Once) en la versión YOLO9000 propone varias mejoras al sistema YOLO original de los mismos autores. Esta versión lleva el nombre 9000 ya que puede detectar sobre 9000 clases de objetos. Las mejores a esta versión provienen de sugerencias de otros autores y técnicas implementadas por otros sistemas. \n",
    "\n",
    "Uno de los aspectos más importantes de YOLO, es que puede correr a 67FPS con un mAP (*Mean Average Precision*) del 76.8 en VOC 2007. Este resultado es mucho mejor que otras técnicas existentes actualmente y a una velocidad mucho mayor. Los detalles sobre la comparación se pueden encontrar en el Paper.\n",
    "\n",
    "El objetivo de este proyecto será realizar detección sobre carteles de precios en imagenes de frutas y verduras de ferias libres y la vega.\n",
    "\n",
    "## Procedimiento\n",
    "\n",
    "Se realizó el siguiente procedimiento para lograr el reconocimiento y clasificación de las imágenes:\n",
    "\n",
    "1. Construcción del dataset\n",
    "    1. Obtención de imagenes\n",
    "    2. Etiquetado\n",
    "    3. Adaptación de etiquetas\n",
    "2. Entrenamiento\n",
    "    1. Descarga YOLO\n",
    "    2. Compilación\n",
    "    3. Pruebas\n",
    "    4. Archivos de configuración\n",
    "    5. Entrenamiento\n",
    "3. Pruebas\n",
    "    1. Pruebas\n",
    "    2. Resultados\n",
    "4. Conclusiones\n",
    "\n",
    "## Dataset\n",
    "\n",
    "En este proyecto, se trabajará con un dataset generado desde cero para este proyecto. El dataset está compuesto por 878 imágenes.\n",
    "\n",
    "Las imagenes fueron tomadas en la feria de Santiago de Chile y en dos ferias libres\n",
    "\n",
    "A continuación se presenta un sample de algunas de estas fotos."
   ]
  },
  {
   "cell_type": "code",
   "execution_count": 20,
   "metadata": {},
   "outputs": [
    {
     "data": {
      "text/html": [
       "<img style='width: 300px; margin: 2px; float: left; border: 1px solid black;' src='feria labeled/116.jpg' /><img style='width: 300px; margin: 2px; float: left; border: 1px solid black;' src='feria labeled/125.jpg' /><img style='width: 300px; margin: 2px; float: left; border: 1px solid black;' src='feria labeled/248.jpg' /><img style='width: 300px; margin: 2px; float: left; border: 1px solid black;' src='feria labeled/287.jpg' /><img style='width: 300px; margin: 2px; float: left; border: 1px solid black;' src='feria labeled/326.jpg' /><img style='width: 300px; margin: 2px; float: left; border: 1px solid black;' src='feria labeled/363.jpg' /><img style='width: 300px; margin: 2px; float: left; border: 1px solid black;' src='feria labeled/415.jpg' /><img style='width: 300px; margin: 2px; float: left; border: 1px solid black;' src='feria labeled/446.jpg' /><img style='width: 300px; margin: 2px; float: left; border: 1px solid black;' src='feria labeled/51.jpg' /><img style='width: 300px; margin: 2px; float: left; border: 1px solid black;' src='feria labeled/78.jpg' />"
      ],
      "text/plain": [
       "<IPython.core.display.HTML object>"
      ]
     },
     "metadata": {},
     "output_type": "display_data"
    }
   ],
   "source": [
    "from IPython.display import Image, HTML, display\n",
    "from glob import glob\n",
    "imagesList=''.join( [\"<img style='width: 300px; margin: 2px; float: left; border: 1px solid black;' src='%s' />\" % str(s) \n",
    "                 for s in sorted(glob('feria labeled/*.jpg')[1:100:10]) ])\n",
    "display(HTML(imagesList))"
   ]
  },
  {
   "cell_type": "markdown",
   "metadata": {},
   "source": []
  }
 ],
 "metadata": {
  "kernelspec": {
   "display_name": "Python 3",
   "language": "python",
   "name": "python3"
  },
  "language_info": {
   "codemirror_mode": {
    "name": "ipython",
    "version": 3
   },
   "file_extension": ".py",
   "mimetype": "text/x-python",
   "name": "python",
   "nbconvert_exporter": "python",
   "pygments_lexer": "ipython3",
   "version": "3.6.3"
  }
 },
 "nbformat": 4,
 "nbformat_minor": 2
}
