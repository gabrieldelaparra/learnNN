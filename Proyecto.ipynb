{
 "cells": [
  {
   "cell_type": "markdown",
   "metadata": {},
   "source": [
    "# Reconocimiento de imágenes con YOLO9000\n",
    "**Universidad de Chile**<br>\n",
    "**Facultad de Ciencias, Física y Matemáticas**<br>\n",
    "**Departamento de Ciencias de Computación**<br>\n",
    "**CC5509 - Reconocimiento de Patrones**<br>\n",
    "<br>\n",
    "*Profesores:*<br>\n",
    "**José M. Saavedra R.**<br>\n",
    "**Mauricio Cerda Villablanca**<br>\n",
    "<br>\n",
    "*Ayudante:*<br>\n",
    "**Camila Álvarez I.**<br>\n",
    "<br>\n",
    "*Alumnos:*<br>\n",
    "**Cristobal Dotte**<br>\n",
    "**Gabriel De La Parra**<br>\n",
    "\n",
    "## Introducción\n",
    "\n",
    "En este proyecto, se trabajó con [YOLO9000](https://pjreddie.com/darknet/yolo/) para hacer detección y clasificación de objetos en imágenes.\n",
    "\n",
    "El [paper](https://arxiv.org/abs/1612.08242) fue escrito por Joseph Redmon y Ali Farhadi en Diciembre del 2016, por lo que se puede considerar como un trabajo en el *state-of-the-art*.\n",
    "\n",
    "YOLO (You Only Look Once) en la versión YOLO9000 propone varias mejoras al sistema YOLO original de los mismos autores. Esta versión lleva el nombre 9000 ya que puede detectar sobre 9000 clases de objetos. Las mejores a esta versión provienen de sugerencias de otros autores y técnicas implementadas por otros sistemas. \n",
    "\n",
    "Uno de los aspectos más importantes de YOLO, es que puede correr a 67FPS con un mAP (*Mean Average Precision*) del 76.8 en VOC 2007. Este resultado es mucho mejor que otras técnicas existentes actualmente y a una velocidad mucho mayor. Los detalles sobre la comparación se pueden encontrar en el Paper.\n",
    "\n",
    "El objetivo de este proyecto será realizar detección sobre carteles de precios en imágenes de frutas y verduras de ferias libres y la vega.\n",
    "\n",
    "## Procedimiento\n",
    "\n",
    "Se realizó el siguiente procedimiento para lograr el reconocimiento y clasificación de las imágenes:\n",
    "\n",
    "1. Construcción del dataset\n",
    "    1. Obtención de imágenes\n",
    "    2. Preprocesamiento\n",
    "    2. Etiquetado\n",
    "    3. Adaptación de etiquetas\n",
    "2. Entrenamiento\n",
    "    1. Descarga YOLO\n",
    "    2. Compilación\n",
    "    3. Pruebas\n",
    "    4. Archivos de configuración\n",
    "    4. Train y training set\n",
    "    5. Entrenamiento\n",
    "3. Pruebas\n",
    "    1. Pruebas\n",
    "    2. Resultados\n",
    "4. Conclusiones\n",
    "\n",
    "## Dataset\n",
    "\n",
    "En este proyecto, se trabajará con un dataset generado desde cero para este proyecto. El dataset está compuesto por 878 imágenes. Las fotos fueron etiquetadas ocupando la herramienta [LabelImg](https://github.com/tzutalin/labelImg). Dicha herramienta tiene un formato de salida que no es el mismo que requiere YOLO. Fue necesario crear un script para convertir los archivos de salida.\n",
    "\n",
    "### Obtención de imágenes\n",
    "\n",
    "Las imágenes fueron tomadas en la vega y en dos ferias libres de Santiago de Chile.\n",
    "\n",
    "A continuación se presenta un sample de algunas de estas fotos."
   ]
  },
  {
   "cell_type": "code",
   "execution_count": 20,
   "metadata": {},
   "outputs": [
    {
     "data": {
      "text/html": [
       "<img style='width: 300px; margin: 2px; float: left; border: 1px solid black;' src='feria labeled/116.jpg' /><img style='width: 300px; margin: 2px; float: left; border: 1px solid black;' src='feria labeled/125.jpg' /><img style='width: 300px; margin: 2px; float: left; border: 1px solid black;' src='feria labeled/248.jpg' /><img style='width: 300px; margin: 2px; float: left; border: 1px solid black;' src='feria labeled/287.jpg' /><img style='width: 300px; margin: 2px; float: left; border: 1px solid black;' src='feria labeled/326.jpg' /><img style='width: 300px; margin: 2px; float: left; border: 1px solid black;' src='feria labeled/363.jpg' /><img style='width: 300px; margin: 2px; float: left; border: 1px solid black;' src='feria labeled/415.jpg' /><img style='width: 300px; margin: 2px; float: left; border: 1px solid black;' src='feria labeled/446.jpg' /><img style='width: 300px; margin: 2px; float: left; border: 1px solid black;' src='feria labeled/51.jpg' /><img style='width: 300px; margin: 2px; float: left; border: 1px solid black;' src='feria labeled/78.jpg' />"
      ],
      "text/plain": [
       "<IPython.core.display.HTML object>"
      ]
     },
     "metadata": {},
     "output_type": "display_data"
    }
   ],
   "source": [
    "from IPython.display import Image, HTML, display\n",
    "from glob import glob\n",
    "imagesList=''.join( [\"<img style='width: 300px; margin: 2px; float: left; border: 1px solid black;' src='%s' />\" % str(s) \n",
    "                 for s in sorted(glob('feria labeled/*.jpg')[1:100:10]) ])\n",
    "display(HTML(imagesList))"
   ]
  },
  {
   "cell_type": "markdown",
   "metadata": {},
   "source": [
    "## Preprocesamiento\n",
    "\n",
    "Cada imagen tiene originalmente nombres como: `Foto 03-11-17 14 47 04.jpg` y tiene una resolución de `3264x2448`\n",
    "\n",
    "### Resize\n",
    "Si bien la resolución inicial tiene más detalle, no es necesario tanta resolución para entrenar las imagenes, debido a que YOLO hace transformación de las imagenes. Otro problema de trabajar con las imagenes a tan gran resolución, es que copiarlas al servidor ocupa mucho más recursos/tiempo. El set original tiene 2.5gb. El nuevo, 90 mb. \n",
    "\n",
    "Como se verá más adelante, se entrenó con la resolución de `418x418`. Se redujo en tamaño al `20%`, que corresponde a `693x490`.\n",
    "\n",
    "``` bash\n",
    "$ for a in *.jpg; do convert \"$a\" -resize 20% resized/\"$a\"; done\n",
    "```\n",
    "\n",
    "![resize](images/resize.png)\n",
    "\n",
    "### Rename\n",
    "Los nombres de las imagenes no influyen mucho, sin embargo son maś complicados para seleccionar al momento de usarlos para testear. Por lo mismo, se renombraron las imagenes de forma secuencial. El código que se utilizó es el siguiente.\n",
    "\n",
    "``` bash\n",
    "$ ls | cat -n | while read n f; do mv \"$f\" \"$n.jpg\"; done\n",
    "```\n",
    "\n",
    "![rename](images/rename.png)"
   ]
  },
  {
   "cell_type": "markdown",
   "metadata": {},
   "source": [
    "## Etiquetado\n",
    "\n",
    "Se utilizó la herramienta [LabelImg](https://github.com/tzutalin/labelImg) para etiquetar las imagenes. A continuación se presenta una muestra de la interfáz gráfica de la herramienta:\n",
    "\n",
    "![labelimg](images/labelimg.png)\n",
    "\n",
    "Uno de los beneficios de utilizar esta herramienta, es que se pueden utilizar distintas clases para las imágenes. Adicionalmente, la herramienta tiene comandos:\n",
    "- `w`: crear un cuadro\n",
    "- `a`: imagen anterior\n",
    "- `d`: imagen siguiente\n",
    "\n",
    "Por cada imagen, se crea un archivo de formato xml. El archivo tiene el siguiente contenido:"
   ]
  },
  {
   "cell_type": "code",
   "execution_count": 27,
   "metadata": {},
   "outputs": [
    {
     "name": "stdout",
     "output_type": "stream",
     "text": [
      "<annotation>\r\n",
      "\t<folder>feria</folder>\r\n",
      "\t<filename>1.jpg</filename>\r\n",
      "\t<path>/home/clgadel/labeler/feria/1.jpg</path>\r\n",
      "\t<source>\r\n",
      "\t\t<database>Unknown</database>\r\n",
      "\t</source>\r\n",
      "\t<size>\r\n",
      "\t\t<width>653</width>\r\n",
      "\t\t<height>490</height>\r\n",
      "\t\t<depth>3</depth>\r\n",
      "\t</size>\r\n",
      "\t<segmented>0</segmented>\r\n",
      "\t<object>\r\n",
      "\t\t<name>manzana</name>\r\n",
      "\t\t<pose>Unspecified</pose>\r\n",
      "\t\t<truncated>0</truncated>\r\n",
      "\t\t<difficult>0</difficult>\r\n",
      "\t\t<bndbox>\r\n",
      "\t\t\t<xmin>192</xmin>\r\n",
      "\t\t\t<ymin>285</ymin>\r\n",
      "\t\t\t<xmax>227</xmax>\r\n",
      "\t\t\t<ymax>317</ymax>\r\n",
      "\t\t</bndbox>\r\n",
      "\t</object>\r\n"
     ]
    }
   ],
   "source": [
    "!head -25 1.xml"
   ]
  },
  {
   "cell_type": "markdown",
   "metadata": {},
   "source": [
    "## Adaptación de etiquetas\n",
    "\n",
    "Para el procesamiento de las etiquetas utilizaremos la librería [BeautifulSoup](https://www.crummy.com/software/BeautifulSoup/)."
   ]
  },
  {
   "cell_type": "code",
   "execution_count": 28,
   "metadata": {},
   "outputs": [],
   "source": [
    "from bs4 import BeautifulSoup"
   ]
  },
  {
   "cell_type": "markdown",
   "metadata": {},
   "source": [
    "### Lectura de etiquetas"
   ]
  },
  {
   "cell_type": "code",
   "execution_count": 29,
   "metadata": {},
   "outputs": [],
   "source": [
    "soup = BeautifulSoup(open(\"1.xml\", \"r\"), \"xml\")"
   ]
  },
  {
   "cell_type": "markdown",
   "metadata": {},
   "source": [
    "### Preview"
   ]
  },
  {
   "cell_type": "code",
   "execution_count": 34,
   "metadata": {},
   "outputs": [
    {
     "name": "stdout",
     "output_type": "stream",
     "text": [
      "<?xml version=\"1.0\" encoding=\"utf-8\"?>\n",
      "<annotation>\n",
      "<folder>feria</folder>\n",
      "<filename>1.jpg</filename>\n",
      "<path>/home/clgadel/labeler/feria/1.jpg</path>\n",
      "<source>\n",
      "<database>Unknown</database>\n",
      "</source>\n",
      "<size>\n",
      "<width>653</width>\n",
      "<height>490</height>\n",
      "<depth>3</depth>\n",
      "</size>\n",
      "<segmented>0</segmented>\n",
      "<object>\n",
      "<name>manzana</name>\n",
      "<pose>Unspecified</pose>\n",
      "<truncated>0</truncated>\n",
      "<difficult>0</difficult>\n",
      "<bndbox>\n",
      "<xmin>192</xmin>\n",
      "<ymin>285</ymin>\n",
      "<xmax>227</xmax>\n",
      "<ymax>317</ymax>\n",
      "</bndbox>\n",
      "</object>\n",
      "\n"
     ]
    }
   ],
   "source": [
    "print(str(soup)[0:496])"
   ]
  },
  {
   "cell_type": "markdown",
   "metadata": {},
   "source": [
    "### Ubicar Etiquetas"
   ]
  },
  {
   "cell_type": "code",
   "execution_count": 35,
   "metadata": {},
   "outputs": [],
   "source": [
    "objects = soup.find_all(\"object\")"
   ]
  },
  {
   "cell_type": "code",
   "execution_count": 36,
   "metadata": {},
   "outputs": [
    {
     "data": {
      "text/plain": [
       "<object>\n",
       "<name>manzana</name>\n",
       "<pose>Unspecified</pose>\n",
       "<truncated>0</truncated>\n",
       "<difficult>0</difficult>\n",
       "<bndbox>\n",
       "<xmin>202</xmin>\n",
       "<ymin>305</ymin>\n",
       "<xmax>240</xmax>\n",
       "<ymax>340</ymax>\n",
       "</bndbox>\n",
       "</object>"
      ]
     },
     "execution_count": 36,
     "metadata": {},
     "output_type": "execute_result"
    }
   ],
   "source": [
    "objects[1]"
   ]
  },
  {
   "cell_type": "markdown",
   "metadata": {},
   "source": [
    "### Nombre de la etiqueta"
   ]
  },
  {
   "cell_type": "code",
   "execution_count": 37,
   "metadata": {},
   "outputs": [
    {
     "name": "stdout",
     "output_type": "stream",
     "text": [
      "manzana\n"
     ]
    }
   ],
   "source": [
    "obj = objects[0]\n",
    "print(obj.find(\"name\").text)"
   ]
  },
  {
   "cell_type": "markdown",
   "metadata": {},
   "source": [
    "### Coordenadas de la etiqueta"
   ]
  },
  {
   "cell_type": "code",
   "execution_count": 38,
   "metadata": {},
   "outputs": [
    {
     "name": "stdout",
     "output_type": "stream",
     "text": [
      "manzana 192 285\n"
     ]
    }
   ],
   "source": [
    "obj = objects[0]\n",
    "print(obj.find(\"name\").text, obj.bndbox.xmin.text, obj.bndbox.ymin.text)"
   ]
  },
  {
   "cell_type": "markdown",
   "metadata": {},
   "source": [
    "### Tamaño de la imagen"
   ]
  },
  {
   "cell_type": "code",
   "execution_count": 39,
   "metadata": {},
   "outputs": [
    {
     "data": {
      "text/plain": [
       "<size>\n",
       "<width>653</width>\n",
       "<height>490</height>\n",
       "<depth>3</depth>\n",
       "</size>"
      ]
     },
     "execution_count": 39,
     "metadata": {},
     "output_type": "execute_result"
    }
   ],
   "source": [
    "size = soup.annotation.size\n",
    "size"
   ]
  },
  {
   "cell_type": "code",
   "execution_count": 40,
   "metadata": {},
   "outputs": [
    {
     "name": "stdout",
     "output_type": "stream",
     "text": [
      "653 490\n"
     ]
    }
   ],
   "source": [
    "print(size.width.text, size.height.text)"
   ]
  },
  {
   "cell_type": "markdown",
   "metadata": {},
   "source": [
    "### Conversión al formato necesario\n",
    "\n",
    "YOLO necesita de un formato necesario para trabajar. Este formato, según la página debe ser del siguiente tipo:\n",
    "\n",
    "```\n",
    "Generate Labels for VOC\n",
    "\n",
    "Now we need to generate the label files that Darknet uses. Darknet wants a .txt file for each image with a line for each ground truth object in the image that looks like:\n",
    "\n",
    "<object-class> <x> <y> <width> <height>\n",
    "Where x, y, width, and height are relative to the image's width and height.\n",
    "```\n",
    "\n",
    "Existe [un repositorio](https://github.com/Guanghan/darknet/blob/master/scripts/convert.py) para hacer la conversión de las imágenes, pero funciona con otro tipo y fue necesario adaptarlo. A continuación los cambios."
   ]
  },
  {
   "cell_type": "code",
   "execution_count": 45,
   "metadata": {},
   "outputs": [
    {
     "name": "stdout",
     "output_type": "stream",
     "text": [
      "Size:\t\t\t 653 490\n",
      "Size porcentual:\t 0.0015313935681470138 0.0020408163265306124\n",
      "\n",
      "Bounding box:\t\t 192 285 227 317\n",
      "Dimensiones YOLO:\t 0.3208269525267994 0.6142857142857143 0.053598774885145486 0.0653061224489796\n"
     ]
    }
   ],
   "source": [
    "size = soup.annotation.size\n",
    "dw, dh = int(size.width.text), int(size.height.text)\n",
    "print(\"Size:\\t\\t\\t\", dw, dh)\n",
    "dw, dh = 1./int(size.width.text), 1./int(size.height.text)\n",
    "print(\"Size porcentual:\\t\", dw, dh)\n",
    "print()\n",
    "obj = objects[0]\n",
    "print(\"Bounding box:\\t\\t\", obj.bndbox.xmin.text, obj.bndbox.ymin.text, obj.bndbox.xmax.text, obj.bndbox.ymax.text)\n",
    "x, y = (int(obj.bndbox.xmin.text) + int(obj.bndbox.xmax.text))/2, (int(obj.bndbox.ymin.text) + int(obj.bndbox.ymax.text))/2\n",
    "w, h = int(obj.bndbox.xmax.text)-int(obj.bndbox.xmin.text), int(obj.bndbox.ymax.text)-int(obj.bndbox.ymin.text)\n",
    "\n",
    "x = x*dw\n",
    "y = y*dh\n",
    "w = w*dw\n",
    "h = h*dh\n",
    "\n",
    "print(\"Dimensiones YOLO:\\t\", x, y, w, h)"
   ]
  },
  {
   "cell_type": "markdown",
   "metadata": {},
   "source": [
    "### Crear etiquetas"
   ]
  },
  {
   "cell_type": "code",
   "execution_count": 46,
   "metadata": {},
   "outputs": [
    {
     "name": "stdout",
     "output_type": "stream",
     "text": [
      "manzana 0.3208269525267994 0.6142857142857143 0.053598774885145486 0.0653061224489796\n",
      "manzana 0.33843797856049007 0.6581632653061225 0.05819295558958652 0.07142857142857144\n",
      "manzana 0.34915773353751917 0.6948979591836736 0.06125574272588055 0.0673469387755102\n",
      "manzana 0.26339969372128635 0.6948979591836736 0.06738131699846861 0.0673469387755102\n",
      "manzana 0.2840735068912711 0.7459183673469388 0.06278713629402757 0.07959183673469389\n",
      "manzana 0.33843797856049007 0.7622448979591837 0.06431852986217458 0.07142857142857144\n",
      "manzana 0.3973966309341501 0.7326530612244898 0.05972434915773354 0.07346938775510205\n",
      "manzana 0.20444104134762633 0.7438775510204082 0.06584992343032159 0.06326530612244899\n",
      "manzana 0.4004594180704441 0.653061224489796 0.05053598774885146 0.07346938775510205\n",
      "manzana 0.35298621745788666 0.5979591836734695 0.03215926493108729 0.0489795918367347\n",
      "manzana 0.37059724349157736 0.5877551020408164 0.030627871362940276 0.04489795918367347\n",
      "manzana 0.4058192955589587 0.5836734693877551 0.03981623277182236 0.05714285714285715\n",
      "manzana 0.41500765696784075 0.6142857142857143 0.03981623277182236 0.04489795918367347\n",
      "manzana 0.442572741194487 0.6744897959183674 0.042879019908116385 0.05918367346938776\n",
      "manzana 0.45941807044410415 0.6306122448979592 0.033690658499234305 0.0489795918367347\n",
      "manzana 0.47166921898928027 0.5908163265306123 0.02756508422664625 0.04693877551020409\n",
      "manzana 0.495405819295559 0.6081632653061225 0.02909647779479326 0.036734693877551024\n",
      "precio 0.2113323124042879 0.5020408163265306 0.11332312404287903 0.09387755102040818\n",
      "precio 0.47090352220520676 0.5040816326530613 0.10872894333843798 0.1346938775510204\n",
      "precio 0.1416539050535988 0.8867346938775511 0.0781010719754977 0.1653061224489796\n",
      "precio 0.711332312404288 0.3163265306122449 0.1638591117917305 0.1673469387755102\n",
      "precio 0.9609494640122512 0.4744897959183674 0.0781010719754977 0.12040816326530614\n",
      "precio 0.9203675344563553 0.916326530612245 0.15926493108728945 0.15510204081632656\n",
      "precio 0.22511485451761104 0.33571428571428574 0.10413476263399694 0.1163265306122449\n",
      "precio 0.4517611026033691 0.33979591836734696 0.10107197549770292 0.12040816326530614\n",
      "precio 0.34762633996937214 0.4061224489795919 0.08575803981623277 0.10204081632653061\n",
      "precio 0.09571209800918837 0.31938775510204087 0.03828483920367535 0.07551020408163266\n",
      "precio 0.20367534456355285 0.2653061224489796 0.07044410413476264 0.0653061224489796\n",
      "precio 0.36983154670750384 0.24387755102040817 0.06891271056661562 0.09183673469387756\n",
      "platano 0.05130168453292496 0.05918367346938776 0.09035222052067382 0.1142857142857143\n",
      "platano 0.1753445635528331 0.07142857142857144 0.12710566615620214 0.13877551020408163\n",
      "platano 0.4793261868300153 0.047959183673469394 0.07963246554364473 0.09183673469387756\n"
     ]
    }
   ],
   "source": [
    "size = soup.annotation.size\n",
    "dw, dh = int(size.width.text), int(size.height.text)\n",
    "dw, dh = 1./int(size.width.text), 1./int(size.height.text)\n",
    "\n",
    "for obj in objects:\n",
    "    x, y = (int(obj.bndbox.xmin.text) + int(obj.bndbox.xmax.text))/2, (int(obj.bndbox.ymin.text) + int(obj.bndbox.ymax.text))/2\n",
    "    w, h = int(obj.bndbox.xmax.text)-int(obj.bndbox.xmin.text), int(obj.bndbox.ymax.text)-int(obj.bndbox.ymin.text)\n",
    "\n",
    "    x = x*dw\n",
    "    y = y*dh\n",
    "    w = w*dw\n",
    "    h = h*dh\n",
    "    print(obj.find(\"name\").text, x, y, w, h)"
   ]
  },
  {
   "cell_type": "markdown",
   "metadata": {},
   "source": [
    "### Guardar etiquetas"
   ]
  },
  {
   "cell_type": "code",
   "execution_count": 47,
   "metadata": {},
   "outputs": [
    {
     "name": "stdout",
     "output_type": "stream",
     "text": [
      "manzana 0.3208269525267994 0.6142857142857143 0.053598774885145486 0.0653061224489796\r\n",
      "manzana 0.33843797856049007 0.6581632653061225 0.05819295558958652 0.07142857142857144\r\n",
      "manzana 0.34915773353751917 0.6948979591836736 0.06125574272588055 0.0673469387755102\r\n",
      "manzana 0.26339969372128635 0.6948979591836736 0.06738131699846861 0.0673469387755102\r\n",
      "manzana 0.2840735068912711 0.7459183673469388 0.06278713629402757 0.07959183673469389\r\n",
      "manzana 0.33843797856049007 0.7622448979591837 0.06431852986217458 0.07142857142857144\r\n",
      "manzana 0.3973966309341501 0.7326530612244898 0.05972434915773354 0.07346938775510205\r\n",
      "manzana 0.20444104134762633 0.7438775510204082 0.06584992343032159 0.06326530612244899\r\n",
      "manzana 0.4004594180704441 0.653061224489796 0.05053598774885146 0.07346938775510205\r\n",
      "manzana 0.35298621745788666 0.5979591836734695 0.03215926493108729 0.0489795918367347\r\n",
      "manzana 0.37059724349157736 0.5877551020408164 0.030627871362940276 0.04489795918367347\r\n",
      "manzana 0.4058192955589587 0.5836734693877551 0.03981623277182236 0.05714285714285715\r\n",
      "manzana 0.41500765696784075 0.6142857142857143 0.03981623277182236 0.04489795918367347\r\n",
      "manzana 0.442572741194487 0.6744897959183674 0.042879019908116385 0.05918367346938776\r\n",
      "manzana 0.45941807044410415 0.6306122448979592 0.033690658499234305 0.0489795918367347\r\n",
      "manzana 0.47166921898928027 0.5908163265306123 0.02756508422664625 0.04693877551020409\r\n",
      "manzana 0.495405819295559 0.6081632653061225 0.02909647779479326 0.036734693877551024\r\n",
      "precio 0.2113323124042879 0.5020408163265306 0.11332312404287903 0.09387755102040818\r\n",
      "precio 0.47090352220520676 0.5040816326530613 0.10872894333843798 0.1346938775510204\r\n",
      "precio 0.1416539050535988 0.8867346938775511 0.0781010719754977 0.1653061224489796\r\n",
      "precio 0.711332312404288 0.3163265306122449 0.1638591117917305 0.1673469387755102\r\n",
      "precio 0.9609494640122512 0.4744897959183674 0.0781010719754977 0.12040816326530614\r\n",
      "precio 0.9203675344563553 0.916326530612245 0.15926493108728945 0.15510204081632656\r\n",
      "precio 0.22511485451761104 0.33571428571428574 0.10413476263399694 0.1163265306122449\r\n",
      "precio 0.4517611026033691 0.33979591836734696 0.10107197549770292 0.12040816326530614\r\n",
      "precio 0.34762633996937214 0.4061224489795919 0.08575803981623277 0.10204081632653061\r\n",
      "precio 0.09571209800918837 0.31938775510204087 0.03828483920367535 0.07551020408163266\r\n",
      "precio 0.20367534456355285 0.2653061224489796 0.07044410413476264 0.0653061224489796\r\n",
      "precio 0.36983154670750384 0.24387755102040817 0.06891271056661562 0.09183673469387756\r\n",
      "platano 0.05130168453292496 0.05918367346938776 0.09035222052067382 0.1142857142857143\r\n",
      "platano 0.1753445635528331 0.07142857142857144 0.12710566615620214 0.13877551020408163\r\n",
      "platano 0.4793261868300153 0.047959183673469394 0.07963246554364473 0.09183673469387756\r\n"
     ]
    }
   ],
   "source": [
    "with open(\"1.txt\", \"w\") as f: \n",
    "    for obj in objects:\n",
    "        x, y = (int(obj.bndbox.xmin.text) + int(obj.bndbox.xmax.text))/2, (int(obj.bndbox.ymin.text) + int(obj.bndbox.ymax.text))/2\n",
    "        w, h = int(obj.bndbox.xmax.text)-int(obj.bndbox.xmin.text), int(obj.bndbox.ymax.text)-int(obj.bndbox.ymin.text)\n",
    "\n",
    "        x = x*dw\n",
    "        y = y*dh\n",
    "        w = w*dw\n",
    "        h = h*dh\n",
    "        f.write(\" \".join((obj.find(\"name\").text, str(x), str(y), str(w), str(h))))\n",
    "        f.write(\"\\n\")\n",
    "        \n",
    "!cat 1.txt"
   ]
  },
  {
   "cell_type": "markdown",
   "metadata": {},
   "source": [
    "### Archivos XML"
   ]
  },
  {
   "cell_type": "code",
   "execution_count": 48,
   "metadata": {},
   "outputs": [],
   "source": [
    "import os"
   ]
  },
  {
   "cell_type": "code",
   "execution_count": 49,
   "metadata": {},
   "outputs": [
    {
     "data": {
      "text/plain": [
       "['163.xml',\n",
       " '156.xml',\n",
       " '166.xml',\n",
       " '236.xml',\n",
       " '47.xml',\n",
       " '272.xml',\n",
       " '134.xml',\n",
       " '372.xml',\n",
       " '25.xml',\n",
       " '385.xml']"
      ]
     },
     "execution_count": 49,
     "metadata": {},
     "output_type": "execute_result"
    }
   ],
   "source": [
    "xml_files = [f for f in os.listdir(\"labels\") if f.endswith('.xml')]\n",
    "xml_files[0:10]"
   ]
  },
  {
   "cell_type": "markdown",
   "metadata": {},
   "source": [
    "### Todos a TXT"
   ]
  },
  {
   "cell_type": "code",
   "execution_count": 50,
   "metadata": {},
   "outputs": [],
   "source": [
    "xml_files = [f for f in os.listdir(\"labels\") if f.endswith('.xml')]\n",
    "for xml_file in xml_files:\n",
    "    soup = BeautifulSoup(open(\"labels/\"+xml_file, \"r\"), \"xml\")\n",
    "    size = soup.annotation.size\n",
    "    dw, dh = int(size.width.text), int(size.height.text)\n",
    "    dw, dh = 1./int(size.width.text), 1./int(size.height.text)\n",
    "    \n",
    "    objects = soup.find_all(\"object\")\n",
    "    output_file = xml_file.replace(\".xml\", \".txt\")\n",
    "    with open(\"txt_labels/\"+output_file, \"w\") as f: \n",
    "        for obj in objects:\n",
    "            x, y = (int(obj.bndbox.xmin.text) + int(obj.bndbox.xmax.text))/2, (int(obj.bndbox.ymin.text) + int(obj.bndbox.ymax.text))/2\n",
    "            w, h = int(obj.bndbox.xmax.text)-int(obj.bndbox.xmin.text), int(obj.bndbox.ymax.text)-int(obj.bndbox.ymin.text)\n",
    "\n",
    "            x = x*dw\n",
    "            y = y*dh\n",
    "            w = w*dw\n",
    "            h = h*dh\n",
    "            f.write(\" \".join((\"0\", str(x), str(y), str(w), str(h))))\n",
    "            f.write(\"\\n\")"
   ]
  },
  {
   "cell_type": "markdown",
   "metadata": {},
   "source": [
    "## Entrenamiento"
   ]
  },
  {
   "cell_type": "code",
   "execution_count": null,
   "metadata": {},
   "outputs": [],
   "source": []
  }
 ],
 "metadata": {
  "kernelspec": {
   "display_name": "Python 3",
   "language": "python",
   "name": "python3"
  },
  "language_info": {
   "codemirror_mode": {
    "name": "ipython",
    "version": 3
   },
   "file_extension": ".py",
   "mimetype": "text/x-python",
   "name": "python",
   "nbconvert_exporter": "python",
   "pygments_lexer": "ipython3",
   "version": "3.6.3"
  }
 },
 "nbformat": 4,
 "nbformat_minor": 2
}
