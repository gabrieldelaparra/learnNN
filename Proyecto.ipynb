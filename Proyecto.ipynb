{
 "cells": [
  {
   "cell_type": "markdown",
   "metadata": {},
   "source": [
    "# Reconocimiento de imágenes con YOLO9000\n",
    "**Universidad de Chile**<br>\n",
    "**Facultad de Ciencias, Física y Matemáticas**<br>\n",
    "**Departamento de Ciencias de Computación**<br>\n",
    "**CC5509 - Reconocimiento de Patrones**<br>\n",
    "<br>\n",
    "*Profesores:*<br>\n",
    "**José M. Saavedra R.**<br>\n",
    "**Mauricio Cerda Villablanca**<br>\n",
    "<br>\n",
    "*Ayudante:*<br>\n",
    "**Camila Álvarez I.**<br>\n",
    "<br>\n",
    "*Alumnos:*<br>\n",
    "**Cristobal Dotte**<br>\n",
    "**Gabriel De La Parra**<br>\n",
    "\n",
    "## Introducción\n",
    "\n",
    "En este proyecto, se trabajó con [YOLO9000](https://pjreddie.com/darknet/yolo/) para hacer detección y clasificación de objetos en imágenes.\n",
    "\n",
    "El [paper](https://arxiv.org/abs/1612.08242) fue escrito por Joseph Redmon y Ali Farhadi en Diciembre del 2016, por lo que se puede considerar como un trabajo en el *state-of-the-art*.\n",
    "\n",
    "YOLO (You Only Look Once) en la versión YOLO9000 propone varias mejoras al sistema YOLO original de los mismos autores. Esta versión lleva el nombre 9000 ya que puede detectar sobre 9000 clases de objetos. Las mejores a esta versión provienen de sugerencias de otros autores y técnicas implementadas por otros sistemas. \n",
    "\n",
    "Uno de los aspectos más importantes de YOLO, es que puede correr a 67FPS con un mAP (*Mean Average Precision*) del 76.8 en VOC 2007. Este resultado es mucho mejor que otras técnicas existentes actualmente y a una velocidad mucho mayor. Los detalles sobre la comparación se pueden encontrar en el Paper.\n",
    "\n",
    "El objetivo de este proyecto será realizar detección sobre carteles de precios en imágenes de frutas y verduras de ferias libres y la vega.\n",
    "\n",
    "## Procedimiento\n",
    "\n",
    "Se realizó el siguiente procedimiento para lograr el reconocimiento y clasificación de las imágenes:\n",
    "\n",
    "1. Construcción del dataset\n",
    "    1. Obtención de imágenes\n",
    "    2. Preprocesamiento\n",
    "    2. Etiquetado\n",
    "    3. Adaptación de etiquetas\n",
    "2. Entrenamiento\n",
    "    1. Descarga YOLO\n",
    "    2. Compilación\n",
    "    3. Pruebas\n",
    "    4. Archivos de configuración\n",
    "    4. Train y training set\n",
    "    5. Entrenamiento\n",
    "3. Pruebas\n",
    "    1. Pruebas\n",
    "    2. Resultados\n",
    "4. Conclusiones\n",
    "\n",
    "## Dataset\n",
    "\n",
    "En este proyecto, se trabajará con un dataset generado desde cero para este proyecto. El dataset está compuesto por 878 imágenes. Las fotos fueron etiquetadas ocupando la herramienta [LabelImg](https://github.com/tzutalin/labelImg). Dicha herramienta tiene un formato de salida que no es el mismo que requiere YOLO. Fue necesario crear un script para convertir los archivos de salida.\n",
    "\n",
    "### Obtención de imágenes\n",
    "\n",
    "Las imágenes fueron tomadas en la vega y en dos ferias libres de Santiago de Chile.\n",
    "\n",
    "A continuación se presenta un sample de algunas de estas fotos."
   ]
  },
  {
   "cell_type": "code",
   "execution_count": 20,
   "metadata": {},
   "outputs": [
    {
     "data": {
      "text/html": [
       "<img style='width: 300px; margin: 2px; float: left; border: 1px solid black;' src='feria labeled/116.jpg' /><img style='width: 300px; margin: 2px; float: left; border: 1px solid black;' src='feria labeled/125.jpg' /><img style='width: 300px; margin: 2px; float: left; border: 1px solid black;' src='feria labeled/248.jpg' /><img style='width: 300px; margin: 2px; float: left; border: 1px solid black;' src='feria labeled/287.jpg' /><img style='width: 300px; margin: 2px; float: left; border: 1px solid black;' src='feria labeled/326.jpg' /><img style='width: 300px; margin: 2px; float: left; border: 1px solid black;' src='feria labeled/363.jpg' /><img style='width: 300px; margin: 2px; float: left; border: 1px solid black;' src='feria labeled/415.jpg' /><img style='width: 300px; margin: 2px; float: left; border: 1px solid black;' src='feria labeled/446.jpg' /><img style='width: 300px; margin: 2px; float: left; border: 1px solid black;' src='feria labeled/51.jpg' /><img style='width: 300px; margin: 2px; float: left; border: 1px solid black;' src='feria labeled/78.jpg' />"
      ],
      "text/plain": [
       "<IPython.core.display.HTML object>"
      ]
     },
     "metadata": {},
     "output_type": "display_data"
    }
   ],
   "source": [
    "from IPython.display import Image, HTML, display\n",
    "from glob import glob\n",
    "imagesList=''.join( [\"<img style='width: 300px; margin: 2px; float: left; border: 1px solid black;' src='%s' />\" % str(s) \n",
    "                 for s in sorted(glob('feria labeled/*.jpg')[1:100:10]) ])\n",
    "display(HTML(imagesList))"
   ]
  },
  {
   "cell_type": "markdown",
   "metadata": {},
   "source": [
    "## Preprocesamiento\n",
    "\n",
    "Cada imagen tiene originalmente nombres como: `Foto 03-11-17 14 47 04.jpg` y tiene una resolución de `3264x2448`\n",
    "\n",
    "### Resize\n",
    "Si bien la resolución inicial tiene más detalle, no es necesario tanta resolución para entrenar las imagenes, debido a que YOLO hace transformación de las imagenes. Otro problema de trabajar con las imagenes a tan gran resolución, es que copiarlas al servidor ocupa mucho más recursos/tiempo. El set original tiene 2.5gb. El nuevo, 90 mb. \n",
    "\n",
    "Como se verá más adelante, se entrenó con la resolución de `418x418`. Se redujo en tamaño al `20%`, que corresponde a `693x490`.\n",
    "\n",
    "``` bash\n",
    "$ for a in *.jpg; do convert \"$a\" -resize 20% resized/\"$a\"; done\n",
    "```\n",
    "\n",
    "![resize](images/resize.png)\n",
    "\n",
    "### Rename\n",
    "Los nombres de las imagenes no influyen mucho, sin embargo son maś complicados para seleccionar al momento de usarlos para testear. Por lo mismo, se renombraron las imagenes de forma secuencial. El código que se utilizó es el siguiente.\n",
    "\n",
    "``` bash\n",
    "$ ls | cat -n | while read n f; do mv \"$f\" \"$n.jpg\"; done\n",
    "```\n",
    "\n",
    "![rename](images/rename.png)"
   ]
  },
  {
   "cell_type": "markdown",
   "metadata": {},
   "source": [
    "## Etiquetado\n",
    "\n",
    "Se utilizó la herramienta [LabelImg](https://github.com/tzutalin/labelImg) para etiquetar las imagenes. A continuación se presenta una muestra de la interfáz gráfica de la herramienta:\n",
    "\n",
    "![labelimg](images/labelimg.png)\n",
    "\n",
    "Uno de los beneficios de utilizar esta herramienta, es que se pueden utilizar distintas clases para las imágenes. Adicionalmente, la herramienta tiene comandos:\n",
    "- `w`: crear un cuadro\n",
    "- `a`: imagen anterior\n",
    "- `d`: imagen siguiente\n",
    "\n",
    "Por cada imagen, se crea un archivo de formato xml. El archivo tiene el siguiente contenido:"
   ]
  },
  {
   "cell_type": "code",
   "execution_count": 27,
   "metadata": {},
   "outputs": [
    {
     "name": "stdout",
     "output_type": "stream",
     "text": [
      "<annotation>\r\n",
      "\t<folder>feria</folder>\r\n",
      "\t<filename>1.jpg</filename>\r\n",
      "\t<path>/home/clgadel/labeler/feria/1.jpg</path>\r\n",
      "\t<source>\r\n",
      "\t\t<database>Unknown</database>\r\n",
      "\t</source>\r\n",
      "\t<size>\r\n",
      "\t\t<width>653</width>\r\n",
      "\t\t<height>490</height>\r\n",
      "\t\t<depth>3</depth>\r\n",
      "\t</size>\r\n",
      "\t<segmented>0</segmented>\r\n",
      "\t<object>\r\n",
      "\t\t<name>manzana</name>\r\n",
      "\t\t<pose>Unspecified</pose>\r\n",
      "\t\t<truncated>0</truncated>\r\n",
      "\t\t<difficult>0</difficult>\r\n",
      "\t\t<bndbox>\r\n",
      "\t\t\t<xmin>192</xmin>\r\n",
      "\t\t\t<ymin>285</ymin>\r\n",
      "\t\t\t<xmax>227</xmax>\r\n",
      "\t\t\t<ymax>317</ymax>\r\n",
      "\t\t</bndbox>\r\n",
      "\t</object>\r\n"
     ]
    }
   ],
   "source": [
    "!head -25 1.xml"
   ]
  },
  {
   "cell_type": "code",
   "execution_count": null,
   "metadata": {},
   "outputs": [],
   "source": []
  }
 ],
 "metadata": {
  "kernelspec": {
   "display_name": "Python 3",
   "language": "python",
   "name": "python3"
  },
  "language_info": {
   "codemirror_mode": {
    "name": "ipython",
    "version": 3
   },
   "file_extension": ".py",
   "mimetype": "text/x-python",
   "name": "python",
   "nbconvert_exporter": "python",
   "pygments_lexer": "ipython3",
   "version": "3.6.3"
  }
 },
 "nbformat": 4,
 "nbformat_minor": 2
}
