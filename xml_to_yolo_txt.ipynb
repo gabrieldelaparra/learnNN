{
 "cells": [
  {
   "cell_type": "markdown",
   "metadata": {},
   "source": [
    "# Imports"
   ]
  },
  {
   "cell_type": "code",
   "execution_count": 8,
   "metadata": {},
   "outputs": [
    {
     "name": "stdout",
     "output_type": "stream",
     "text": [
      "Collecting beautifulsoup4\r\n",
      "  Using cached beautifulsoup4-4.6.0-py3-none-any.whl\r\n",
      "Installing collected packages: beautifulsoup4\r\n",
      "Successfully installed beautifulsoup4-4.6.0\r\n"
     ]
    }
   ],
   "source": [
    "#!pip install beautifulsoup4"
   ]
  },
  {
   "cell_type": "code",
   "execution_count": 9,
   "metadata": {},
   "outputs": [],
   "source": [
    "from bs4 import BeautifulSoup"
   ]
  },
  {
   "cell_type": "markdown",
   "metadata": {},
   "source": [
    "# Read File"
   ]
  },
  {
   "cell_type": "code",
   "execution_count": 10,
   "metadata": {},
   "outputs": [],
   "source": [
    "soup = BeautifulSoup(open(\"1.xml\", \"r\"), \"xml\")"
   ]
  },
  {
   "cell_type": "markdown",
   "metadata": {},
   "source": [
    "## Preview"
   ]
  },
  {
   "cell_type": "code",
   "execution_count": 13,
   "metadata": {},
   "outputs": [
    {
     "name": "stdout",
     "output_type": "stream",
     "text": [
      "<?xml version=\"1.0\" encoding=\"utf-8\"?>\n",
      "<annotation>\n",
      "<folder>feria</folder>\n",
      "<filename>1.jpg</filename\n"
     ]
    }
   ],
   "source": [
    "print(str(soup)[0:100])"
   ]
  },
  {
   "cell_type": "markdown",
   "metadata": {},
   "source": [
    "# Find all labels"
   ]
  },
  {
   "cell_type": "code",
   "execution_count": 21,
   "metadata": {},
   "outputs": [],
   "source": [
    "objects = soup.find_all(\"object\")"
   ]
  },
  {
   "cell_type": "markdown",
   "metadata": {},
   "source": [
    "## Preview"
   ]
  },
  {
   "cell_type": "code",
   "execution_count": 22,
   "metadata": {},
   "outputs": [
    {
     "data": {
      "text/plain": [
       "<object>\n",
       "<name>manzana</name>\n",
       "<pose>Unspecified</pose>\n",
       "<truncated>0</truncated>\n",
       "<difficult>0</difficult>\n",
       "<bndbox>\n",
       "<xmin>202</xmin>\n",
       "<ymin>305</ymin>\n",
       "<xmax>240</xmax>\n",
       "<ymax>340</ymax>\n",
       "</bndbox>\n",
       "</object>"
      ]
     },
     "execution_count": 22,
     "metadata": {},
     "output_type": "execute_result"
    }
   ],
   "source": [
    "objects[1]"
   ]
  },
  {
   "cell_type": "markdown",
   "metadata": {},
   "source": [
    "# Label Name"
   ]
  },
  {
   "cell_type": "code",
   "execution_count": 35,
   "metadata": {},
   "outputs": [
    {
     "name": "stdout",
     "output_type": "stream",
     "text": [
      "manzana\n"
     ]
    }
   ],
   "source": [
    "obj = objects[0]\n",
    "print(obj.find(\"name\").text)"
   ]
  },
  {
   "cell_type": "markdown",
   "metadata": {},
   "source": [
    "# Label X, Y"
   ]
  },
  {
   "cell_type": "code",
   "execution_count": 37,
   "metadata": {},
   "outputs": [
    {
     "name": "stdout",
     "output_type": "stream",
     "text": [
      "manzana 192 285\n"
     ]
    }
   ],
   "source": [
    "obj = objects[0]\n",
    "print(obj.find(\"name\").text, obj.bndbox.xmin.text, obj.bndbox.ymin.text)"
   ]
  },
  {
   "cell_type": "code",
   "execution_count": 64,
   "metadata": {},
   "outputs": [
    {
     "data": {
      "text/plain": [
       "<size>\n",
       "<width>653</width>\n",
       "<height>490</height>\n",
       "<depth>3</depth>\n",
       "</size>"
      ]
     },
     "execution_count": 64,
     "metadata": {},
     "output_type": "execute_result"
    }
   ],
   "source": [
    "size = soup.annotation.size\n",
    "size"
   ]
  },
  {
   "cell_type": "code",
   "execution_count": 67,
   "metadata": {},
   "outputs": [
    {
     "name": "stdout",
     "output_type": "stream",
     "text": [
      "653 490\n"
     ]
    }
   ],
   "source": [
    "print(size.width.text, size.height.text)"
   ]
  },
  {
   "cell_type": "markdown",
   "metadata": {},
   "source": [
    "[Source](https://github.com/Guanghan/darknet/blob/master/scripts/convert.py)"
   ]
  },
  {
   "cell_type": "code",
   "execution_count": 75,
   "metadata": {},
   "outputs": [
    {
     "name": "stdout",
     "output_type": "stream",
     "text": [
      "653 490\n",
      "0.0015313935681470138 0.0020408163265306124\n",
      "\n",
      "237 204 341 312\n",
      "0.442572741194487 0.526530612244898 0.15926493108728945 0.22040816326530616\n"
     ]
    }
   ],
   "source": [
    "size = soup.annotation.size\n",
    "dw, dh = int(size.width.text), int(size.height.text)\n",
    "print(dw, dh)\n",
    "dw, dh = 1./int(size.width.text), 1./int(size.height.text)\n",
    "print(dw, dh)\n",
    "print()\n",
    "obj = objects[0]\n",
    "print(obj.bndbox.xmin.text, obj.bndbox.ymin.text, obj.bndbox.xmax.text, obj.bndbox.ymax.text)\n",
    "x, y = (int(obj.bndbox.xmin.text) + int(obj.bndbox.xmax.text))/2, (int(obj.bndbox.ymin.text) + int(obj.bndbox.ymax.text))/2\n",
    "w, h = int(obj.bndbox.xmax.text)-int(obj.bndbox.xmin.text), int(obj.bndbox.ymax.text)-int(obj.bndbox.ymin.text)\n",
    "\n",
    "x = x*dw\n",
    "y = y*dh\n",
    "w = w*dw\n",
    "h = h*dh\n",
    "\n",
    "print(x, y, w, h)"
   ]
  },
  {
   "cell_type": "markdown",
   "metadata": {},
   "source": [
    "# File Labels"
   ]
  },
  {
   "cell_type": "code",
   "execution_count": 77,
   "metadata": {},
   "outputs": [
    {
     "name": "stdout",
     "output_type": "stream",
     "text": [
      "precio 0.442572741194487 0.526530612244898 0.15926493108728945 0.22040816326530616\n",
      "precio 0.5696784073506892 0.12244897959183675 0.16539050535987748 0.20408163265306123\n",
      "precio 0.7595712098009189 0.3734693877551021 0.13782542113323124 0.20816326530612247\n",
      "precio 0.9594180704441042 0.5285714285714286 0.08116385911179173 0.28571428571428575\n"
     ]
    }
   ],
   "source": [
    "size = soup.annotation.size\n",
    "dw, dh = int(size.width.text), int(size.height.text)\n",
    "dw, dh = 1./int(size.width.text), 1./int(size.height.text)\n",
    "\n",
    "for obj in objects:\n",
    "    x, y = (int(obj.bndbox.xmin.text) + int(obj.bndbox.xmax.text))/2, (int(obj.bndbox.ymin.text) + int(obj.bndbox.ymax.text))/2\n",
    "    w, h = int(obj.bndbox.xmax.text)-int(obj.bndbox.xmin.text), int(obj.bndbox.ymax.text)-int(obj.bndbox.ymin.text)\n",
    "\n",
    "    x = x*dw\n",
    "    y = y*dh\n",
    "    w = w*dw\n",
    "    h = h*dh\n",
    "    print(obj.find(\"name\").text, x, y, w, h)"
   ]
  },
  {
   "cell_type": "markdown",
   "metadata": {},
   "source": [
    "# Save Labels"
   ]
  },
  {
   "cell_type": "code",
   "execution_count": 79,
   "metadata": {},
   "outputs": [
    {
     "name": "stdout",
     "output_type": "stream",
     "text": [
      "precio 0.442572741194487 0.526530612244898 0.15926493108728945 0.22040816326530616\r\n",
      "precio 0.5696784073506892 0.12244897959183675 0.16539050535987748 0.20408163265306123\r\n",
      "precio 0.7595712098009189 0.3734693877551021 0.13782542113323124 0.20816326530612247\r\n",
      "precio 0.9594180704441042 0.5285714285714286 0.08116385911179173 0.28571428571428575\r\n"
     ]
    }
   ],
   "source": [
    "with open(\"1.txt\", \"w\") as f: \n",
    "    for obj in objects:\n",
    "        x, y = (int(obj.bndbox.xmin.text) + int(obj.bndbox.xmax.text))/2, (int(obj.bndbox.ymin.text) + int(obj.bndbox.ymax.text))/2\n",
    "        w, h = int(obj.bndbox.xmax.text)-int(obj.bndbox.xmin.text), int(obj.bndbox.ymax.text)-int(obj.bndbox.ymin.text)\n",
    "\n",
    "        x = x*dw\n",
    "        y = y*dh\n",
    "        w = w*dw\n",
    "        h = h*dh\n",
    "        f.write(\" \".join((obj.find(\"name\").text, str(x), str(y), str(w), str(h))))\n",
    "        f.write(\"\\n\")\n",
    "        \n",
    "!cat 1.txt"
   ]
  },
  {
   "cell_type": "markdown",
   "metadata": {},
   "source": [
    "# Get all XML Files"
   ]
  },
  {
   "cell_type": "code",
   "execution_count": 47,
   "metadata": {},
   "outputs": [],
   "source": [
    "import os"
   ]
  },
  {
   "cell_type": "code",
   "execution_count": 50,
   "metadata": {},
   "outputs": [
    {
     "data": {
      "text/plain": [
       "['163.xml',\n",
       " '156.xml',\n",
       " '166.xml',\n",
       " '236.xml',\n",
       " '47.xml',\n",
       " '272.xml',\n",
       " '134.xml',\n",
       " '372.xml',\n",
       " '25.xml',\n",
       " '385.xml']"
      ]
     },
     "execution_count": 50,
     "metadata": {},
     "output_type": "execute_result"
    }
   ],
   "source": [
    "xml_files = [f for f in os.listdir(\"labels\") if f.endswith('.xml')]\n",
    "xml_files[0:10]"
   ]
  },
  {
   "cell_type": "markdown",
   "metadata": {},
   "source": [
    "# Todos a TXT"
   ]
  },
  {
   "cell_type": "code",
   "execution_count": 85,
   "metadata": {},
   "outputs": [],
   "source": [
    "xml_files = [f for f in os.listdir(\"labels\") if f.endswith('.xml')]\n",
    "for xml_file in xml_files:\n",
    "    soup = BeautifulSoup(open(\"labels/\"+xml_file, \"r\"), \"xml\")\n",
    "    size = soup.annotation.size\n",
    "    dw, dh = int(size.width.text), int(size.height.text)\n",
    "    dw, dh = 1./int(size.width.text), 1./int(size.height.text)\n",
    "    \n",
    "    objects = soup.find_all(\"object\")\n",
    "    output_file = xml_file.replace(\".xml\", \".txt\")\n",
    "    with open(\"txt_labels/\"+output_file, \"w\") as f: \n",
    "        for obj in objects:\n",
    "            x, y = (int(obj.bndbox.xmin.text) + int(obj.bndbox.xmax.text))/2, (int(obj.bndbox.ymin.text) + int(obj.bndbox.ymax.text))/2\n",
    "            w, h = int(obj.bndbox.xmax.text)-int(obj.bndbox.xmin.text), int(obj.bndbox.ymax.text)-int(obj.bndbox.ymin.text)\n",
    "\n",
    "            x = x*dw\n",
    "            y = y*dh\n",
    "            w = w*dw\n",
    "            h = h*dh\n",
    "            f.write(\" \".join((\"0\", str(x), str(y), str(w), str(h))))\n",
    "            f.write(\"\\n\")"
   ]
  },
  {
   "cell_type": "code",
   "execution_count": null,
   "metadata": {},
   "outputs": [],
   "source": []
  }
 ],
 "metadata": {
  "kernelspec": {
   "display_name": "Python 3",
   "language": "python",
   "name": "python3"
  },
  "language_info": {
   "codemirror_mode": {
    "name": "ipython",
    "version": 3
   },
   "file_extension": ".py",
   "mimetype": "text/x-python",
   "name": "python",
   "nbconvert_exporter": "python",
   "pygments_lexer": "ipython3",
   "version": "3.6.3"
  }
 },
 "nbformat": 4,
 "nbformat_minor": 2
}
